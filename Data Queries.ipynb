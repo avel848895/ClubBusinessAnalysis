{
 "cells": [
  {
   "cell_type": "markdown",
   "metadata": {},
   "source": [
    "# Country Club Analysis with SQL "
   ]
  },
  {
   "cell_type": "markdown",
   "metadata": {},
   "source": [
    "Our new country club has been open for 3 months! It's time to analyze the data from our first quarter and evaulate the state of the business. "
   ]
  },
  {
   "cell_type": "code",
   "execution_count": 1,
   "metadata": {},
   "outputs": [],
   "source": [
    "# Import packages\n",
    "\n",
    "import pandas as pd\n",
    "import sqlite3"
   ]
  },
  {
   "cell_type": "code",
   "execution_count": 2,
   "metadata": {},
   "outputs": [],
   "source": [
    "# Connect to database\n",
    "\n",
    "conn = sqlite3.connect(\"country_club_database.db\")\n",
    "cur = conn.cursor() "
   ]
  },
  {
   "cell_type": "code",
   "execution_count": 3,
   "metadata": {},
   "outputs": [
    {
     "name": "stdout",
     "output_type": "stream",
     "text": [
      "The following tables are in this database:\n",
      "Bookings\n",
      "Facilities\n",
      "Members\n"
     ]
    }
   ],
   "source": [
    "# View all tables in database\n",
    "\n",
    "tables = cur.execute(\"SELECT name FROM sqlite_master WHERE type = 'table'\").fetchall()\n",
    "\n",
    "print(f'The following tables are in this database:')\n",
    "for i in tables:\n",
    "    print(i[0])\n"
   ]
  },
  {
   "cell_type": "markdown",
   "metadata": {},
   "source": [
    "Let's examine our  3 tables:"
   ]
  },
  {
   "cell_type": "code",
   "execution_count": 4,
   "metadata": {},
   "outputs": [
    {
     "name": "stdout",
     "output_type": "stream",
     "text": [
      "   facid             name  membercost  guestcost  initialoutlay  \\\n",
      "0      0   Tennis Court 1         5.0       25.0          10000   \n",
      "1      1   Tennis Court 2         5.0       25.0           8000   \n",
      "2      2  Badminton Court         0.0       15.5           4000   \n",
      "3      3     Table Tennis         0.0        5.0            320   \n",
      "4      4   Massage Room 1         9.9       80.0           4000   \n",
      "\n",
      "   monthlymaintenance  \n",
      "0                 200  \n",
      "1                 200  \n",
      "2                  50  \n",
      "3                  10  \n",
      "4                3000  \n"
     ]
    },
    {
     "name": "stderr",
     "output_type": "stream",
     "text": [
      "C:\\Users\\avel8\\AppData\\Local\\Temp\\ipykernel_17608\\2171247462.py:8: FutureWarning: this method is deprecated in favour of `Styler.hide(axis='index')`\n",
      "  df_facil.style.hide_index()\n"
     ]
    }
   ],
   "source": [
    "# The facilities table\n",
    "\n",
    "query = ''' SELECT *\n",
    "            FROM facilities;\n",
    "        '''\n",
    "\n",
    "df_facil = pd.read_sql_query(query, conn)\n",
    "df_facil.style.hide_index()\n",
    "# df_facil.head()\n",
    "print(df_facil.head())"
   ]
  },
  {
   "cell_type": "code",
   "execution_count": 5,
   "metadata": {},
   "outputs": [
    {
     "name": "stdout",
     "output_type": "stream",
     "text": [
      "<class 'pandas.core.frame.DataFrame'>\n",
      "RangeIndex: 9 entries, 0 to 8\n",
      "Data columns (total 6 columns):\n",
      " #   Column              Non-Null Count  Dtype  \n",
      "---  ------              --------------  -----  \n",
      " 0   facid               9 non-null      int64  \n",
      " 1   name                9 non-null      object \n",
      " 2   membercost          9 non-null      float64\n",
      " 3   guestcost           9 non-null      float64\n",
      " 4   initialoutlay       9 non-null      int64  \n",
      " 5   monthlymaintenance  9 non-null      int64  \n",
      "dtypes: float64(2), int64(3), object(1)\n",
      "memory usage: 560.0+ bytes\n"
     ]
    }
   ],
   "source": [
    "df_facil.info()"
   ]
  },
  {
   "cell_type": "code",
   "execution_count": 6,
   "metadata": {},
   "outputs": [
    {
     "name": "stdout",
     "output_type": "stream",
     "text": [
      "   bookid  facid  memid            starttime  slots\n",
      "0       0      3      1  2012-07-03 11:00:00      2\n",
      "1       1      4      1  2012-07-03 08:00:00      2\n",
      "2       2      6      0  2012-07-03 18:00:00      2\n",
      "3       3      7      1  2012-07-03 19:00:00      2\n",
      "4       4      8      1  2012-07-03 10:00:00      1\n"
     ]
    },
    {
     "name": "stderr",
     "output_type": "stream",
     "text": [
      "C:\\Users\\avel8\\AppData\\Local\\Temp\\ipykernel_17608\\2334768658.py:8: FutureWarning: this method is deprecated in favour of `Styler.hide(axis='index')`\n",
      "  df_Booking.style.hide_index()\n"
     ]
    }
   ],
   "source": [
    "# The Booking table\n",
    "\n",
    "query = ''' SELECT *\n",
    "            FROM Bookings;\n",
    "        '''\n",
    "\n",
    "df_Booking = pd.read_sql_query(query, conn)\n",
    "df_Booking.style.hide_index()\n",
    "print(df_Booking.head())"
   ]
  },
  {
   "cell_type": "code",
   "execution_count": 7,
   "metadata": {},
   "outputs": [
    {
     "name": "stdout",
     "output_type": "stream",
     "text": [
      "<class 'pandas.core.frame.DataFrame'>\n",
      "RangeIndex: 4043 entries, 0 to 4042\n",
      "Data columns (total 5 columns):\n",
      " #   Column     Non-Null Count  Dtype \n",
      "---  ------     --------------  ----- \n",
      " 0   bookid     4043 non-null   int64 \n",
      " 1   facid      4043 non-null   int64 \n",
      " 2   memid      4043 non-null   int64 \n",
      " 3   starttime  4043 non-null   object\n",
      " 4   slots      4043 non-null   int64 \n",
      "dtypes: int64(4), object(1)\n",
      "memory usage: 158.1+ KB\n"
     ]
    }
   ],
   "source": [
    "df_Booking.info()"
   ]
  },
  {
   "cell_type": "code",
   "execution_count": 8,
   "metadata": {},
   "outputs": [
    {
     "name": "stdout",
     "output_type": "stream",
     "text": [
      "   memid   surname firstname                       address  zipcode  \\\n",
      "0      0     GUEST     GUEST                         GUEST        0   \n",
      "1      1     Smith    Darren    8 Bloomsbury Close, Boston     4321   \n",
      "2      2     Smith     Tracy  8 Bloomsbury Close, New York     4321   \n",
      "3      3    Rownam       Tim        23 Highway Way, Boston    23423   \n",
      "4      4  Joplette    Janice    20 Crossing Road, New York      234   \n",
      "\n",
      "        telephone recommendedby             joindate  \n",
      "0  (000) 000-0000                2012-07-01 00:00:00  \n",
      "1    555-555-5555                2012-07-02 12:02:05  \n",
      "2    555-555-5555                2012-07-02 12:08:23  \n",
      "3  (844) 693-0723                2012-07-03 09:32:15  \n",
      "4  (833) 942-4710             1  2012-07-03 10:25:05  \n"
     ]
    },
    {
     "name": "stderr",
     "output_type": "stream",
     "text": [
      "C:\\Users\\avel8\\AppData\\Local\\Temp\\ipykernel_17608\\2963622129.py:8: FutureWarning: this method is deprecated in favour of `Styler.hide(axis='index')`\n",
      "  df_Members.style.hide_index()\n"
     ]
    }
   ],
   "source": [
    "# The Booking table\n",
    "\n",
    "query = ''' SELECT *\n",
    "            FROM Members;\n",
    "        '''\n",
    "\n",
    "df_Members= pd.read_sql_query(query, conn)\n",
    "df_Members.style.hide_index()\n",
    "print(df_Members.head())"
   ]
  },
  {
   "cell_type": "code",
   "execution_count": 9,
   "metadata": {},
   "outputs": [
    {
     "name": "stdout",
     "output_type": "stream",
     "text": [
      "<class 'pandas.core.frame.DataFrame'>\n",
      "RangeIndex: 31 entries, 0 to 30\n",
      "Data columns (total 8 columns):\n",
      " #   Column         Non-Null Count  Dtype \n",
      "---  ------         --------------  ----- \n",
      " 0   memid          31 non-null     int64 \n",
      " 1   surname        31 non-null     object\n",
      " 2   firstname      31 non-null     object\n",
      " 3   address        31 non-null     object\n",
      " 4   zipcode        31 non-null     int64 \n",
      " 5   telephone      31 non-null     object\n",
      " 6   recommendedby  31 non-null     object\n",
      " 7   joindate       31 non-null     object\n",
      "dtypes: int64(2), object(6)\n",
      "memory usage: 2.1+ KB\n"
     ]
    }
   ],
   "source": [
    "df_Members.info()"
   ]
  },
  {
   "cell_type": "code",
   "execution_count": 10,
   "metadata": {
    "scrolled": false
   },
   "outputs": [
    {
     "data": {
      "text/html": [
       "<div>\n",
       "<style scoped>\n",
       "    .dataframe tbody tr th:only-of-type {\n",
       "        vertical-align: middle;\n",
       "    }\n",
       "\n",
       "    .dataframe tbody tr th {\n",
       "        vertical-align: top;\n",
       "    }\n",
       "\n",
       "    .dataframe thead th {\n",
       "        text-align: right;\n",
       "    }\n",
       "</style>\n",
       "<table border=\"1\" class=\"dataframe\">\n",
       "  <thead>\n",
       "    <tr style=\"text-align: right;\">\n",
       "      <th></th>\n",
       "      <th>memid</th>\n",
       "      <th>surname</th>\n",
       "      <th>firstname</th>\n",
       "      <th>address</th>\n",
       "      <th>zipcode</th>\n",
       "      <th>telephone</th>\n",
       "      <th>recommendedby</th>\n",
       "      <th>joindate</th>\n",
       "    </tr>\n",
       "  </thead>\n",
       "  <tbody>\n",
       "    <tr>\n",
       "      <th>0</th>\n",
       "      <td>0</td>\n",
       "      <td>GUEST</td>\n",
       "      <td>GUEST</td>\n",
       "      <td>GUEST</td>\n",
       "      <td>0</td>\n",
       "      <td>(000) 000-0000</td>\n",
       "      <td></td>\n",
       "      <td>2012-07-01 00:00:00</td>\n",
       "    </tr>\n",
       "    <tr>\n",
       "      <th>1</th>\n",
       "      <td>1</td>\n",
       "      <td>Smith</td>\n",
       "      <td>Darren</td>\n",
       "      <td>8 Bloomsbury Close, Boston</td>\n",
       "      <td>4321</td>\n",
       "      <td>555-555-5555</td>\n",
       "      <td></td>\n",
       "      <td>2012-07-02 12:02:05</td>\n",
       "    </tr>\n",
       "    <tr>\n",
       "      <th>2</th>\n",
       "      <td>2</td>\n",
       "      <td>Smith</td>\n",
       "      <td>Tracy</td>\n",
       "      <td>8 Bloomsbury Close, New York</td>\n",
       "      <td>4321</td>\n",
       "      <td>555-555-5555</td>\n",
       "      <td></td>\n",
       "      <td>2012-07-02 12:08:23</td>\n",
       "    </tr>\n",
       "    <tr>\n",
       "      <th>3</th>\n",
       "      <td>3</td>\n",
       "      <td>Rownam</td>\n",
       "      <td>Tim</td>\n",
       "      <td>23 Highway Way, Boston</td>\n",
       "      <td>23423</td>\n",
       "      <td>(844) 693-0723</td>\n",
       "      <td></td>\n",
       "      <td>2012-07-03 09:32:15</td>\n",
       "    </tr>\n",
       "    <tr>\n",
       "      <th>4</th>\n",
       "      <td>4</td>\n",
       "      <td>Joplette</td>\n",
       "      <td>Janice</td>\n",
       "      <td>20 Crossing Road, New York</td>\n",
       "      <td>234</td>\n",
       "      <td>(833) 942-4710</td>\n",
       "      <td>1</td>\n",
       "      <td>2012-07-03 10:25:05</td>\n",
       "    </tr>\n",
       "  </tbody>\n",
       "</table>\n",
       "</div>"
      ],
      "text/plain": [
       "   memid   surname firstname                       address  zipcode  \\\n",
       "0      0     GUEST     GUEST                         GUEST        0   \n",
       "1      1     Smith    Darren    8 Bloomsbury Close, Boston     4321   \n",
       "2      2     Smith     Tracy  8 Bloomsbury Close, New York     4321   \n",
       "3      3    Rownam       Tim        23 Highway Way, Boston    23423   \n",
       "4      4  Joplette    Janice    20 Crossing Road, New York      234   \n",
       "\n",
       "        telephone recommendedby             joindate  \n",
       "0  (000) 000-0000                2012-07-01 00:00:00  \n",
       "1    555-555-5555                2012-07-02 12:02:05  \n",
       "2    555-555-5555                2012-07-02 12:08:23  \n",
       "3  (844) 693-0723                2012-07-03 09:32:15  \n",
       "4  (833) 942-4710             1  2012-07-03 10:25:05  "
      ]
     },
     "execution_count": 10,
     "metadata": {},
     "output_type": "execute_result"
    }
   ],
   "source": [
    "df_Members.head()"
   ]
  },
  {
   "cell_type": "code",
   "execution_count": 11,
   "metadata": {},
   "outputs": [
    {
     "name": "stdout",
     "output_type": "stream",
     "text": [
      "memid              int64\n",
      "surname           object\n",
      "firstname         object\n",
      "address           object\n",
      "zipcode            int64\n",
      "telephone         object\n",
      "recommendedby    float64\n",
      "joindate          object\n",
      "dtype: object\n"
     ]
    }
   ],
   "source": [
    "# data3['Title'] = pd.to_numeric(data3['Title'])\n",
    "df_Members[\"recommendedby\"] = pd.to_numeric(df_Members[\"recommendedby\"])\n",
    "print(df_Members.dtypes)"
   ]
  },
  {
   "cell_type": "code",
   "execution_count": 12,
   "metadata": {},
   "outputs": [
    {
     "data": {
      "text/html": [
       "<div>\n",
       "<style scoped>\n",
       "    .dataframe tbody tr th:only-of-type {\n",
       "        vertical-align: middle;\n",
       "    }\n",
       "\n",
       "    .dataframe tbody tr th {\n",
       "        vertical-align: top;\n",
       "    }\n",
       "\n",
       "    .dataframe thead th {\n",
       "        text-align: right;\n",
       "    }\n",
       "</style>\n",
       "<table border=\"1\" class=\"dataframe\">\n",
       "  <thead>\n",
       "    <tr style=\"text-align: right;\">\n",
       "      <th></th>\n",
       "      <th>memid</th>\n",
       "      <th>surname</th>\n",
       "      <th>firstname</th>\n",
       "      <th>address</th>\n",
       "      <th>zipcode</th>\n",
       "      <th>telephone</th>\n",
       "      <th>recommendedby</th>\n",
       "      <th>joindate</th>\n",
       "    </tr>\n",
       "  </thead>\n",
       "  <tbody>\n",
       "    <tr>\n",
       "      <th>0</th>\n",
       "      <td>0</td>\n",
       "      <td>GUEST</td>\n",
       "      <td>GUEST</td>\n",
       "      <td>GUEST</td>\n",
       "      <td>0</td>\n",
       "      <td>(000) 000-0000</td>\n",
       "      <td>NaN</td>\n",
       "      <td>2012-07-01 00:00:00</td>\n",
       "    </tr>\n",
       "    <tr>\n",
       "      <th>1</th>\n",
       "      <td>1</td>\n",
       "      <td>Smith</td>\n",
       "      <td>Darren</td>\n",
       "      <td>8 Bloomsbury Close, Boston</td>\n",
       "      <td>4321</td>\n",
       "      <td>555-555-5555</td>\n",
       "      <td>NaN</td>\n",
       "      <td>2012-07-02 12:02:05</td>\n",
       "    </tr>\n",
       "    <tr>\n",
       "      <th>2</th>\n",
       "      <td>2</td>\n",
       "      <td>Smith</td>\n",
       "      <td>Tracy</td>\n",
       "      <td>8 Bloomsbury Close, New York</td>\n",
       "      <td>4321</td>\n",
       "      <td>555-555-5555</td>\n",
       "      <td>NaN</td>\n",
       "      <td>2012-07-02 12:08:23</td>\n",
       "    </tr>\n",
       "    <tr>\n",
       "      <th>3</th>\n",
       "      <td>3</td>\n",
       "      <td>Rownam</td>\n",
       "      <td>Tim</td>\n",
       "      <td>23 Highway Way, Boston</td>\n",
       "      <td>23423</td>\n",
       "      <td>(844) 693-0723</td>\n",
       "      <td>NaN</td>\n",
       "      <td>2012-07-03 09:32:15</td>\n",
       "    </tr>\n",
       "    <tr>\n",
       "      <th>4</th>\n",
       "      <td>4</td>\n",
       "      <td>Joplette</td>\n",
       "      <td>Janice</td>\n",
       "      <td>20 Crossing Road, New York</td>\n",
       "      <td>234</td>\n",
       "      <td>(833) 942-4710</td>\n",
       "      <td>1.0</td>\n",
       "      <td>2012-07-03 10:25:05</td>\n",
       "    </tr>\n",
       "  </tbody>\n",
       "</table>\n",
       "</div>"
      ],
      "text/plain": [
       "   memid   surname firstname                       address  zipcode  \\\n",
       "0      0     GUEST     GUEST                         GUEST        0   \n",
       "1      1     Smith    Darren    8 Bloomsbury Close, Boston     4321   \n",
       "2      2     Smith     Tracy  8 Bloomsbury Close, New York     4321   \n",
       "3      3    Rownam       Tim        23 Highway Way, Boston    23423   \n",
       "4      4  Joplette    Janice    20 Crossing Road, New York      234   \n",
       "\n",
       "        telephone  recommendedby             joindate  \n",
       "0  (000) 000-0000            NaN  2012-07-01 00:00:00  \n",
       "1    555-555-5555            NaN  2012-07-02 12:02:05  \n",
       "2    555-555-5555            NaN  2012-07-02 12:08:23  \n",
       "3  (844) 693-0723            NaN  2012-07-03 09:32:15  \n",
       "4  (833) 942-4710            1.0  2012-07-03 10:25:05  "
      ]
     },
     "execution_count": 12,
     "metadata": {},
     "output_type": "execute_result"
    }
   ],
   "source": [
    "df_Members.head()"
   ]
  },
  {
   "cell_type": "markdown",
   "metadata": {},
   "source": [
    "2. Write a Pandas program to display all the facid from locations facilities and SQL"
   ]
  },
  {
   "cell_type": "code",
   "execution_count": 13,
   "metadata": {},
   "outputs": [
    {
     "data": {
      "text/plain": [
       "0    0\n",
       "1    1\n",
       "2    2\n",
       "3    3\n",
       "4    4\n",
       "5    5\n",
       "6    6\n",
       "7    7\n",
       "8    8\n",
       "Name: facid, dtype: int64"
      ]
     },
     "execution_count": 13,
     "metadata": {},
     "output_type": "execute_result"
    }
   ],
   "source": [
    "df_facil['facid'].head(10)"
   ]
  },
  {
   "cell_type": "code",
   "execution_count": 14,
   "metadata": {},
   "outputs": [
    {
     "name": "stdout",
     "output_type": "stream",
     "text": [
      "   facid\n",
      "0      0\n",
      "1      1\n",
      "2      2\n",
      "3      3\n",
      "4      4\n",
      "5      5\n",
      "6      6\n",
      "7      7\n",
      "8      8\n"
     ]
    },
    {
     "name": "stderr",
     "output_type": "stream",
     "text": [
      "C:\\Users\\avel8\\AppData\\Local\\Temp\\ipykernel_17608\\3135148217.py:6: FutureWarning: this method is deprecated in favour of `Styler.hide(axis='index')`\n",
      "  df_facil_facid.style.hide_index()\n"
     ]
    }
   ],
   "source": [
    "query = ''' SELECT facid\n",
    "            FROM facilities;\n",
    "        '''\n",
    "\n",
    "df_facil_facid = pd.read_sql_query(query, conn)\n",
    "df_facil_facid.style.hide_index()\n",
    "# df_facil.head()\n",
    "print(df_facil_facid)"
   ]
  },
  {
   "cell_type": "markdown",
   "metadata": {},
   "source": [
    "3. Write a Pandas program to extract the first 7 records from Bookings"
   ]
  },
  {
   "cell_type": "code",
   "execution_count": 15,
   "metadata": {},
   "outputs": [
    {
     "data": {
      "text/html": [
       "<div>\n",
       "<style scoped>\n",
       "    .dataframe tbody tr th:only-of-type {\n",
       "        vertical-align: middle;\n",
       "    }\n",
       "\n",
       "    .dataframe tbody tr th {\n",
       "        vertical-align: top;\n",
       "    }\n",
       "\n",
       "    .dataframe thead th {\n",
       "        text-align: right;\n",
       "    }\n",
       "</style>\n",
       "<table border=\"1\" class=\"dataframe\">\n",
       "  <thead>\n",
       "    <tr style=\"text-align: right;\">\n",
       "      <th></th>\n",
       "      <th>bookid</th>\n",
       "      <th>facid</th>\n",
       "      <th>memid</th>\n",
       "      <th>starttime</th>\n",
       "      <th>slots</th>\n",
       "    </tr>\n",
       "  </thead>\n",
       "  <tbody>\n",
       "    <tr>\n",
       "      <th>0</th>\n",
       "      <td>0</td>\n",
       "      <td>3</td>\n",
       "      <td>1</td>\n",
       "      <td>2012-07-03 11:00:00</td>\n",
       "      <td>2</td>\n",
       "    </tr>\n",
       "    <tr>\n",
       "      <th>1</th>\n",
       "      <td>1</td>\n",
       "      <td>4</td>\n",
       "      <td>1</td>\n",
       "      <td>2012-07-03 08:00:00</td>\n",
       "      <td>2</td>\n",
       "    </tr>\n",
       "    <tr>\n",
       "      <th>2</th>\n",
       "      <td>2</td>\n",
       "      <td>6</td>\n",
       "      <td>0</td>\n",
       "      <td>2012-07-03 18:00:00</td>\n",
       "      <td>2</td>\n",
       "    </tr>\n",
       "    <tr>\n",
       "      <th>3</th>\n",
       "      <td>3</td>\n",
       "      <td>7</td>\n",
       "      <td>1</td>\n",
       "      <td>2012-07-03 19:00:00</td>\n",
       "      <td>2</td>\n",
       "    </tr>\n",
       "    <tr>\n",
       "      <th>4</th>\n",
       "      <td>4</td>\n",
       "      <td>8</td>\n",
       "      <td>1</td>\n",
       "      <td>2012-07-03 10:00:00</td>\n",
       "      <td>1</td>\n",
       "    </tr>\n",
       "    <tr>\n",
       "      <th>5</th>\n",
       "      <td>5</td>\n",
       "      <td>8</td>\n",
       "      <td>1</td>\n",
       "      <td>2012-07-03 15:00:00</td>\n",
       "      <td>1</td>\n",
       "    </tr>\n",
       "    <tr>\n",
       "      <th>6</th>\n",
       "      <td>6</td>\n",
       "      <td>0</td>\n",
       "      <td>2</td>\n",
       "      <td>2012-07-04 09:00:00</td>\n",
       "      <td>3</td>\n",
       "    </tr>\n",
       "  </tbody>\n",
       "</table>\n",
       "</div>"
      ],
      "text/plain": [
       "   bookid  facid  memid            starttime  slots\n",
       "0       0      3      1  2012-07-03 11:00:00      2\n",
       "1       1      4      1  2012-07-03 08:00:00      2\n",
       "2       2      6      0  2012-07-03 18:00:00      2\n",
       "3       3      7      1  2012-07-03 19:00:00      2\n",
       "4       4      8      1  2012-07-03 10:00:00      1\n",
       "5       5      8      1  2012-07-03 15:00:00      1\n",
       "6       6      0      2  2012-07-04 09:00:00      3"
      ]
     },
     "execution_count": 15,
     "metadata": {},
     "output_type": "execute_result"
    }
   ],
   "source": [
    "df_Booking.head(7)"
   ]
  },
  {
   "cell_type": "code",
   "execution_count": 16,
   "metadata": {},
   "outputs": [
    {
     "name": "stdout",
     "output_type": "stream",
     "text": [
      "   bookid  facid  memid            starttime  slots\n",
      "0       0      3      1  2012-07-03 11:00:00      2\n",
      "1       1      4      1  2012-07-03 08:00:00      2\n",
      "2       2      6      0  2012-07-03 18:00:00      2\n",
      "3       3      7      1  2012-07-03 19:00:00      2\n",
      "4       4      8      1  2012-07-03 10:00:00      1\n",
      "5       5      8      1  2012-07-03 15:00:00      1\n",
      "6       6      0      2  2012-07-04 09:00:00      3\n"
     ]
    },
    {
     "name": "stderr",
     "output_type": "stream",
     "text": [
      "C:\\Users\\avel8\\AppData\\Local\\Temp\\ipykernel_17608\\1570582284.py:8: FutureWarning: this method is deprecated in favour of `Styler.hide(axis='index')`\n",
      "  df_Booking_7.style.hide_index()\n"
     ]
    }
   ],
   "source": [
    "# The Booking table\n",
    "\n",
    "query = ''' SELECT *\n",
    "            FROM Bookings LIMIT 7;\n",
    "        '''\n",
    "\n",
    "df_Booking_7 = pd.read_sql_query(query, conn)\n",
    "df_Booking_7.style.hide_index()\n",
    "print(df_Booking_7)"
   ]
  },
  {
   "cell_type": "markdown",
   "metadata": {},
   "source": [
    "4. Write a Pandas program to select distinct facilities name  from facilities file. "
   ]
  },
  {
   "cell_type": "code",
   "execution_count": 17,
   "metadata": {},
   "outputs": [
    {
     "name": "stdout",
     "output_type": "stream",
     "text": [
      "Distinct facility name:\n",
      "['Tennis Court 1' 'Tennis Court 2' 'Badminton Court' 'Table Tennis'\n",
      " 'Massage Room 1' 'Massage Room 2' 'Squash Court' 'Snooker Table'\n",
      " 'Pool Table']\n"
     ]
    }
   ],
   "source": [
    "print(\"Distinct facility name:\")\n",
    "print(df_facil.name.unique())"
   ]
  },
  {
   "cell_type": "code",
   "execution_count": 18,
   "metadata": {},
   "outputs": [
    {
     "name": "stdout",
     "output_type": "stream",
     "text": [
      "              name\n",
      "0   Tennis Court 1\n",
      "1   Tennis Court 2\n",
      "2  Badminton Court\n",
      "3     Table Tennis\n",
      "4   Massage Room 1\n",
      "5   Massage Room 2\n",
      "6     Squash Court\n",
      "7    Snooker Table\n",
      "8       Pool Table\n"
     ]
    },
    {
     "name": "stderr",
     "output_type": "stream",
     "text": [
      "C:\\Users\\avel8\\AppData\\Local\\Temp\\ipykernel_17608\\382987362.py:8: FutureWarning: this method is deprecated in favour of `Styler.hide(axis='index')`\n",
      "  df_facil_dname.style.hide_index()\n"
     ]
    }
   ],
   "source": [
    "# The facilities table\n",
    "\n",
    "query = ''' SELECT DISTINCT name\n",
    "            FROM facilities;\n",
    "        '''\n",
    "\n",
    "df_facil_dname = pd.read_sql_query(query, conn)\n",
    "df_facil_dname.style.hide_index()\n",
    "# df_facil.head()\n",
    "print(df_facil_dname)"
   ]
  },
  {
   "cell_type": "code",
   "execution_count": 19,
   "metadata": {},
   "outputs": [
    {
     "data": {
      "text/plain": [
       "facid                 9\n",
       "name                  9\n",
       "membercost            4\n",
       "guestcost             5\n",
       "initialoutlay         7\n",
       "monthlymaintenance    6\n",
       "dtype: int64"
      ]
     },
     "execution_count": 19,
     "metadata": {},
     "output_type": "execute_result"
    }
   ],
   "source": [
    "# df_facil['facid'].value_counts()\n",
    "# df_facil.groupby('facid').count()\n",
    "# df_facil['facid']= df_facil.sum()\n",
    "df_facil.nunique()"
   ]
  },
  {
   "cell_type": "code",
   "execution_count": 20,
   "metadata": {},
   "outputs": [
    {
     "name": "stdout",
     "output_type": "stream",
     "text": [
      "Distinct facility name:\n",
      "['Tennis Court 1' 'Tennis Court 2' 'Badminton Court' 'Table Tennis'\n",
      " 'Massage Room 1' 'Massage Room 2' 'Squash Court' 'Snooker Table'\n",
      " 'Pool Table']\n"
     ]
    }
   ],
   "source": [
    "print(\"Distinct facility name:\")\n",
    "print(df_facil.name.unique())"
   ]
  },
  {
   "cell_type": "code",
   "execution_count": 21,
   "metadata": {},
   "outputs": [
    {
     "name": "stdout",
     "output_type": "stream",
     "text": [
      "              name\n",
      "0   Tennis Court 1\n",
      "1   Tennis Court 2\n",
      "2  Badminton Court\n",
      "3     Table Tennis\n",
      "4   Massage Room 1\n",
      "5   Massage Room 2\n",
      "6     Squash Court\n",
      "7    Snooker Table\n",
      "8       Pool Table\n"
     ]
    },
    {
     "name": "stderr",
     "output_type": "stream",
     "text": [
      "C:\\Users\\avel8\\AppData\\Local\\Temp\\ipykernel_17608\\597316958.py:8: FutureWarning: this method is deprecated in favour of `Styler.hide(axis='index')`\n",
      "  df_facil_dist_name.style.hide_index()\n"
     ]
    }
   ],
   "source": [
    "# The facilities table\n",
    "\n",
    "query = ''' SELECT DISTINCT name\n",
    "            FROM facilities;\n",
    "        '''\n",
    "\n",
    "df_facil_dist_name = pd.read_sql_query(query, conn)\n",
    "df_facil_dist_name.style.hide_index()\n",
    "# df_facil.head()\n",
    "print(df_facil_dist_name)"
   ]
  },
  {
   "cell_type": "markdown",
   "metadata": {},
   "source": [
    "5. Write a Pandas program to display the first and last name, and member id number for all members surname is \"Mackenzie\". "
   ]
  },
  {
   "cell_type": "code",
   "execution_count": 22,
   "metadata": {},
   "outputs": [
    {
     "name": "stdout",
     "output_type": "stream",
     "text": [
      "surname  firstname    memid\n",
      "Mackenzie     Anna         21\n"
     ]
    }
   ],
   "source": [
    "print(\"surname  firstname    memid\")\n",
    "result = df_Members[df_Members.surname == 'Mackenzie']\n",
    "for index, row in result.iterrows():\n",
    "    print(row['surname'],'   ',row['firstname'],'       ',row['memid'])"
   ]
  },
  {
   "cell_type": "code",
   "execution_count": 23,
   "metadata": {},
   "outputs": [
    {
     "name": "stdout",
     "output_type": "stream",
     "text": [
      "  firstname    surname  memid\n",
      "0      Anna  Mackenzie     21\n"
     ]
    },
    {
     "name": "stderr",
     "output_type": "stream",
     "text": [
      "C:\\Users\\avel8\\AppData\\Local\\Temp\\ipykernel_17608\\1393080683.py:9: FutureWarning: this method is deprecated in favour of `Styler.hide(axis='index')`\n",
      "  df_Member_namemid.style.hide_index()\n"
     ]
    }
   ],
   "source": [
    "# The Members table\n",
    "\n",
    "query = ''' SELECT firstname, surname, memid\n",
    "             FROM Members\n",
    "              WHERE surname = 'Mackenzie';\n",
    "        '''\n",
    "\n",
    "df_Member_namemid = pd.read_sql_query(query, conn)\n",
    "df_Member_namemid.style.hide_index()\n",
    "# df_facil.head()\n",
    "print(df_Member_namemid)"
   ]
  },
  {
   "cell_type": "markdown",
   "metadata": {},
   "source": [
    "6. Write a Pandas program to display the firstname, surname, zipcode and member id for those members whose first name starts with the letter 'S'"
   ]
  },
  {
   "cell_type": "code",
   "execution_count": 24,
   "metadata": {},
   "outputs": [
    {
     "name": "stdout",
     "output_type": "stream",
     "text": [
      "Firstname       surname      zipcode    member ID\n",
      "Darren          Smith           4321      1\n",
      "Tracy           Smith           4321      2\n",
      "Ponder          Stibbons        87630     9\n",
      "Jack            Smith           69302     14\n",
      "Ramnaresh       Sarwin          65464     24\n",
      "Darren          Smith           66796     37\n"
     ]
    }
   ],
   "source": [
    "print(\"Firstname       surname      zipcode    member ID\")\n",
    "result = df_Members[df_Members['surname'].str[:1]=='S']\n",
    "for index, row in result.iterrows():\n",
    "    print(row['firstname'].ljust(15),row['surname'].ljust(15),str(row['zipcode']).ljust(9),row['memid'])"
   ]
  },
  {
   "cell_type": "code",
   "execution_count": 25,
   "metadata": {},
   "outputs": [
    {
     "name": "stdout",
     "output_type": "stream",
     "text": [
      "   firstname   surname  zipcode  memid\n",
      "0     Darren     Smith     4321      1\n",
      "1      Tracy     Smith     4321      2\n",
      "2     Ponder  Stibbons    87630      9\n",
      "3       Jack     Smith    69302     14\n",
      "4  Ramnaresh    Sarwin    65464     24\n",
      "5     Darren     Smith    66796     37\n"
     ]
    },
    {
     "name": "stderr",
     "output_type": "stream",
     "text": [
      "C:\\Users\\avel8\\AppData\\Local\\Temp\\ipykernel_17608\\677617439.py:9: FutureWarning: this method is deprecated in favour of `Styler.hide(axis='index')`\n",
      "  df_Member_namemids.style.hide_index()\n"
     ]
    }
   ],
   "source": [
    "# The Members table\n",
    "\n",
    "query = ''' SELECT firstname, surname, zipcode, memid\n",
    "             FROM Members\n",
    "              WHERE surname LIKE 'S%';\n",
    "        '''\n",
    "\n",
    "df_Member_namemids = pd.read_sql_query(query, conn)\n",
    "df_Member_namemids.style.hide_index()\n",
    "# df_facil.head()\n",
    "print(df_Member_namemids)"
   ]
  },
  {
   "cell_type": "markdown",
   "metadata": {},
   "source": [
    "7. Write a Pandas program to display the firstname, surname, zipcode and memberid number for those members whose first name does not contain the letter 'J'."
   ]
  },
  {
   "cell_type": "code",
   "execution_count": 26,
   "metadata": {},
   "outputs": [
    {
     "name": "stdout",
     "output_type": "stream",
     "text": [
      "surname          Firstname      zipcode    member ID\n",
      "GUEST                GUEST      0          0\n",
      "Smith                Darren     4321       1\n",
      "Smith                Tracy      4321       2\n",
      "Rownam               Tim        23423      3\n",
      "Butters              Gerald     56754      5\n",
      "Tracy                Burton     45678      6\n",
      "Dare                 Nancy      10383      7\n",
      "Boothe               Tim        234        8\n",
      "Stibbons             Ponder     87630      9\n",
      "Owen                 Charles    28563      10\n",
      "Jones                David      33862      11\n",
      "Baker                Anne       80743      12\n",
      "Bader                Florence   84923      15\n",
      "Baker                Timothy    58393      16\n",
      "Pinker               David      65332      17\n",
      "Genting              Matthew    52365      20\n",
      "Mackenzie            Anna       64577      21\n",
      "Sarwin               Ramnaresh  65464      24\n",
      "Jones                Douglas    11986      26\n",
      "Rumney               Henrietta  78533      27\n",
      "Farrell              David      43532      28\n",
      "Worthington-Smyth    Henry      97676      29\n",
      "Purview              Millicent  34232      30\n",
      "Tupperware           Hyacinth   68666      33\n",
      "Crumpet              Erica      75655      36\n",
      "Smith                Darren     66796      37\n"
     ]
    }
   ],
   "source": [
    "print(\"surname          Firstname      zipcode    member ID\")\n",
    "\n",
    "result = df_Members[df_Members['firstname'].str.find('J')==-1]\n",
    "for index, row in result.iterrows():\n",
    "    print(row['surname'].ljust(20),row['firstname'].ljust(10),str(row['zipcode']).ljust(10),row['memid'])\n"
   ]
  },
  {
   "cell_type": "code",
   "execution_count": 27,
   "metadata": {},
   "outputs": [
    {
     "name": "stdout",
     "output_type": "stream",
     "text": [
      "              surname  firstname  zipcode  memid\n",
      "0               GUEST      GUEST        0      0\n",
      "1               Smith     Darren     4321      1\n",
      "2               Smith      Tracy     4321      2\n",
      "3              Rownam        Tim    23423      3\n",
      "4             Butters     Gerald    56754      5\n",
      "5               Tracy     Burton    45678      6\n",
      "6                Dare      Nancy    10383      7\n",
      "7              Boothe        Tim      234      8\n",
      "8            Stibbons     Ponder    87630      9\n",
      "9                Owen    Charles    28563     10\n",
      "10              Jones      David    33862     11\n",
      "11              Baker       Anne    80743     12\n",
      "12              Bader   Florence    84923     15\n",
      "13              Baker    Timothy    58393     16\n",
      "14             Pinker      David    65332     17\n",
      "15            Genting    Matthew    52365     20\n",
      "16          Mackenzie       Anna    64577     21\n",
      "17             Sarwin  Ramnaresh    65464     24\n",
      "18              Jones    Douglas    11986     26\n",
      "19             Rumney  Henrietta    78533     27\n",
      "20            Farrell      David    43532     28\n",
      "21  Worthington-Smyth      Henry    97676     29\n",
      "22            Purview  Millicent    34232     30\n",
      "23         Tupperware   Hyacinth    68666     33\n",
      "24            Crumpet      Erica    75655     36\n",
      "25              Smith     Darren    66796     37\n"
     ]
    },
    {
     "name": "stderr",
     "output_type": "stream",
     "text": [
      "C:\\Users\\avel8\\AppData\\Local\\Temp\\ipykernel_17608\\699992041.py:9: FutureWarning: this method is deprecated in favour of `Styler.hide(axis='index')`\n",
      "  df_Member_namemidj.style.hide_index()\n"
     ]
    }
   ],
   "source": [
    "# The Members table\n",
    "\n",
    "query = ''' SELECT surname, firstname, zipcode, memid\n",
    "             FROM Members\n",
    "              WHERE firstname NOT LIKE '%J%';\n",
    "        '''\n",
    "\n",
    "df_Member_namemidj = pd.read_sql_query(query, conn)\n",
    "df_Member_namemidj.style.hide_index()\n",
    "# df_facil.head()\n",
    "print(df_Member_namemidj)"
   ]
  },
  {
   "cell_type": "markdown",
   "metadata": {},
   "source": [
    "8. Write a Pandas program to display the first name, surname, zipcode and memid in ascending order by zipcode. "
   ]
  },
  {
   "cell_type": "code",
   "execution_count": 28,
   "metadata": {},
   "outputs": [
    {
     "name": "stdout",
     "output_type": "stream",
     "text": [
      "First name       surname      zipcode    memid\n",
      "GUEST           GUEST               0         0\n",
      "Janice          Joplette            234       4\n",
      "Tim             Boothe              234       8\n",
      "Darren          Smith               4321      1\n",
      "Tracy           Smith               4321      2\n",
      "Nancy           Dare                10383     7\n",
      "Douglas         Jones               11986     26\n",
      "Tim             Rownam              23423     3\n",
      "Charles         Owen                28563     10\n",
      "David           Jones               33862     11\n",
      "Millicent       Purview             34232     30\n",
      "David           Farrell             43532     28\n",
      "Joan            Coplin              43533     22\n",
      "Burton          Tracy               45678     6\n",
      "Matthew         Genting             52365     20\n",
      "John            Hunt                54333     35\n",
      "Gerald          Butters             56754     5\n",
      "Jemima          Farrell             57392     13\n",
      "Timothy         Baker               58393     16\n",
      "Anna            Mackenzie           64577     21\n",
      "David           Pinker              65332     17\n",
      "Ramnaresh       Sarwin              65464     24\n",
      "Darren          Smith               66796     37\n",
      "Hyacinth        Tupperware          68666     33\n",
      "Jack            Smith               69302     14\n",
      "Erica           Crumpet             75655     36\n",
      "Henrietta       Rumney              78533     27\n",
      "Anne            Baker               80743     12\n",
      "Florence        Bader               84923     15\n",
      "Ponder          Stibbons            87630     9\n",
      "Henry           Worthington-Smyth   97676     29\n"
     ]
    }
   ],
   "source": [
    "print(\"First name       surname      zipcode    memid\")\n",
    "result = df_Members.sort_values('zipcode', ascending=True)\n",
    "for index, row in result.iterrows():\n",
    "    print(row['firstname'].ljust(15),row['surname'].ljust(19),str(row['zipcode']).ljust(9),row['memid'])"
   ]
  },
  {
   "cell_type": "code",
   "execution_count": 29,
   "metadata": {},
   "outputs": [
    {
     "name": "stdout",
     "output_type": "stream",
     "text": [
      "    firstname            surname  zipcode  memid\n",
      "0       GUEST              GUEST        0      0\n",
      "1      Janice           Joplette      234      4\n",
      "2         Tim             Boothe      234      8\n",
      "3      Darren              Smith     4321      1\n",
      "4       Tracy              Smith     4321      2\n",
      "5       Nancy               Dare    10383      7\n",
      "6     Douglas              Jones    11986     26\n",
      "7         Tim             Rownam    23423      3\n",
      "8     Charles               Owen    28563     10\n",
      "9       David              Jones    33862     11\n",
      "10  Millicent            Purview    34232     30\n",
      "11      David            Farrell    43532     28\n",
      "12       Joan             Coplin    43533     22\n",
      "13     Burton              Tracy    45678      6\n",
      "14    Matthew            Genting    52365     20\n",
      "15       John               Hunt    54333     35\n",
      "16     Gerald            Butters    56754      5\n",
      "17     Jemima            Farrell    57392     13\n",
      "18    Timothy              Baker    58393     16\n",
      "19       Anna          Mackenzie    64577     21\n",
      "20      David             Pinker    65332     17\n",
      "21  Ramnaresh             Sarwin    65464     24\n",
      "22     Darren              Smith    66796     37\n",
      "23   Hyacinth         Tupperware    68666     33\n",
      "24       Jack              Smith    69302     14\n",
      "25      Erica            Crumpet    75655     36\n",
      "26  Henrietta             Rumney    78533     27\n",
      "27       Anne              Baker    80743     12\n",
      "28   Florence              Bader    84923     15\n",
      "29     Ponder           Stibbons    87630      9\n",
      "30      Henry  Worthington-Smyth    97676     29\n"
     ]
    },
    {
     "name": "stderr",
     "output_type": "stream",
     "text": [
      "C:\\Users\\avel8\\AppData\\Local\\Temp\\ipykernel_17608\\1272697664.py:9: FutureWarning: this method is deprecated in favour of `Styler.hide(axis='index')`\n",
      "  df_Member_zcodes.style.hide_index()\n"
     ]
    }
   ],
   "source": [
    "# The Members table\n",
    "\n",
    "query = ''' SELECT firstname, surname, zipcode, memid\n",
    "             FROM Members\n",
    "              ORDER BY zipcode;\n",
    "        '''\n",
    "\n",
    "df_Member_zcodes = pd.read_sql_query(query, conn)\n",
    "df_Member_zcodes.style.hide_index()\n",
    "# df_facil.head()\n",
    "print(df_Member_zcodes)"
   ]
  },
  {
   "cell_type": "markdown",
   "metadata": {},
   "source": [
    "9. Write a Pandas program to display the firstname, surname, zipcode and memid in descending order by firstname. "
   ]
  },
  {
   "cell_type": "code",
   "execution_count": 30,
   "metadata": {},
   "outputs": [
    {
     "name": "stdout",
     "output_type": "stream",
     "text": [
      "First name       surname      zipcode    memid\n",
      "Tracy           Smith               4321      2\n",
      "Timothy         Baker               58393     16\n",
      "Tim             Boothe              234       8\n",
      "Tim             Rownam              23423     3\n",
      "Ramnaresh       Sarwin              65464     24\n",
      "Ponder          Stibbons            87630     9\n",
      "Nancy           Dare                10383     7\n",
      "Millicent       Purview             34232     30\n",
      "Matthew         Genting             52365     20\n",
      "John            Hunt                54333     35\n",
      "Joan            Coplin              43533     22\n",
      "Jemima          Farrell             57392     13\n",
      "Janice          Joplette            234       4\n",
      "Jack            Smith               69302     14\n",
      "Hyacinth        Tupperware          68666     33\n",
      "Henry           Worthington-Smyth   97676     29\n",
      "Henrietta       Rumney              78533     27\n",
      "Gerald          Butters             56754     5\n",
      "GUEST           GUEST               0         0\n",
      "Florence        Bader               84923     15\n",
      "Erica           Crumpet             75655     36\n",
      "Douglas         Jones               11986     26\n",
      "David           Pinker              65332     17\n",
      "David           Farrell             43532     28\n",
      "David           Jones               33862     11\n",
      "Darren          Smith               4321      1\n",
      "Darren          Smith               66796     37\n",
      "Charles         Owen                28563     10\n",
      "Burton          Tracy               45678     6\n",
      "Anne            Baker               80743     12\n",
      "Anna            Mackenzie           64577     21\n"
     ]
    }
   ],
   "source": [
    "print(\"First name       surname      zipcode    memid\")\n",
    "result = df_Members.sort_values('firstname', ascending=False)\n",
    "for index, row in result.iterrows():\n",
    "    print(row['firstname'].ljust(15),row['surname'].ljust(19),str(row['zipcode']).ljust(9),row['memid'])"
   ]
  },
  {
   "cell_type": "code",
   "execution_count": 31,
   "metadata": {},
   "outputs": [
    {
     "name": "stdout",
     "output_type": "stream",
     "text": [
      "    firstname            surname  zipcode  memid\n",
      "0       Tracy              Smith     4321      2\n",
      "1     Timothy              Baker    58393     16\n",
      "2         Tim             Rownam    23423      3\n",
      "3         Tim             Boothe      234      8\n",
      "4   Ramnaresh             Sarwin    65464     24\n",
      "5      Ponder           Stibbons    87630      9\n",
      "6       Nancy               Dare    10383      7\n",
      "7   Millicent            Purview    34232     30\n",
      "8     Matthew            Genting    52365     20\n",
      "9        John               Hunt    54333     35\n",
      "10       Joan             Coplin    43533     22\n",
      "11     Jemima            Farrell    57392     13\n",
      "12     Janice           Joplette      234      4\n",
      "13       Jack              Smith    69302     14\n",
      "14   Hyacinth         Tupperware    68666     33\n",
      "15      Henry  Worthington-Smyth    97676     29\n",
      "16  Henrietta             Rumney    78533     27\n",
      "17     Gerald            Butters    56754      5\n",
      "18      GUEST              GUEST        0      0\n",
      "19   Florence              Bader    84923     15\n",
      "20      Erica            Crumpet    75655     36\n",
      "21    Douglas              Jones    11986     26\n",
      "22      David              Jones    33862     11\n",
      "23      David             Pinker    65332     17\n",
      "24      David            Farrell    43532     28\n",
      "25     Darren              Smith     4321      1\n",
      "26     Darren              Smith    66796     37\n",
      "27    Charles               Owen    28563     10\n",
      "28     Burton              Tracy    45678      6\n",
      "29       Anne              Baker    80743     12\n",
      "30       Anna          Mackenzie    64577     21\n"
     ]
    },
    {
     "name": "stderr",
     "output_type": "stream",
     "text": [
      "C:\\Users\\avel8\\AppData\\Local\\Temp\\ipykernel_17608\\4155574360.py:9: FutureWarning: this method is deprecated in favour of `Styler.hide(axis='index')`\n",
      "  df_Member_orfname.style.hide_index()\n"
     ]
    }
   ],
   "source": [
    "# The Members table\n",
    "\n",
    "query = ''' SELECT firstname, surname, zipcode, memid\n",
    "             FROM Members\n",
    "              ORDER BY firstname DESC;\n",
    "        '''\n",
    "\n",
    "df_Member_orfname = pd.read_sql_query(query, conn)\n",
    "df_Member_orfname.style.hide_index()\n",
    "# df_facil.head()\n",
    "print(df_Member_orfname)"
   ]
  },
  {
   "cell_type": "markdown",
   "metadata": {},
   "source": [
    "10. Write a Pandas program to display the first name, surname, recomendedby and memid where recommendedby are null. "
   ]
  },
  {
   "cell_type": "code",
   "execution_count": 32,
   "metadata": {},
   "outputs": [
    {
     "name": "stdout",
     "output_type": "stream",
     "text": [
      "Firstname      surname       recommendedby    Mem ID\n",
      "GUEST           GUEST           nan       0\n",
      "Darren          Smith           nan       1\n",
      "Tracy           Smith           nan       2\n",
      "Tim             Rownam          nan       3\n",
      "Burton          Tracy           nan       6\n",
      "Jemima          Farrell         nan       13\n",
      "David           Farrell         nan       28\n",
      "Hyacinth        Tupperware      nan       33\n",
      "Darren          Smith           nan       37\n"
     ]
    }
   ],
   "source": [
    "print(\"Firstname      surname       recommendedby    Mem ID\")\n",
    "result = df_Members[df_Members['recommendedby'].isnull()]\n",
    "for index, row in result.iterrows():\n",
    "    print(row['firstname'].ljust(15),row['surname'].ljust(15),str(row['recommendedby']).ljust(9),row['memid'])"
   ]
  },
  {
   "cell_type": "code",
   "execution_count": 33,
   "metadata": {},
   "outputs": [
    {
     "name": "stdout",
     "output_type": "stream",
     "text": [
      "Empty DataFrame\n",
      "Columns: [firstname, surname, recommendedby, memid]\n",
      "Index: []\n"
     ]
    },
    {
     "name": "stderr",
     "output_type": "stream",
     "text": [
      "C:\\Users\\avel8\\AppData\\Local\\Temp\\ipykernel_17608\\3476190733.py:9: FutureWarning: this method is deprecated in favour of `Styler.hide(axis='index')`\n",
      "  df_Member_rn.style.hide_index()\n"
     ]
    }
   ],
   "source": [
    "# The Members table\n",
    "\n",
    "query = ''' SELECT firstname, surname, recommendedby, memid\n",
    "             FROM Members\n",
    "              WHERE recommendedby IS NULL;\n",
    "        '''\n",
    "\n",
    "df_Member_rn = pd.read_sql_query(query, conn)\n",
    "df_Member_rn.style.hide_index()\n",
    "# df_facil.head()\n",
    "print(df_Member_rn)"
   ]
  },
  {
   "cell_type": "markdown",
   "metadata": {},
   "source": [
    "11. Write a Pandas program to display the first name, surname, recomendedby and member ide where recommendedby ids are not null. "
   ]
  },
  {
   "cell_type": "code",
   "execution_count": 34,
   "metadata": {},
   "outputs": [
    {
     "name": "stdout",
     "output_type": "stream",
     "text": [
      "Firstname      surname       recommendedby    Mem ID\n",
      "Janice          Joplette        1.0       4\n",
      "Gerald          Butters         1.0       5\n",
      "Nancy           Dare            4.0       7\n",
      "Tim             Boothe          3.0       8\n",
      "Ponder          Stibbons        6.0       9\n",
      "Charles         Owen            1.0       10\n",
      "David           Jones           4.0       11\n",
      "Anne            Baker           9.0       12\n",
      "Jack            Smith           1.0       14\n",
      "Florence        Bader           9.0       15\n",
      "Timothy         Baker           13.0      16\n",
      "David           Pinker          13.0      17\n",
      "Matthew         Genting         5.0       20\n",
      "Anna            Mackenzie       1.0       21\n",
      "Joan            Coplin          16.0      22\n",
      "Ramnaresh       Sarwin          15.0      24\n",
      "Douglas         Jones           11.0      26\n",
      "Henrietta       Rumney          20.0      27\n",
      "Henry           Worthington-Smyth 2.0       29\n",
      "Millicent       Purview         2.0       30\n",
      "John            Hunt            30.0      35\n",
      "Erica           Crumpet         2.0       36\n"
     ]
    }
   ],
   "source": [
    "print(\"Firstname      surname       recommendedby    Mem ID\")\n",
    "result = df_Members[df_Members['recommendedby'].notnull()]\n",
    "for index, row in result.iterrows():\n",
    "    print(row['firstname'].ljust(15),row['surname'].ljust(15),str(row['recommendedby']).ljust(9),row['memid'])"
   ]
  },
  {
   "cell_type": "code",
   "execution_count": 35,
   "metadata": {},
   "outputs": [
    {
     "name": "stdout",
     "output_type": "stream",
     "text": [
      "    firstname            surname recommendedby  memid\n",
      "0       GUEST              GUEST                    0\n",
      "1      Darren              Smith                    1\n",
      "2       Tracy              Smith                    2\n",
      "3         Tim             Rownam                    3\n",
      "4      Janice           Joplette             1      4\n",
      "5      Gerald            Butters             1      5\n",
      "6      Burton              Tracy                    6\n",
      "7       Nancy               Dare             4      7\n",
      "8         Tim             Boothe             3      8\n",
      "9      Ponder           Stibbons             6      9\n",
      "10    Charles               Owen             1     10\n",
      "11      David              Jones             4     11\n",
      "12       Anne              Baker             9     12\n",
      "13     Jemima            Farrell                   13\n",
      "14       Jack              Smith             1     14\n",
      "15   Florence              Bader             9     15\n",
      "16    Timothy              Baker            13     16\n",
      "17      David             Pinker            13     17\n",
      "18    Matthew            Genting             5     20\n",
      "19       Anna          Mackenzie             1     21\n",
      "20       Joan             Coplin            16     22\n",
      "21  Ramnaresh             Sarwin            15     24\n",
      "22    Douglas              Jones            11     26\n",
      "23  Henrietta             Rumney            20     27\n",
      "24      David            Farrell                   28\n",
      "25      Henry  Worthington-Smyth             2     29\n",
      "26  Millicent            Purview             2     30\n",
      "27   Hyacinth         Tupperware                   33\n",
      "28       John               Hunt            30     35\n",
      "29      Erica            Crumpet             2     36\n",
      "30     Darren              Smith                   37\n"
     ]
    },
    {
     "name": "stderr",
     "output_type": "stream",
     "text": [
      "C:\\Users\\avel8\\AppData\\Local\\Temp\\ipykernel_17608\\1073413841.py:9: FutureWarning: this method is deprecated in favour of `Styler.hide(axis='index')`\n",
      "  df_Member_rnn.style.hide_index()\n"
     ]
    }
   ],
   "source": [
    "# The Members table\n",
    "\n",
    "query = ''' SELECT firstname, surname, recommendedby, memid\n",
    "             FROM Members\n",
    "              WHERE recommendedby IS NOT NULL;\n",
    "        '''\n",
    "\n",
    "df_Member_rnn = pd.read_sql_query(query, conn)\n",
    "df_Member_rnn.style.hide_index()\n",
    "# df_facil.head()\n",
    "print(df_Member_rnn)"
   ]
  },
  {
   "cell_type": "markdown",
   "metadata": {},
   "source": [
    "12. Write a Pandas program to create and display a boolean series, where True for not null and False for null values or missing values in slot column of Bookings file. "
   ]
  },
  {
   "cell_type": "code",
   "execution_count": 36,
   "metadata": {},
   "outputs": [
    {
     "name": "stdout",
     "output_type": "stream",
     "text": [
      "Original data / Slots\n",
      "0       2\n",
      "1       2\n",
      "2       2\n",
      "3       2\n",
      "4       1\n",
      "       ..\n",
      "4038    2\n",
      "4039    1\n",
      "4040    1\n",
      "4041    1\n",
      "4042    1\n",
      "Name: slots, Length: 4043, dtype: int64\n",
      "\n",
      "\n",
      "   slots(Not null / Null Series\n",
      "0       True\n",
      "1       True\n",
      "2       True\n",
      "3       True\n",
      "4       True\n",
      "        ... \n",
      "4038    True\n",
      "4039    True\n",
      "4040    True\n",
      "4041    True\n",
      "4042    True\n",
      "Name: slots, Length: 4043, dtype: bool\n"
     ]
    }
   ],
   "source": [
    "print(\"Original data / Slots\")\n",
    "print(df_Booking.slots)\n",
    "print(\"\\n\\n   slots(Not null / Null Series\")\n",
    "print(df_Booking.slots.notnull())"
   ]
  },
  {
   "cell_type": "markdown",
   "metadata": {},
   "source": [
    "There is no boolean data type in SQL Server. However, a common option is to use the BIT data type. A BIT data type is used to store bit values from 1 to 64. So, a BIT field can be used for booleans, providing 1 for TRUE and 0 for FALSE."
   ]
  },
  {
   "cell_type": "markdown",
   "metadata": {},
   "source": [
    "13. Write a Pandas program to create a boolean series selecting rows with one or more nulls from locations file. "
   ]
  },
  {
   "cell_type": "code",
   "execution_count": 37,
   "metadata": {},
   "outputs": [
    {
     "name": "stdout",
     "output_type": "stream",
     "text": [
      "      bookid  facid  memid  starttime  slots\n",
      "0      False  False  False      False  False\n",
      "1      False  False  False      False  False\n",
      "2      False  False  False      False  False\n",
      "3      False  False  False      False  False\n",
      "4      False  False  False      False  False\n",
      "...      ...    ...    ...        ...    ...\n",
      "4038   False  False  False      False  False\n",
      "4039   False  False  False      False  False\n",
      "4040   False  False  False      False  False\n",
      "4041   False  False  False      False  False\n",
      "4042   False  False  False      False  False\n",
      "\n",
      "[4043 rows x 5 columns]\n"
     ]
    }
   ],
   "source": [
    "print(df_Booking.isnull())"
   ]
  },
  {
   "cell_type": "markdown",
   "metadata": {},
   "source": [
    "14. Write a Pandas program to count the NaN values of all the columns of Booking file. "
   ]
  },
  {
   "cell_type": "code",
   "execution_count": 38,
   "metadata": {},
   "outputs": [
    {
     "name": "stdout",
     "output_type": "stream",
     "text": [
      "\n",
      "NaN values of all the columns of Booking file:\n",
      "bookid       0\n",
      "facid        0\n",
      "memid        0\n",
      "starttime    0\n",
      "slots        0\n",
      "dtype: int64\n"
     ]
    }
   ],
   "source": [
    "print(\"\\nNaN values of all the columns of Booking file:\" )\n",
    "print(df_Booking.isna().sum())"
   ]
  },
  {
   "cell_type": "markdown",
   "metadata": {},
   "source": [
    "15. Write a Pandas program to display the first name, surname, joindate and department memid for those members whose first name ends with the letter 'm'."
   ]
  },
  {
   "cell_type": "code",
   "execution_count": 39,
   "metadata": {},
   "outputs": [
    {
     "name": "stdout",
     "output_type": "stream",
     "text": [
      "First name       surname      joindate    memberid\n",
      "Tim             Rownam          2012-07-03 09:32:15 3\n",
      "Tim             Boothe          2012-07-25 16:02:35 8\n"
     ]
    }
   ],
   "source": [
    "print(\"First name       surname      joindate    memberid\")\n",
    "result = df_Members[df_Members['firstname'].str[-1]=='m']\n",
    "for index, row in result.iterrows():\n",
    "    print(row['firstname'].ljust(15),row['surname'].ljust(15),str(row['joindate']).ljust(9),row['memid'])"
   ]
  },
  {
   "cell_type": "code",
   "execution_count": 40,
   "metadata": {},
   "outputs": [
    {
     "name": "stdout",
     "output_type": "stream",
     "text": [
      "  firstname surname             joindate  memid\n",
      "0       Tim  Rownam  2012-07-03 09:32:15      3\n",
      "1       Tim  Boothe  2012-07-25 16:02:35      8\n"
     ]
    },
    {
     "name": "stderr",
     "output_type": "stream",
     "text": [
      "C:\\Users\\avel8\\AppData\\Local\\Temp\\ipykernel_17608\\81678176.py:9: FutureWarning: this method is deprecated in favour of `Styler.hide(axis='index')`\n",
      "  df_Member_m.style.hide_index()\n"
     ]
    }
   ],
   "source": [
    "# The Members table\n",
    "\n",
    "query = ''' SELECT firstname, surname, joindate, memid\n",
    "             FROM Members\n",
    "              WHERE firstname LIKE '%m';\n",
    "        '''\n",
    "\n",
    "df_Member_m = pd.read_sql_query(query, conn)\n",
    "df_Member_m.style.hide_index()\n",
    "# df_facil.head()\n",
    "print(df_Member_m)"
   ]
  },
  {
   "cell_type": "markdown",
   "metadata": {},
   "source": [
    "16. Write a Pandas program to display the firstname, surname, zipcode and memid for those members whose first name ends with the letter 'd' or 'n' or 's' and also arrange the result in descending order by memid. "
   ]
  },
  {
   "cell_type": "code",
   "execution_count": 41,
   "metadata": {},
   "outputs": [
    {
     "name": "stdout",
     "output_type": "stream",
     "text": [
      "First name       surname      zipcode    memberid\n",
      "Darren          Smith           66796     37\n",
      "John            Hunt            54333     35\n",
      "David           Farrell         43532     28\n",
      "Douglas         Jones           11986     26\n",
      "Joan            Coplin          43533     22\n",
      "David           Pinker          65332     17\n",
      "David           Jones           33862     11\n",
      "Charles         Owen            28563     10\n",
      "Burton          Tracy           45678     6\n",
      "Gerald          Butters         56754     5\n",
      "Darren          Smith           4321      1\n"
     ]
    }
   ],
   "source": [
    "print(\"First name       surname      zipcode    memberid\")\n",
    "result = df_Members[df_Members['firstname'].str[-1].isin(['s','d','n'])]\n",
    "result = result.sort_values('memid', ascending=False)\n",
    "for index, row in result.iterrows():\n",
    "    print(row['firstname'].ljust(15),row['surname'].ljust(15),str(row['zipcode']).ljust(9),row['memid'])"
   ]
  },
  {
   "cell_type": "code",
   "execution_count": 42,
   "metadata": {},
   "outputs": [
    {
     "name": "stdout",
     "output_type": "stream",
     "text": [
      "   firstname  surname  zipcode  memid\n",
      "0     Darren    Smith    66796     37\n",
      "1       John     Hunt    54333     35\n",
      "2      David  Farrell    43532     28\n",
      "3    Douglas    Jones    11986     26\n",
      "4       Joan   Coplin    43533     22\n",
      "5      David   Pinker    65332     17\n",
      "6      David    Jones    33862     11\n",
      "7    Charles     Owen    28563     10\n",
      "8     Burton    Tracy    45678      6\n",
      "9     Gerald  Butters    56754      5\n",
      "10    Darren    Smith     4321      1\n"
     ]
    },
    {
     "name": "stderr",
     "output_type": "stream",
     "text": [
      "C:\\Users\\avel8\\AppData\\Local\\Temp\\ipykernel_17608\\534068296.py:12: FutureWarning: this method is deprecated in favour of `Styler.hide(axis='index')`\n",
      "  df_Member_t.style.hide_index()\n"
     ]
    }
   ],
   "source": [
    "# The Members table\n",
    "\n",
    "query = ''' SELECT firstname, surname, zipcode, memid\n",
    "             FROM Members\n",
    "              WHERE firstname LIKE '%d'\n",
    "              OR firstname LIKE '%s'\n",
    "              OR firstname LIKE '%n'\n",
    "               ORDER BY memid DESC;\n",
    "        '''\n",
    "\n",
    "df_Member_t = pd.read_sql_query(query, conn)\n",
    "df_Member_t.style.hide_index()\n",
    "# df_facil.head()\n",
    "print(df_Member_t)"
   ]
  },
  {
   "cell_type": "markdown",
   "metadata": {},
   "source": [
    "17. Write a Pandas program to display the first name, surname, zipcode and memid for members who have a zipcode either in department 4321 or 45678. "
   ]
  },
  {
   "cell_type": "code",
   "execution_count": 43,
   "metadata": {},
   "outputs": [
    {
     "name": "stdout",
     "output_type": "stream",
     "text": [
      "First name      surname       zipcode    memid \n",
      "Darren          Smith           4321      1\n",
      "Tracy           Smith           4321      2\n",
      "Burton          Tracy           45678     6\n"
     ]
    }
   ],
   "source": [
    "print(\"First name      surname       zipcode    memid \")\n",
    "result = df_Members[df_Members['zipcode'].isin([4321, 45678])]\n",
    "\n",
    "for index, row in result.iterrows():\n",
    "    print(row['firstname'].ljust(15),row['surname'].ljust(15),str(row['zipcode']).ljust(9),row['memid'])"
   ]
  },
  {
   "cell_type": "code",
   "execution_count": 44,
   "metadata": {},
   "outputs": [
    {
     "name": "stdout",
     "output_type": "stream",
     "text": [
      "  firstname surname  zipcode  memid\n",
      "0    Darren   Smith     4321      1\n",
      "1     Tracy   Smith     4321      2\n",
      "2    Burton   Tracy    45678      6\n"
     ]
    },
    {
     "name": "stderr",
     "output_type": "stream",
     "text": [
      "C:\\Users\\avel8\\AppData\\Local\\Temp\\ipykernel_17608\\1612108275.py:9: FutureWarning: this method is deprecated in favour of `Styler.hide(axis='index')`\n",
      "  df_Member_t.style.hide_index()\n"
     ]
    }
   ],
   "source": [
    "# The Members table\n",
    "\n",
    "query = ''' SELECT firstname, surname, zipcode, memid\n",
    "             FROM Members\n",
    "              WHERE zipcode IN (4321, 45678);\n",
    "        '''\n",
    "\n",
    "df_Member_t = pd.read_sql_query(query, conn)\n",
    "df_Member_t.style.hide_index()\n",
    "# df_facil.head()\n",
    "print(df_Member_t)"
   ]
  },
  {
   "cell_type": "markdown",
   "metadata": {},
   "source": [
    "18. Write a Pandas program to display the first name, surname, zipcode and memid for those members whose recommendedby members that hold the ID 1,2,3"
   ]
  },
  {
   "cell_type": "code",
   "execution_count": 45,
   "metadata": {},
   "outputs": [
    {
     "name": "stdout",
     "output_type": "stream",
     "text": [
      "First name      surname       recommendedby    memid\n",
      "Janice          Joplette             1.0          4\n",
      "Gerald          Butters              1.0          5\n",
      "Nancy           Dare                 4.0          7\n",
      "Charles         Owen                 1.0          10\n",
      "David           Jones                4.0          11\n",
      "Jack            Smith                1.0          14\n",
      "Anna            Mackenzie            1.0          21\n",
      "Henry           Worthington-Smyth    2.0          29\n",
      "Millicent       Purview              2.0          30\n",
      "Erica           Crumpet              2.0          36\n"
     ]
    }
   ],
   "source": [
    "print(\"First name      surname       recommendedby    memid\")\n",
    "# df_Members['recommendedby'] = df_Members['recommendedby'].fillna(0)\n",
    "result = df_Members[df_Members['recommendedby'].isin([1,2,4])]\n",
    "\n",
    "for index, row in result.iterrows():\n",
    "    print(row['firstname'].ljust(15),row['surname'].ljust(20),str(row['recommendedby']).ljust(12),row['memid'])"
   ]
  },
  {
   "cell_type": "code",
   "execution_count": 46,
   "metadata": {},
   "outputs": [
    {
     "name": "stdout",
     "output_type": "stream",
     "text": [
      "   firstname            surname recommendedby  memid\n",
      "0     Janice           Joplette             1      4\n",
      "1     Gerald            Butters             1      5\n",
      "2      Nancy               Dare             4      7\n",
      "3    Charles               Owen             1     10\n",
      "4      David              Jones             4     11\n",
      "5       Jack              Smith             1     14\n",
      "6       Anna          Mackenzie             1     21\n",
      "7      Henry  Worthington-Smyth             2     29\n",
      "8  Millicent            Purview             2     30\n",
      "9      Erica            Crumpet             2     36\n"
     ]
    },
    {
     "name": "stderr",
     "output_type": "stream",
     "text": [
      "C:\\Users\\avel8\\AppData\\Local\\Temp\\ipykernel_17608\\136666999.py:9: FutureWarning: this method is deprecated in favour of `Styler.hide(axis='index')`\n",
      "  df_Member_rb.style.hide_index()\n"
     ]
    }
   ],
   "source": [
    "# The Members table\n",
    "\n",
    "query = ''' SELECT firstname, surname, recommendedby, memid\n",
    "             FROM Members\n",
    "              WHERE recommendedby IN (1, 2, 4);\n",
    "        '''\n",
    "\n",
    "df_Member_rb = pd.read_sql_query(query, conn)\n",
    "df_Member_rb.style.hide_index()\n",
    "# df_facil.head()\n",
    "print(df_Member_rb)"
   ]
  },
  {
   "cell_type": "markdown",
   "metadata": {},
   "source": [
    "19. Write a Pandas program to display the first, last name, salary and department number for those employees who holds a letter n as a 3rd character in their first name. "
   ]
  },
  {
   "cell_type": "code",
   "execution_count": 47,
   "metadata": {},
   "outputs": [
    {
     "name": "stdout",
     "output_type": "stream",
     "text": [
      "First name      surname      recommendedby  memid\n",
      "Janice          Joplette        1.0       4\n",
      "Nancy           Dare            4.0       7\n",
      "Ponder          Stibbons        6.0       9\n",
      "Anne            Baker           9.0       12\n",
      "Anna            Mackenzie       1.0       21\n",
      "Henrietta       Rumney          20.0      27\n",
      "Henry           Worthington-Smyth 2.0       29\n"
     ]
    }
   ],
   "source": [
    "print(\"First name      surname      recommendedby  memid\")\n",
    "result = df_Members[df_Members['firstname'].str[2:3]=='n']\n",
    "for index, row in result.iterrows():\n",
    "    print(row['firstname'].ljust(15),row['surname'].ljust(15),str(row['recommendedby']).ljust(9),row['memid'])"
   ]
  },
  {
   "cell_type": "code",
   "execution_count": 48,
   "metadata": {},
   "outputs": [
    {
     "name": "stdout",
     "output_type": "stream",
     "text": [
      "   firstname            surname recommendedby  memid\n",
      "0     Janice           Joplette             1      4\n",
      "1      Nancy               Dare             4      7\n",
      "2     Ponder           Stibbons             6      9\n",
      "3       Anne              Baker             9     12\n",
      "4       Anna          Mackenzie             1     21\n",
      "5  Henrietta             Rumney            20     27\n",
      "6      Henry  Worthington-Smyth             2     29\n"
     ]
    },
    {
     "name": "stderr",
     "output_type": "stream",
     "text": [
      "C:\\Users\\avel8\\AppData\\Local\\Temp\\ipykernel_17608\\3262840714.py:9: FutureWarning: this method is deprecated in favour of `Styler.hide(axis='index')`\n",
      "  df_Member_rn.style.hide_index()\n"
     ]
    }
   ],
   "source": [
    "# The Members table\n",
    "\n",
    "query = ''' SELECT firstname, surname, recommendedby, memid\n",
    "             FROM Members\n",
    "              WHERE firstname LIKE \"__n%\";\n",
    "        '''\n",
    "\n",
    "df_Member_rn = pd.read_sql_query(query, conn)\n",
    "df_Member_rn.style.hide_index()\n",
    "# df_facil.head()\n",
    "print(df_Member_rn)\n"
   ]
  },
  {
   "cell_type": "markdown",
   "metadata": {},
   "source": [
    "20. Write a Pandas program to display the firstname, surname, zipcode and memid for those members not recommended in the departments 1,3 and 5"
   ]
  },
  {
   "cell_type": "code",
   "execution_count": 49,
   "metadata": {},
   "outputs": [
    {
     "name": "stdout",
     "output_type": "stream",
     "text": [
      "First name      surname   recommendedby  memid\n",
      "Janice          Joplette        1.0       4\n",
      "Gerald          Butters         1.0       5\n",
      "Nancy           Dare            4.0       7\n",
      "Tim             Boothe          3.0       8\n",
      "Charles         Owen            1.0       10\n",
      "David           Jones           4.0       11\n",
      "Jack            Smith           1.0       14\n",
      "Anna            Mackenzie       1.0       21\n"
     ]
    }
   ],
   "source": [
    "print(\"First name      surname   recommendedby  memid\")\n",
    "result = df_Members[df_Members['recommendedby'].isin([1,3,4])]\n",
    "for index, row in result.iterrows():\n",
    "    print(row['firstname'].ljust(15),row['surname'].ljust(15),str(row['recommendedby']).ljust(9),row['memid'])"
   ]
  },
  {
   "cell_type": "code",
   "execution_count": 50,
   "metadata": {},
   "outputs": [
    {
     "name": "stdout",
     "output_type": "stream",
     "text": [
      "  firstname    surname recommendedby  memid\n",
      "0    Janice   Joplette             1      4\n",
      "1    Gerald    Butters             1      5\n",
      "2     Nancy       Dare             4      7\n",
      "3       Tim     Boothe             3      8\n",
      "4   Charles       Owen             1     10\n",
      "5     David      Jones             4     11\n",
      "6      Jack      Smith             1     14\n",
      "7      Anna  Mackenzie             1     21\n"
     ]
    },
    {
     "name": "stderr",
     "output_type": "stream",
     "text": [
      "C:\\Users\\avel8\\AppData\\Local\\Temp\\ipykernel_17608\\2409689101.py:9: FutureWarning: this method is deprecated in favour of `Styler.hide(axis='index')`\n",
      "  df_Member_rn.style.hide_index()\n"
     ]
    }
   ],
   "source": [
    "# The Members table\n",
    "\n",
    "query = ''' SELECT firstname, surname, recommendedby, memid\n",
    "             FROM Members\n",
    "              WHERE recommendedby IN (1,3,4);\n",
    "        '''\n",
    "\n",
    "df_Member_rn = pd.read_sql_query(query, conn)\n",
    "df_Member_rn.style.hide_index()\n",
    "# df_facil.head()\n",
    "print(df_Member_rn)\n"
   ]
  },
  {
   "cell_type": "markdown",
   "metadata": {},
   "source": [
    "21. Write a Pandas program to display the ID for those memembers who did 100 or more Booking in the past. "
   ]
  },
  {
   "cell_type": "code",
   "execution_count": 51,
   "metadata": {},
   "outputs": [
    {
     "name": "stdout",
     "output_type": "stream",
     "text": [
      "memid\n",
      "0     883\n",
      "3     408\n",
      "1     261\n",
      "2     210\n",
      "8     188\n",
      "6     176\n",
      "16    166\n",
      "5     163\n",
      "4     159\n",
      "10    131\n",
      "21    126\n",
      "15    120\n",
      "12    118\n",
      "7     117\n",
      "11    115\n",
      "9     104\n",
      "dtype: int64\n"
     ]
    }
   ],
   "source": [
    "result = df_Booking.groupby(['memid']) \n",
    "print(result.filter(lambda x: len(x) > 100).groupby('memid').size().sort_values(ascending=False))"
   ]
  },
  {
   "cell_type": "code",
   "execution_count": 52,
   "metadata": {},
   "outputs": [
    {
     "name": "stdout",
     "output_type": "stream",
     "text": [
      "    memid  count(memid)\n",
      "0       0           883\n",
      "1       1           261\n",
      "2       2           210\n",
      "3       3           408\n",
      "4       4           159\n",
      "5       5           163\n",
      "6       6           176\n",
      "7       7           117\n",
      "8       8           188\n",
      "9       9           104\n",
      "10     10           131\n",
      "11     11           115\n",
      "12     12           118\n",
      "13     15           120\n",
      "14     16           166\n",
      "15     21           126\n"
     ]
    },
    {
     "name": "stderr",
     "output_type": "stream",
     "text": [
      "C:\\Users\\avel8\\AppData\\Local\\Temp\\ipykernel_17608\\3175179579.py:13: FutureWarning: this method is deprecated in favour of `Styler.hide(axis='index')`\n",
      "  df_Booking_cnt.style.hide_index()\n"
     ]
    }
   ],
   "source": [
    "# The Members table\n",
    "# SELECT age, count(age) \n",
    "#   FROM Students \n",
    "#  GROUP by age\n",
    "\n",
    "query = ''' SELECT memid, count(memid)\n",
    "             FROM Bookings\n",
    "                  GROUP BY memid\n",
    "                     HAVING COUNT(*) >=100;\n",
    "        '''\n",
    "\n",
    "df_Booking_cnt = pd.read_sql_query(query, conn)\n",
    "df_Booking_cnt.style.hide_index()\n",
    "# df_facil.head()\n",
    "print(df_Booking_cnt)"
   ]
  },
  {
   "cell_type": "markdown",
   "metadata": {},
   "source": [
    "22. Write a Pandas program to calculate minimum, maximum and mean cost from guestcost file. "
   ]
  },
  {
   "cell_type": "code",
   "execution_count": 53,
   "metadata": {},
   "outputs": [
    {
     "name": "stdout",
     "output_type": "stream",
     "text": [
      "        membercost\n",
      "min            0.0\n",
      "max            9.9\n",
      "mean           3.7\n",
      "median         3.5\n"
     ]
    }
   ],
   "source": [
    "print(df_facil.agg({'membercost': ['min', 'max', 'mean', 'median']}))"
   ]
  },
  {
   "cell_type": "code",
   "execution_count": 54,
   "metadata": {},
   "outputs": [
    {
     "data": {
      "text/html": [
       "<div>\n",
       "<style scoped>\n",
       "    .dataframe tbody tr th:only-of-type {\n",
       "        vertical-align: middle;\n",
       "    }\n",
       "\n",
       "    .dataframe tbody tr th {\n",
       "        vertical-align: top;\n",
       "    }\n",
       "\n",
       "    .dataframe thead th {\n",
       "        text-align: right;\n",
       "    }\n",
       "</style>\n",
       "<table border=\"1\" class=\"dataframe\">\n",
       "  <thead>\n",
       "    <tr style=\"text-align: right;\">\n",
       "      <th></th>\n",
       "      <th>facid</th>\n",
       "      <th>membercost</th>\n",
       "      <th>guestcost</th>\n",
       "      <th>initialoutlay</th>\n",
       "      <th>monthlymaintenance</th>\n",
       "    </tr>\n",
       "  </thead>\n",
       "  <tbody>\n",
       "    <tr>\n",
       "      <th>count</th>\n",
       "      <td>9.000000</td>\n",
       "      <td>9.000000</td>\n",
       "      <td>9.000000</td>\n",
       "      <td>9.000000</td>\n",
       "      <td>9.000000</td>\n",
       "    </tr>\n",
       "    <tr>\n",
       "      <th>mean</th>\n",
       "      <td>4.000000</td>\n",
       "      <td>3.700000</td>\n",
       "      <td>28.666667</td>\n",
       "      <td>4018.888889</td>\n",
       "      <td>730.000000</td>\n",
       "    </tr>\n",
       "    <tr>\n",
       "      <th>std</th>\n",
       "      <td>2.738613</td>\n",
       "      <td>4.108832</td>\n",
       "      <td>30.156881</td>\n",
       "      <td>3393.038625</td>\n",
       "      <td>1289.057311</td>\n",
       "    </tr>\n",
       "    <tr>\n",
       "      <th>min</th>\n",
       "      <td>0.000000</td>\n",
       "      <td>0.000000</td>\n",
       "      <td>5.000000</td>\n",
       "      <td>320.000000</td>\n",
       "      <td>10.000000</td>\n",
       "    </tr>\n",
       "    <tr>\n",
       "      <th>25%</th>\n",
       "      <td>2.000000</td>\n",
       "      <td>0.000000</td>\n",
       "      <td>5.000000</td>\n",
       "      <td>450.000000</td>\n",
       "      <td>15.000000</td>\n",
       "    </tr>\n",
       "    <tr>\n",
       "      <th>50%</th>\n",
       "      <td>4.000000</td>\n",
       "      <td>3.500000</td>\n",
       "      <td>17.500000</td>\n",
       "      <td>4000.000000</td>\n",
       "      <td>80.000000</td>\n",
       "    </tr>\n",
       "    <tr>\n",
       "      <th>75%</th>\n",
       "      <td>6.000000</td>\n",
       "      <td>5.000000</td>\n",
       "      <td>25.000000</td>\n",
       "      <td>5000.000000</td>\n",
       "      <td>200.000000</td>\n",
       "    </tr>\n",
       "    <tr>\n",
       "      <th>max</th>\n",
       "      <td>8.000000</td>\n",
       "      <td>9.900000</td>\n",
       "      <td>80.000000</td>\n",
       "      <td>10000.000000</td>\n",
       "      <td>3000.000000</td>\n",
       "    </tr>\n",
       "  </tbody>\n",
       "</table>\n",
       "</div>"
      ],
      "text/plain": [
       "          facid  membercost  guestcost  initialoutlay  monthlymaintenance\n",
       "count  9.000000    9.000000   9.000000       9.000000            9.000000\n",
       "mean   4.000000    3.700000  28.666667    4018.888889          730.000000\n",
       "std    2.738613    4.108832  30.156881    3393.038625         1289.057311\n",
       "min    0.000000    0.000000   5.000000     320.000000           10.000000\n",
       "25%    2.000000    0.000000   5.000000     450.000000           15.000000\n",
       "50%    4.000000    3.500000  17.500000    4000.000000           80.000000\n",
       "75%    6.000000    5.000000  25.000000    5000.000000          200.000000\n",
       "max    8.000000    9.900000  80.000000   10000.000000         3000.000000"
      ]
     },
     "execution_count": 54,
     "metadata": {},
     "output_type": "execute_result"
    }
   ],
   "source": [
    "df_facil.describe()"
   ]
  },
  {
   "cell_type": "code",
   "execution_count": 55,
   "metadata": {},
   "outputs": [
    {
     "name": "stdout",
     "output_type": "stream",
     "text": [
      "   MIN(membercost)  MAX(membercost)  AVG(membercost)\n",
      "0                0              9.9              3.7\n"
     ]
    },
    {
     "name": "stderr",
     "output_type": "stream",
     "text": [
      "C:\\Users\\avel8\\AppData\\Local\\Temp\\ipykernel_17608\\193693667.py:9: FutureWarning: this method is deprecated in favour of `Styler.hide(axis='index')`\n",
      "  df_facil_m.style.hide_index()\n"
     ]
    }
   ],
   "source": [
    "# The Facilities table\n",
    "\n",
    "\n",
    "query = ''' SELECT MIN(membercost), MAX(membercost), AVG(membercost)\n",
    "             FROM Facilities;\n",
    "        '''\n",
    "\n",
    "df_facil_m = pd.read_sql_query(query, conn)\n",
    "df_facil_m.style.hide_index()\n",
    "# df_facil.head()\n",
    "print(df_facil_m)"
   ]
  },
  {
   "cell_type": "markdown",
   "metadata": {},
   "source": [
    "23. Write a Pandas program to display the details of facilities in descending sequence on name. "
   ]
  },
  {
   "cell_type": "code",
   "execution_count": 56,
   "metadata": {},
   "outputs": [
    {
     "name": "stdout",
     "output_type": "stream",
     "text": [
      "name             facid        membercost    guestcost\n",
      "Badminton Court      2          0.0        15.5\n",
      "Massage Room 1       4          9.9        80.0\n",
      "Massage Room 2       5          9.9        80.0\n",
      "Pool Table           8          0.0        5.0\n",
      "Snooker Table        7          0.0        5.0\n",
      "Squash Court         6          3.5        17.5\n",
      "Table Tennis         3          0.0        5.0\n",
      "Tennis Court 1       0          5.0        25.0\n",
      "Tennis Court 2       1          5.0        25.0\n"
     ]
    }
   ],
   "source": [
    "print(\"name             facid        membercost    guestcost\")\n",
    "result = df_facil.sort_values('name')\n",
    "for index, row in result.iterrows():\n",
    "    print(row['name'].ljust(20),str(row['facid']).ljust(10),str(row['membercost']).ljust(10),row['guestcost'])"
   ]
  },
  {
   "cell_type": "code",
   "execution_count": 57,
   "metadata": {},
   "outputs": [
    {
     "name": "stdout",
     "output_type": "stream",
     "text": [
      "              name  facid  membercost  guestcost\n",
      "0  Badminton Court      2         0.0       15.5\n",
      "1   Massage Room 1      4         9.9       80.0\n",
      "2   Massage Room 2      5         9.9       80.0\n",
      "3       Pool Table      8         0.0        5.0\n",
      "4    Snooker Table      7         0.0        5.0\n",
      "5     Squash Court      6         3.5       17.5\n",
      "6     Table Tennis      3         0.0        5.0\n",
      "7   Tennis Court 1      0         5.0       25.0\n",
      "8   Tennis Court 2      1         5.0       25.0\n"
     ]
    },
    {
     "name": "stderr",
     "output_type": "stream",
     "text": [
      "C:\\Users\\avel8\\AppData\\Local\\Temp\\ipykernel_17608\\2053367046.py:9: FutureWarning: this method is deprecated in favour of `Styler.hide(axis='index')`\n",
      "  df_facilm.style.hide_index()\n"
     ]
    }
   ],
   "source": [
    "# The Booking table\n",
    "\n",
    "query = ''' SELECT name, facid, membercost, guestcost\n",
    "            FROM Facilities\n",
    "            ORDER BY name ;\n",
    "        '''\n",
    "\n",
    "df_facilm = pd.read_sql_query(query, conn)\n",
    "df_facilm.style.hide_index()\n",
    "print(df_facilm)"
   ]
  },
  {
   "cell_type": "markdown",
   "metadata": {},
   "source": [
    "24. Write a Pandas program to display the first and last name and date of joining of the members who is either member or guest. "
   ]
  },
  {
   "cell_type": "code",
   "execution_count": 58,
   "metadata": {},
   "outputs": [
    {
     "name": "stdout",
     "output_type": "stream",
     "text": [
      "      memid  surname firstname                      address  zipcode  \\\n",
      "0         0    GUEST     GUEST                        GUEST        0   \n",
      "1         0    GUEST     GUEST                        GUEST        0   \n",
      "2         0    GUEST     GUEST                        GUEST        0   \n",
      "3         0    GUEST     GUEST                        GUEST        0   \n",
      "4         0    GUEST     GUEST                        GUEST        0   \n",
      "...     ...      ...       ...                          ...      ...   \n",
      "4038     36  Crumpet     Erica  Crimson Road, North Reading    75655   \n",
      "4039     36  Crumpet     Erica  Crimson Road, North Reading    75655   \n",
      "4040     36  Crumpet     Erica  Crimson Road, North Reading    75655   \n",
      "4041     36  Crumpet     Erica  Crimson Road, North Reading    75655   \n",
      "4042     36  Crumpet     Erica  Crimson Road, North Reading    75655   \n",
      "\n",
      "           telephone  recommendedby             joindate  bookid  facid  \\\n",
      "0     (000) 000-0000            NaN  2012-07-01 00:00:00       2      6   \n",
      "1     (000) 000-0000            NaN  2012-07-01 00:00:00       9      4   \n",
      "2     (000) 000-0000            NaN  2012-07-01 00:00:00      10      4   \n",
      "3     (000) 000-0000            NaN  2012-07-01 00:00:00      11      6   \n",
      "4     (000) 000-0000            NaN  2012-07-01 00:00:00      12      6   \n",
      "...              ...            ...                  ...     ...    ...   \n",
      "4038  (811) 732-4816            2.0  2012-09-22 08:36:38    3911      2   \n",
      "4039  (811) 732-4816            2.0  2012-09-22 08:36:38    3935      4   \n",
      "4040  (811) 732-4816            2.0  2012-09-22 08:36:38    3976      0   \n",
      "4041  (811) 732-4816            2.0  2012-09-22 08:36:38    3995      3   \n",
      "4042  (811) 732-4816            2.0  2012-09-22 08:36:38    3996      3   \n",
      "\n",
      "                starttime  slots  \n",
      "0     2012-07-03 18:00:00      2  \n",
      "1     2012-07-04 15:00:00      2  \n",
      "2     2012-07-04 17:30:00      2  \n",
      "3     2012-07-04 12:30:00      2  \n",
      "4     2012-07-04 14:00:00      2  \n",
      "...                   ...    ...  \n",
      "4038  2012-09-29 09:30:00      3  \n",
      "4039  2012-09-29 18:30:00      2  \n",
      "4040  2012-09-30 14:00:00      3  \n",
      "4041  2012-09-30 10:30:00      2  \n",
      "4042  2012-09-30 12:00:00      2  \n",
      "\n",
      "[4043 rows x 12 columns]\n"
     ]
    }
   ],
   "source": [
    "from functools import reduce \n",
    "data_merge1 = reduce(lambda left , right:     # Merge three pandas DataFrames\n",
    "                     pd.merge(left , right,\n",
    "                              on = [\"memid\"]),\n",
    "                     [df_Members, df_Booking ])\n",
    "print(data_merge1)    "
   ]
  },
  {
   "cell_type": "code",
   "execution_count": 59,
   "metadata": {},
   "outputs": [
    {
     "name": "stdout",
     "output_type": "stream",
     "text": [
      "      memid  surname  firstname                                 address  \\\n",
      "0         0    GUEST      GUEST                                   GUEST   \n",
      "1         0    GUEST      GUEST                                   GUEST   \n",
      "2         0    GUEST      GUEST                                   GUEST   \n",
      "3         0    GUEST      GUEST                                   GUEST   \n",
      "4         0    GUEST      GUEST                                   GUEST   \n",
      "...     ...      ...        ...                                     ...   \n",
      "4038     30  Purview  Millicent  641 Drudgery Close, Burnington, Boston   \n",
      "4039     30  Purview  Millicent  641 Drudgery Close, Burnington, Boston   \n",
      "4040     35     Hunt       John               5 Bullington Lane, Boston   \n",
      "4041     36  Crumpet      Erica             Crimson Road, North Reading   \n",
      "4042     36  Crumpet      Erica             Crimson Road, North Reading   \n",
      "\n",
      "      zipcode       telephone  recommendedby             joindate  bookid  \\\n",
      "0           0  (000) 000-0000            NaN  2012-07-01 00:00:00       2   \n",
      "1           0  (000) 000-0000            NaN  2012-07-01 00:00:00      11   \n",
      "2           0  (000) 000-0000            NaN  2012-07-01 00:00:00      12   \n",
      "3           0  (000) 000-0000            NaN  2012-07-01 00:00:00      22   \n",
      "4           0  (000) 000-0000            NaN  2012-07-01 00:00:00      47   \n",
      "...       ...             ...            ...                  ...     ...   \n",
      "4038    34232  (855) 941-9786            2.0  2012-09-18 19:04:01    3718   \n",
      "4039    34232  (855) 941-9786            2.0  2012-09-18 19:04:01    3848   \n",
      "4040    54333  (899) 720-6978           30.0  2012-09-19 11:32:45    3655   \n",
      "4041    75655  (811) 732-4816            2.0  2012-09-22 08:36:38    3995   \n",
      "4042    75655  (811) 732-4816            2.0  2012-09-22 08:36:38    3996   \n",
      "\n",
      "      facid            starttime  slots          name  membercost  guestcost  \\\n",
      "0         6  2012-07-03 18:00:00      2  Squash Court         3.5       17.5   \n",
      "1         6  2012-07-04 12:30:00      2  Squash Court         3.5       17.5   \n",
      "2         6  2012-07-04 14:00:00      2  Squash Court         3.5       17.5   \n",
      "3         6  2012-07-05 13:00:00      2  Squash Court         3.5       17.5   \n",
      "4         6  2012-07-07 08:30:00      2  Squash Court         3.5       17.5   \n",
      "...     ...                  ...    ...           ...         ...        ...   \n",
      "4038      3  2012-09-26 12:00:00      2  Table Tennis         0.0        5.0   \n",
      "4039      3  2012-09-28 09:00:00      2  Table Tennis         0.0        5.0   \n",
      "4040      3  2012-09-25 13:30:00      2  Table Tennis         0.0        5.0   \n",
      "4041      3  2012-09-30 10:30:00      2  Table Tennis         0.0        5.0   \n",
      "4042      3  2012-09-30 12:00:00      2  Table Tennis         0.0        5.0   \n",
      "\n",
      "      initialoutlay  monthlymaintenance  \n",
      "0              5000                  80  \n",
      "1              5000                  80  \n",
      "2              5000                  80  \n",
      "3              5000                  80  \n",
      "4              5000                  80  \n",
      "...             ...                 ...  \n",
      "4038            320                  10  \n",
      "4039            320                  10  \n",
      "4040            320                  10  \n",
      "4041            320                  10  \n",
      "4042            320                  10  \n",
      "\n",
      "[4043 rows x 17 columns]\n"
     ]
    }
   ],
   "source": [
    "from functools import reduce \n",
    "merge_all = reduce(lambda left , right:     # Merge three pandas DataFrames\n",
    "                     pd.merge(left , right,\n",
    "                              on = [\"facid\"]),\n",
    "                     [data_merge1, df_facil ])\n",
    "print(merge_all)    "
   ]
  },
  {
   "cell_type": "code",
   "execution_count": 60,
   "metadata": {},
   "outputs": [
    {
     "data": {
      "text/html": [
       "<div>\n",
       "<style scoped>\n",
       "    .dataframe tbody tr th:only-of-type {\n",
       "        vertical-align: middle;\n",
       "    }\n",
       "\n",
       "    .dataframe tbody tr th {\n",
       "        vertical-align: top;\n",
       "    }\n",
       "\n",
       "    .dataframe thead th {\n",
       "        text-align: right;\n",
       "    }\n",
       "</style>\n",
       "<table border=\"1\" class=\"dataframe\">\n",
       "  <thead>\n",
       "    <tr style=\"text-align: right;\">\n",
       "      <th></th>\n",
       "      <th>memid</th>\n",
       "      <th>surname</th>\n",
       "      <th>firstname</th>\n",
       "      <th>address</th>\n",
       "      <th>zipcode</th>\n",
       "      <th>telephone</th>\n",
       "      <th>recommendedby</th>\n",
       "      <th>joindate</th>\n",
       "      <th>bookid</th>\n",
       "      <th>facid</th>\n",
       "      <th>starttime</th>\n",
       "      <th>slots</th>\n",
       "      <th>name</th>\n",
       "      <th>membercost</th>\n",
       "      <th>guestcost</th>\n",
       "      <th>initialoutlay</th>\n",
       "      <th>monthlymaintenance</th>\n",
       "    </tr>\n",
       "  </thead>\n",
       "  <tbody>\n",
       "    <tr>\n",
       "      <th>0</th>\n",
       "      <td>0</td>\n",
       "      <td>GUEST</td>\n",
       "      <td>GUEST</td>\n",
       "      <td>GUEST</td>\n",
       "      <td>0</td>\n",
       "      <td>(000) 000-0000</td>\n",
       "      <td>NaN</td>\n",
       "      <td>2012-07-01 00:00:00</td>\n",
       "      <td>2</td>\n",
       "      <td>6</td>\n",
       "      <td>2012-07-03 18:00:00</td>\n",
       "      <td>2</td>\n",
       "      <td>Squash Court</td>\n",
       "      <td>3.5</td>\n",
       "      <td>17.5</td>\n",
       "      <td>5000</td>\n",
       "      <td>80</td>\n",
       "    </tr>\n",
       "    <tr>\n",
       "      <th>1</th>\n",
       "      <td>0</td>\n",
       "      <td>GUEST</td>\n",
       "      <td>GUEST</td>\n",
       "      <td>GUEST</td>\n",
       "      <td>0</td>\n",
       "      <td>(000) 000-0000</td>\n",
       "      <td>NaN</td>\n",
       "      <td>2012-07-01 00:00:00</td>\n",
       "      <td>11</td>\n",
       "      <td>6</td>\n",
       "      <td>2012-07-04 12:30:00</td>\n",
       "      <td>2</td>\n",
       "      <td>Squash Court</td>\n",
       "      <td>3.5</td>\n",
       "      <td>17.5</td>\n",
       "      <td>5000</td>\n",
       "      <td>80</td>\n",
       "    </tr>\n",
       "    <tr>\n",
       "      <th>2</th>\n",
       "      <td>0</td>\n",
       "      <td>GUEST</td>\n",
       "      <td>GUEST</td>\n",
       "      <td>GUEST</td>\n",
       "      <td>0</td>\n",
       "      <td>(000) 000-0000</td>\n",
       "      <td>NaN</td>\n",
       "      <td>2012-07-01 00:00:00</td>\n",
       "      <td>12</td>\n",
       "      <td>6</td>\n",
       "      <td>2012-07-04 14:00:00</td>\n",
       "      <td>2</td>\n",
       "      <td>Squash Court</td>\n",
       "      <td>3.5</td>\n",
       "      <td>17.5</td>\n",
       "      <td>5000</td>\n",
       "      <td>80</td>\n",
       "    </tr>\n",
       "    <tr>\n",
       "      <th>3</th>\n",
       "      <td>0</td>\n",
       "      <td>GUEST</td>\n",
       "      <td>GUEST</td>\n",
       "      <td>GUEST</td>\n",
       "      <td>0</td>\n",
       "      <td>(000) 000-0000</td>\n",
       "      <td>NaN</td>\n",
       "      <td>2012-07-01 00:00:00</td>\n",
       "      <td>22</td>\n",
       "      <td>6</td>\n",
       "      <td>2012-07-05 13:00:00</td>\n",
       "      <td>2</td>\n",
       "      <td>Squash Court</td>\n",
       "      <td>3.5</td>\n",
       "      <td>17.5</td>\n",
       "      <td>5000</td>\n",
       "      <td>80</td>\n",
       "    </tr>\n",
       "    <tr>\n",
       "      <th>4</th>\n",
       "      <td>0</td>\n",
       "      <td>GUEST</td>\n",
       "      <td>GUEST</td>\n",
       "      <td>GUEST</td>\n",
       "      <td>0</td>\n",
       "      <td>(000) 000-0000</td>\n",
       "      <td>NaN</td>\n",
       "      <td>2012-07-01 00:00:00</td>\n",
       "      <td>47</td>\n",
       "      <td>6</td>\n",
       "      <td>2012-07-07 08:30:00</td>\n",
       "      <td>2</td>\n",
       "      <td>Squash Court</td>\n",
       "      <td>3.5</td>\n",
       "      <td>17.5</td>\n",
       "      <td>5000</td>\n",
       "      <td>80</td>\n",
       "    </tr>\n",
       "  </tbody>\n",
       "</table>\n",
       "</div>"
      ],
      "text/plain": [
       "   memid surname firstname address  zipcode       telephone  recommendedby  \\\n",
       "0      0   GUEST     GUEST   GUEST        0  (000) 000-0000            NaN   \n",
       "1      0   GUEST     GUEST   GUEST        0  (000) 000-0000            NaN   \n",
       "2      0   GUEST     GUEST   GUEST        0  (000) 000-0000            NaN   \n",
       "3      0   GUEST     GUEST   GUEST        0  (000) 000-0000            NaN   \n",
       "4      0   GUEST     GUEST   GUEST        0  (000) 000-0000            NaN   \n",
       "\n",
       "              joindate  bookid  facid            starttime  slots  \\\n",
       "0  2012-07-01 00:00:00       2      6  2012-07-03 18:00:00      2   \n",
       "1  2012-07-01 00:00:00      11      6  2012-07-04 12:30:00      2   \n",
       "2  2012-07-01 00:00:00      12      6  2012-07-04 14:00:00      2   \n",
       "3  2012-07-01 00:00:00      22      6  2012-07-05 13:00:00      2   \n",
       "4  2012-07-01 00:00:00      47      6  2012-07-07 08:30:00      2   \n",
       "\n",
       "           name  membercost  guestcost  initialoutlay  monthlymaintenance  \n",
       "0  Squash Court         3.5       17.5           5000                  80  \n",
       "1  Squash Court         3.5       17.5           5000                  80  \n",
       "2  Squash Court         3.5       17.5           5000                  80  \n",
       "3  Squash Court         3.5       17.5           5000                  80  \n",
       "4  Squash Court         3.5       17.5           5000                  80  "
      ]
     },
     "execution_count": 60,
     "metadata": {},
     "output_type": "execute_result"
    }
   ],
   "source": [
    "merge_all.head()"
   ]
  },
  {
   "cell_type": "code",
   "execution_count": 61,
   "metadata": {},
   "outputs": [
    {
     "data": {
      "text/plain": [
       "memid                   30\n",
       "surname                 25\n",
       "firstname               27\n",
       "address                 29\n",
       "zipcode                 28\n",
       "telephone               29\n",
       "recommendedby           13\n",
       "joindate                30\n",
       "bookid                4043\n",
       "facid                    9\n",
       "starttime             1814\n",
       "slots                    9\n",
       "name                     9\n",
       "membercost               4\n",
       "guestcost                5\n",
       "initialoutlay            7\n",
       "monthlymaintenance       6\n",
       "dtype: int64"
      ]
     },
     "execution_count": 61,
     "metadata": {},
     "output_type": "execute_result"
    }
   ],
   "source": [
    "merge_all.nunique()"
   ]
  },
  {
   "cell_type": "code",
   "execution_count": 62,
   "metadata": {},
   "outputs": [],
   "source": [
    "merge_all['joindate'] = pd.to_datetime(merge_all['joindate'], format='%Y-%m-%d %H:%M')"
   ]
  },
  {
   "cell_type": "code",
   "execution_count": 63,
   "metadata": {},
   "outputs": [],
   "source": [
    "merge_all['starttime'] = pd.to_datetime(merge_all['starttime'], format='%Y-%m-%d %H:%M')"
   ]
  },
  {
   "cell_type": "code",
   "execution_count": 64,
   "metadata": {},
   "outputs": [
    {
     "name": "stdout",
     "output_type": "stream",
     "text": [
      "<class 'pandas.core.frame.DataFrame'>\n",
      "Int64Index: 4043 entries, 0 to 4042\n",
      "Data columns (total 17 columns):\n",
      " #   Column              Non-Null Count  Dtype         \n",
      "---  ------              --------------  -----         \n",
      " 0   memid               4043 non-null   int64         \n",
      " 1   surname             4043 non-null   object        \n",
      " 2   firstname           4043 non-null   object        \n",
      " 3   address             4043 non-null   object        \n",
      " 4   zipcode             4043 non-null   int64         \n",
      " 5   telephone           4043 non-null   object        \n",
      " 6   recommendedby       1975 non-null   float64       \n",
      " 7   joindate            4043 non-null   datetime64[ns]\n",
      " 8   bookid              4043 non-null   int64         \n",
      " 9   facid               4043 non-null   int64         \n",
      " 10  starttime           4043 non-null   datetime64[ns]\n",
      " 11  slots               4043 non-null   int64         \n",
      " 12  name                4043 non-null   object        \n",
      " 13  membercost          4043 non-null   float64       \n",
      " 14  guestcost           4043 non-null   float64       \n",
      " 15  initialoutlay       4043 non-null   int64         \n",
      " 16  monthlymaintenance  4043 non-null   int64         \n",
      "dtypes: datetime64[ns](2), float64(3), int64(7), object(5)\n",
      "memory usage: 568.5+ KB\n"
     ]
    }
   ],
   "source": [
    "merge_all.info()"
   ]
  },
  {
   "cell_type": "code",
   "execution_count": 65,
   "metadata": {},
   "outputs": [
    {
     "name": "stdout",
     "output_type": "stream",
     "text": [
      "2012-07-01 00:00:00\n"
     ]
    }
   ],
   "source": [
    "print(merge_all['joindate'].min())"
   ]
  },
  {
   "cell_type": "code",
   "execution_count": 66,
   "metadata": {},
   "outputs": [
    {
     "name": "stdout",
     "output_type": "stream",
     "text": [
      "2012-09-22 08:36:38\n"
     ]
    }
   ],
   "source": [
    "print(merge_all['joindate'].max())"
   ]
  },
  {
   "cell_type": "code",
   "execution_count": 67,
   "metadata": {},
   "outputs": [
    {
     "name": "stdout",
     "output_type": "stream",
     "text": [
      "   facid\n",
      "0      3\n",
      "1      4\n",
      "2      6\n",
      "3      7\n",
      "4      8\n",
      "5      0\n",
      "6      1\n",
      "7      2\n",
      "8      5\n"
     ]
    },
    {
     "name": "stderr",
     "output_type": "stream",
     "text": [
      "C:\\Users\\avel8\\AppData\\Local\\Temp\\ipykernel_17608\\2171861169.py:8: FutureWarning: this method is deprecated in favour of `Styler.hide(axis='index')`\n",
      "  df_Booking_distinct_facid.style.hide_index()\n"
     ]
    }
   ],
   "source": [
    "# The Booking table\n",
    "\n",
    "query = ''' SELECT DISTINCT facid\n",
    "            FROM Bookings;\n",
    "        '''\n",
    "\n",
    "df_Booking_distinct_facid = pd.read_sql_query(query, conn)\n",
    "df_Booking_distinct_facid.style.hide_index()\n",
    "print(df_Booking_distinct_facid)"
   ]
  },
  {
   "cell_type": "markdown",
   "metadata": {},
   "source": [
    "There are a total of 9 facilities at the country club."
   ]
  },
  {
   "cell_type": "code",
   "execution_count": 68,
   "metadata": {},
   "outputs": [
    {
     "data": {
      "text/plain": [
       "memid            31\n",
       "surname          25\n",
       "firstname        27\n",
       "address          30\n",
       "zipcode          29\n",
       "telephone        30\n",
       "recommendedby    13\n",
       "joindate         31\n",
       "dtype: int64"
      ]
     },
     "execution_count": 68,
     "metadata": {},
     "output_type": "execute_result"
    }
   ],
   "source": [
    "df_Members.nunique()"
   ]
  },
  {
   "cell_type": "markdown",
   "metadata": {},
   "source": [
    "Our booking data spans from July 3, 2012 through September 30, 2012."
   ]
  },
  {
   "cell_type": "code",
   "execution_count": 69,
   "metadata": {},
   "outputs": [
    {
     "name": "stderr",
     "output_type": "stream",
     "text": [
      "C:\\Users\\avel8\\AppData\\Local\\Temp\\ipykernel_17608\\1154457885.py:9: FutureWarning: this method is deprecated in favour of `Styler.hide(axis='index')`\n",
      "  df.style.hide_index()\n"
     ]
    },
    {
     "data": {
      "text/html": [
       "<style type=\"text/css\">\n",
       "</style>\n",
       "<table id=\"T_4d520\">\n",
       "  <thead>\n",
       "    <tr>\n",
       "      <th id=\"T_4d520_level0_col0\" class=\"col_heading level0 col0\" >COUNT(DISTINCT memid)</th>\n",
       "    </tr>\n",
       "  </thead>\n",
       "  <tbody>\n",
       "    <tr>\n",
       "      <td id=\"T_4d520_row0_col0\" class=\"data row0 col0\" >30</td>\n",
       "    </tr>\n",
       "  </tbody>\n",
       "</table>\n"
      ],
      "text/plain": [
       "<pandas.io.formats.style.Styler at 0x2a564e2f3a0>"
      ]
     },
     "execution_count": 69,
     "metadata": {},
     "output_type": "execute_result"
    }
   ],
   "source": [
    "# Show member count \n",
    "\n",
    "query = '''SELECT COUNT(DISTINCT memid)\n",
    "           FROM members\n",
    "           WHERE memid != 0;\n",
    "        '''\n",
    "\n",
    "df = pd.read_sql_query(query, conn)\n",
    "df.style.hide_index()"
   ]
  },
  {
   "cell_type": "markdown",
   "metadata": {},
   "source": [
    "We have 30 members and allow for guest visits."
   ]
  },
  {
   "cell_type": "markdown",
   "metadata": {},
   "source": [
    "Now let's write some queries to produce datasets of interest. \n",
    "\n"
   ]
  },
  {
   "cell_type": "code",
   "execution_count": 70,
   "metadata": {},
   "outputs": [
    {
     "name": "stdout",
     "output_type": "stream",
     "text": [
      "<class 'pandas.core.frame.DataFrame'>\n",
      "Int64Index: 4043 entries, 0 to 4042\n",
      "Data columns (total 17 columns):\n",
      " #   Column              Non-Null Count  Dtype         \n",
      "---  ------              --------------  -----         \n",
      " 0   memid               4043 non-null   int64         \n",
      " 1   surname             4043 non-null   object        \n",
      " 2   firstname           4043 non-null   object        \n",
      " 3   address             4043 non-null   object        \n",
      " 4   zipcode             4043 non-null   int64         \n",
      " 5   telephone           4043 non-null   object        \n",
      " 6   recommendedby       1975 non-null   float64       \n",
      " 7   joindate            4043 non-null   datetime64[ns]\n",
      " 8   bookid              4043 non-null   int64         \n",
      " 9   facid               4043 non-null   int64         \n",
      " 10  starttime           4043 non-null   datetime64[ns]\n",
      " 11  slots               4043 non-null   int64         \n",
      " 12  name                4043 non-null   object        \n",
      " 13  membercost          4043 non-null   float64       \n",
      " 14  guestcost           4043 non-null   float64       \n",
      " 15  initialoutlay       4043 non-null   int64         \n",
      " 16  monthlymaintenance  4043 non-null   int64         \n",
      "dtypes: datetime64[ns](2), float64(3), int64(7), object(5)\n",
      "memory usage: 568.5+ KB\n",
      "None\n"
     ]
    }
   ],
   "source": [
    "print(merge_all.info())"
   ]
  },
  {
   "cell_type": "code",
   "execution_count": 71,
   "metadata": {},
   "outputs": [
    {
     "data": {
      "text/html": [
       "<div>\n",
       "<style scoped>\n",
       "    .dataframe tbody tr th:only-of-type {\n",
       "        vertical-align: middle;\n",
       "    }\n",
       "\n",
       "    .dataframe tbody tr th {\n",
       "        vertical-align: top;\n",
       "    }\n",
       "\n",
       "    .dataframe thead th {\n",
       "        text-align: right;\n",
       "    }\n",
       "</style>\n",
       "<table border=\"1\" class=\"dataframe\">\n",
       "  <thead>\n",
       "    <tr style=\"text-align: right;\">\n",
       "      <th></th>\n",
       "      <th>memid</th>\n",
       "      <th>surname</th>\n",
       "      <th>firstname</th>\n",
       "      <th>address</th>\n",
       "      <th>zipcode</th>\n",
       "      <th>telephone</th>\n",
       "      <th>recommendedby</th>\n",
       "      <th>joindate</th>\n",
       "      <th>bookid</th>\n",
       "      <th>facid</th>\n",
       "      <th>starttime</th>\n",
       "      <th>slots</th>\n",
       "      <th>name</th>\n",
       "      <th>membercost</th>\n",
       "      <th>guestcost</th>\n",
       "      <th>initialoutlay</th>\n",
       "      <th>monthlymaintenance</th>\n",
       "    </tr>\n",
       "  </thead>\n",
       "  <tbody>\n",
       "    <tr>\n",
       "      <th>0</th>\n",
       "      <td>0</td>\n",
       "      <td>GUEST</td>\n",
       "      <td>GUEST</td>\n",
       "      <td>GUEST</td>\n",
       "      <td>0</td>\n",
       "      <td>(000) 000-0000</td>\n",
       "      <td>NaN</td>\n",
       "      <td>2012-07-01</td>\n",
       "      <td>2</td>\n",
       "      <td>6</td>\n",
       "      <td>2012-07-03 18:00:00</td>\n",
       "      <td>2</td>\n",
       "      <td>Squash Court</td>\n",
       "      <td>3.5</td>\n",
       "      <td>17.5</td>\n",
       "      <td>5000</td>\n",
       "      <td>80</td>\n",
       "    </tr>\n",
       "    <tr>\n",
       "      <th>1</th>\n",
       "      <td>0</td>\n",
       "      <td>GUEST</td>\n",
       "      <td>GUEST</td>\n",
       "      <td>GUEST</td>\n",
       "      <td>0</td>\n",
       "      <td>(000) 000-0000</td>\n",
       "      <td>NaN</td>\n",
       "      <td>2012-07-01</td>\n",
       "      <td>11</td>\n",
       "      <td>6</td>\n",
       "      <td>2012-07-04 12:30:00</td>\n",
       "      <td>2</td>\n",
       "      <td>Squash Court</td>\n",
       "      <td>3.5</td>\n",
       "      <td>17.5</td>\n",
       "      <td>5000</td>\n",
       "      <td>80</td>\n",
       "    </tr>\n",
       "  </tbody>\n",
       "</table>\n",
       "</div>"
      ],
      "text/plain": [
       "   memid surname firstname address  zipcode       telephone  recommendedby  \\\n",
       "0      0   GUEST     GUEST   GUEST        0  (000) 000-0000            NaN   \n",
       "1      0   GUEST     GUEST   GUEST        0  (000) 000-0000            NaN   \n",
       "\n",
       "    joindate  bookid  facid           starttime  slots          name  \\\n",
       "0 2012-07-01       2      6 2012-07-03 18:00:00      2  Squash Court   \n",
       "1 2012-07-01      11      6 2012-07-04 12:30:00      2  Squash Court   \n",
       "\n",
       "   membercost  guestcost  initialoutlay  monthlymaintenance  \n",
       "0         3.5       17.5           5000                  80  \n",
       "1         3.5       17.5           5000                  80  "
      ]
     },
     "execution_count": 71,
     "metadata": {},
     "output_type": "execute_result"
    }
   ],
   "source": [
    "merge_all.head(2)"
   ]
  },
  {
   "cell_type": "code",
   "execution_count": 72,
   "metadata": {},
   "outputs": [
    {
     "data": {
      "text/html": [
       "<div>\n",
       "<style scoped>\n",
       "    .dataframe tbody tr th:only-of-type {\n",
       "        vertical-align: middle;\n",
       "    }\n",
       "\n",
       "    .dataframe tbody tr th {\n",
       "        vertical-align: top;\n",
       "    }\n",
       "\n",
       "    .dataframe thead th {\n",
       "        text-align: right;\n",
       "    }\n",
       "</style>\n",
       "<table border=\"1\" class=\"dataframe\">\n",
       "  <thead>\n",
       "    <tr style=\"text-align: right;\">\n",
       "      <th></th>\n",
       "      <th>memid</th>\n",
       "      <th>surname</th>\n",
       "      <th>firstname</th>\n",
       "      <th>address</th>\n",
       "      <th>zipcode</th>\n",
       "      <th>telephone</th>\n",
       "      <th>recommendedby</th>\n",
       "      <th>joindate</th>\n",
       "      <th>bookid</th>\n",
       "      <th>facid</th>\n",
       "      <th>starttime</th>\n",
       "      <th>slots</th>\n",
       "      <th>name</th>\n",
       "      <th>membercost</th>\n",
       "      <th>guestcost</th>\n",
       "      <th>initialoutlay</th>\n",
       "      <th>monthlymaintenance</th>\n",
       "    </tr>\n",
       "  </thead>\n",
       "  <tbody>\n",
       "    <tr>\n",
       "      <th>0</th>\n",
       "      <td>0</td>\n",
       "      <td>GUEST</td>\n",
       "      <td>GUEST</td>\n",
       "      <td>GUEST</td>\n",
       "      <td>0</td>\n",
       "      <td>(000) 000-0000</td>\n",
       "      <td>NaN</td>\n",
       "      <td>2012-07-01</td>\n",
       "      <td>2</td>\n",
       "      <td>6</td>\n",
       "      <td>2012-07-03 18:00:00</td>\n",
       "      <td>2</td>\n",
       "      <td>Squash Court</td>\n",
       "      <td>3.5</td>\n",
       "      <td>17.5</td>\n",
       "      <td>5000</td>\n",
       "      <td>80</td>\n",
       "    </tr>\n",
       "    <tr>\n",
       "      <th>1</th>\n",
       "      <td>0</td>\n",
       "      <td>GUEST</td>\n",
       "      <td>GUEST</td>\n",
       "      <td>GUEST</td>\n",
       "      <td>0</td>\n",
       "      <td>(000) 000-0000</td>\n",
       "      <td>NaN</td>\n",
       "      <td>2012-07-01</td>\n",
       "      <td>11</td>\n",
       "      <td>6</td>\n",
       "      <td>2012-07-04 12:30:00</td>\n",
       "      <td>2</td>\n",
       "      <td>Squash Court</td>\n",
       "      <td>3.5</td>\n",
       "      <td>17.5</td>\n",
       "      <td>5000</td>\n",
       "      <td>80</td>\n",
       "    </tr>\n",
       "  </tbody>\n",
       "</table>\n",
       "</div>"
      ],
      "text/plain": [
       "   memid surname firstname address  zipcode       telephone  recommendedby  \\\n",
       "0      0   GUEST     GUEST   GUEST        0  (000) 000-0000            NaN   \n",
       "1      0   GUEST     GUEST   GUEST        0  (000) 000-0000            NaN   \n",
       "\n",
       "    joindate  bookid  facid           starttime  slots          name  \\\n",
       "0 2012-07-01       2      6 2012-07-03 18:00:00      2  Squash Court   \n",
       "1 2012-07-01      11      6 2012-07-04 12:30:00      2  Squash Court   \n",
       "\n",
       "   membercost  guestcost  initialoutlay  monthlymaintenance  \n",
       "0         3.5       17.5           5000                  80  \n",
       "1         3.5       17.5           5000                  80  "
      ]
     },
     "execution_count": 72,
     "metadata": {},
     "output_type": "execute_result"
    }
   ],
   "source": [
    "merge_all[\"recommendedby\"] = pd.to_numeric(merge_all[\"recommendedby\"])\n",
    "merge_all.head(2)"
   ]
  },
  {
   "cell_type": "code",
   "execution_count": 73,
   "metadata": {},
   "outputs": [
    {
     "data": {
      "text/html": [
       "<div>\n",
       "<style scoped>\n",
       "    .dataframe tbody tr th:only-of-type {\n",
       "        vertical-align: middle;\n",
       "    }\n",
       "\n",
       "    .dataframe tbody tr th {\n",
       "        vertical-align: top;\n",
       "    }\n",
       "\n",
       "    .dataframe thead th {\n",
       "        text-align: right;\n",
       "    }\n",
       "</style>\n",
       "<table border=\"1\" class=\"dataframe\">\n",
       "  <thead>\n",
       "    <tr style=\"text-align: right;\">\n",
       "      <th></th>\n",
       "      <th>memid</th>\n",
       "      <th>surname</th>\n",
       "      <th>firstname</th>\n",
       "      <th>address</th>\n",
       "      <th>zipcode</th>\n",
       "      <th>telephone</th>\n",
       "      <th>recommendedby</th>\n",
       "      <th>joindate</th>\n",
       "      <th>bookid</th>\n",
       "      <th>facid</th>\n",
       "      <th>starttime</th>\n",
       "      <th>slots</th>\n",
       "      <th>name</th>\n",
       "      <th>membercost</th>\n",
       "      <th>guestcost</th>\n",
       "      <th>initialoutlay</th>\n",
       "      <th>monthlymaintenance</th>\n",
       "    </tr>\n",
       "  </thead>\n",
       "  <tbody>\n",
       "    <tr>\n",
       "      <th>0</th>\n",
       "      <td>0</td>\n",
       "      <td>GUEST</td>\n",
       "      <td>GUEST</td>\n",
       "      <td>GUEST</td>\n",
       "      <td>0</td>\n",
       "      <td>(000) 000-0000</td>\n",
       "      <td>NaN</td>\n",
       "      <td>2012-07-01</td>\n",
       "      <td>2</td>\n",
       "      <td>6</td>\n",
       "      <td>2012-07-03 18:00:00</td>\n",
       "      <td>2</td>\n",
       "      <td>Squash Court</td>\n",
       "      <td>3.5</td>\n",
       "      <td>17.5</td>\n",
       "      <td>5000</td>\n",
       "      <td>80</td>\n",
       "    </tr>\n",
       "    <tr>\n",
       "      <th>1</th>\n",
       "      <td>0</td>\n",
       "      <td>GUEST</td>\n",
       "      <td>GUEST</td>\n",
       "      <td>GUEST</td>\n",
       "      <td>0</td>\n",
       "      <td>(000) 000-0000</td>\n",
       "      <td>NaN</td>\n",
       "      <td>2012-07-01</td>\n",
       "      <td>11</td>\n",
       "      <td>6</td>\n",
       "      <td>2012-07-04 12:30:00</td>\n",
       "      <td>2</td>\n",
       "      <td>Squash Court</td>\n",
       "      <td>3.5</td>\n",
       "      <td>17.5</td>\n",
       "      <td>5000</td>\n",
       "      <td>80</td>\n",
       "    </tr>\n",
       "  </tbody>\n",
       "</table>\n",
       "</div>"
      ],
      "text/plain": [
       "   memid surname firstname address  zipcode       telephone  recommendedby  \\\n",
       "0      0   GUEST     GUEST   GUEST        0  (000) 000-0000            NaN   \n",
       "1      0   GUEST     GUEST   GUEST        0  (000) 000-0000            NaN   \n",
       "\n",
       "    joindate  bookid  facid           starttime  slots          name  \\\n",
       "0 2012-07-01       2      6 2012-07-03 18:00:00      2  Squash Court   \n",
       "1 2012-07-01      11      6 2012-07-04 12:30:00      2  Squash Court   \n",
       "\n",
       "   membercost  guestcost  initialoutlay  monthlymaintenance  \n",
       "0         3.5       17.5           5000                  80  \n",
       "1         3.5       17.5           5000                  80  "
      ]
     },
     "execution_count": 73,
     "metadata": {},
     "output_type": "execute_result"
    }
   ],
   "source": [
    "merge_all[\"recommendedby\"].fillna(0)\n",
    "merge_all.head(2)"
   ]
  },
  {
   "cell_type": "code",
   "execution_count": 74,
   "metadata": {},
   "outputs": [],
   "source": [
    "# member=merge_all.loc[(merge_all['memid'] !=0)]\n",
    "# member.head()"
   ]
  },
  {
   "cell_type": "code",
   "execution_count": 75,
   "metadata": {},
   "outputs": [
    {
     "data": {
      "text/html": [
       "<div>\n",
       "<style scoped>\n",
       "    .dataframe tbody tr th:only-of-type {\n",
       "        vertical-align: middle;\n",
       "    }\n",
       "\n",
       "    .dataframe tbody tr th {\n",
       "        vertical-align: top;\n",
       "    }\n",
       "\n",
       "    .dataframe thead th {\n",
       "        text-align: right;\n",
       "    }\n",
       "</style>\n",
       "<table border=\"1\" class=\"dataframe\">\n",
       "  <thead>\n",
       "    <tr style=\"text-align: right;\">\n",
       "      <th></th>\n",
       "      <th>memid</th>\n",
       "      <th>surname</th>\n",
       "      <th>firstname</th>\n",
       "      <th>address</th>\n",
       "      <th>zipcode</th>\n",
       "      <th>telephone</th>\n",
       "      <th>recommendedby</th>\n",
       "      <th>joindate</th>\n",
       "      <th>bookid</th>\n",
       "      <th>facid</th>\n",
       "      <th>starttime</th>\n",
       "      <th>slots</th>\n",
       "      <th>name</th>\n",
       "      <th>membercost</th>\n",
       "      <th>guestcost</th>\n",
       "      <th>initialoutlay</th>\n",
       "      <th>monthlymaintenance</th>\n",
       "      <th>member_total_cost</th>\n",
       "    </tr>\n",
       "  </thead>\n",
       "  <tbody>\n",
       "    <tr>\n",
       "      <th>0</th>\n",
       "      <td>0</td>\n",
       "      <td>GUEST</td>\n",
       "      <td>GUEST</td>\n",
       "      <td>GUEST</td>\n",
       "      <td>0</td>\n",
       "      <td>(000) 000-0000</td>\n",
       "      <td>NaN</td>\n",
       "      <td>2012-07-01</td>\n",
       "      <td>2</td>\n",
       "      <td>6</td>\n",
       "      <td>2012-07-03 18:00:00</td>\n",
       "      <td>2</td>\n",
       "      <td>Squash Court</td>\n",
       "      <td>3.5</td>\n",
       "      <td>17.5</td>\n",
       "      <td>5000</td>\n",
       "      <td>80</td>\n",
       "      <td>7.0</td>\n",
       "    </tr>\n",
       "    <tr>\n",
       "      <th>1</th>\n",
       "      <td>0</td>\n",
       "      <td>GUEST</td>\n",
       "      <td>GUEST</td>\n",
       "      <td>GUEST</td>\n",
       "      <td>0</td>\n",
       "      <td>(000) 000-0000</td>\n",
       "      <td>NaN</td>\n",
       "      <td>2012-07-01</td>\n",
       "      <td>11</td>\n",
       "      <td>6</td>\n",
       "      <td>2012-07-04 12:30:00</td>\n",
       "      <td>2</td>\n",
       "      <td>Squash Court</td>\n",
       "      <td>3.5</td>\n",
       "      <td>17.5</td>\n",
       "      <td>5000</td>\n",
       "      <td>80</td>\n",
       "      <td>7.0</td>\n",
       "    </tr>\n",
       "    <tr>\n",
       "      <th>2</th>\n",
       "      <td>0</td>\n",
       "      <td>GUEST</td>\n",
       "      <td>GUEST</td>\n",
       "      <td>GUEST</td>\n",
       "      <td>0</td>\n",
       "      <td>(000) 000-0000</td>\n",
       "      <td>NaN</td>\n",
       "      <td>2012-07-01</td>\n",
       "      <td>12</td>\n",
       "      <td>6</td>\n",
       "      <td>2012-07-04 14:00:00</td>\n",
       "      <td>2</td>\n",
       "      <td>Squash Court</td>\n",
       "      <td>3.5</td>\n",
       "      <td>17.5</td>\n",
       "      <td>5000</td>\n",
       "      <td>80</td>\n",
       "      <td>7.0</td>\n",
       "    </tr>\n",
       "    <tr>\n",
       "      <th>3</th>\n",
       "      <td>0</td>\n",
       "      <td>GUEST</td>\n",
       "      <td>GUEST</td>\n",
       "      <td>GUEST</td>\n",
       "      <td>0</td>\n",
       "      <td>(000) 000-0000</td>\n",
       "      <td>NaN</td>\n",
       "      <td>2012-07-01</td>\n",
       "      <td>22</td>\n",
       "      <td>6</td>\n",
       "      <td>2012-07-05 13:00:00</td>\n",
       "      <td>2</td>\n",
       "      <td>Squash Court</td>\n",
       "      <td>3.5</td>\n",
       "      <td>17.5</td>\n",
       "      <td>5000</td>\n",
       "      <td>80</td>\n",
       "      <td>7.0</td>\n",
       "    </tr>\n",
       "    <tr>\n",
       "      <th>4</th>\n",
       "      <td>0</td>\n",
       "      <td>GUEST</td>\n",
       "      <td>GUEST</td>\n",
       "      <td>GUEST</td>\n",
       "      <td>0</td>\n",
       "      <td>(000) 000-0000</td>\n",
       "      <td>NaN</td>\n",
       "      <td>2012-07-01</td>\n",
       "      <td>47</td>\n",
       "      <td>6</td>\n",
       "      <td>2012-07-07 08:30:00</td>\n",
       "      <td>2</td>\n",
       "      <td>Squash Court</td>\n",
       "      <td>3.5</td>\n",
       "      <td>17.5</td>\n",
       "      <td>5000</td>\n",
       "      <td>80</td>\n",
       "      <td>7.0</td>\n",
       "    </tr>\n",
       "  </tbody>\n",
       "</table>\n",
       "</div>"
      ],
      "text/plain": [
       "   memid surname firstname address  zipcode       telephone  recommendedby  \\\n",
       "0      0   GUEST     GUEST   GUEST        0  (000) 000-0000            NaN   \n",
       "1      0   GUEST     GUEST   GUEST        0  (000) 000-0000            NaN   \n",
       "2      0   GUEST     GUEST   GUEST        0  (000) 000-0000            NaN   \n",
       "3      0   GUEST     GUEST   GUEST        0  (000) 000-0000            NaN   \n",
       "4      0   GUEST     GUEST   GUEST        0  (000) 000-0000            NaN   \n",
       "\n",
       "    joindate  bookid  facid           starttime  slots          name  \\\n",
       "0 2012-07-01       2      6 2012-07-03 18:00:00      2  Squash Court   \n",
       "1 2012-07-01      11      6 2012-07-04 12:30:00      2  Squash Court   \n",
       "2 2012-07-01      12      6 2012-07-04 14:00:00      2  Squash Court   \n",
       "3 2012-07-01      22      6 2012-07-05 13:00:00      2  Squash Court   \n",
       "4 2012-07-01      47      6 2012-07-07 08:30:00      2  Squash Court   \n",
       "\n",
       "   membercost  guestcost  initialoutlay  monthlymaintenance  member_total_cost  \n",
       "0         3.5       17.5           5000                  80                7.0  \n",
       "1         3.5       17.5           5000                  80                7.0  \n",
       "2         3.5       17.5           5000                  80                7.0  \n",
       "3         3.5       17.5           5000                  80                7.0  \n",
       "4         3.5       17.5           5000                  80                7.0  "
      ]
     },
     "execution_count": 75,
     "metadata": {},
     "output_type": "execute_result"
    }
   ],
   "source": [
    "merge_all['member_total_cost']=merge_all['membercost']*merge_all['slots']\n",
    "merge_all.head()"
   ]
  },
  {
   "cell_type": "code",
   "execution_count": 76,
   "metadata": {},
   "outputs": [
    {
     "data": {
      "text/html": [
       "<div>\n",
       "<style scoped>\n",
       "    .dataframe tbody tr th:only-of-type {\n",
       "        vertical-align: middle;\n",
       "    }\n",
       "\n",
       "    .dataframe tbody tr th {\n",
       "        vertical-align: top;\n",
       "    }\n",
       "\n",
       "    .dataframe thead th {\n",
       "        text-align: right;\n",
       "    }\n",
       "</style>\n",
       "<table border=\"1\" class=\"dataframe\">\n",
       "  <thead>\n",
       "    <tr style=\"text-align: right;\">\n",
       "      <th></th>\n",
       "      <th>memid</th>\n",
       "      <th>surname</th>\n",
       "      <th>firstname</th>\n",
       "      <th>address</th>\n",
       "      <th>zipcode</th>\n",
       "      <th>telephone</th>\n",
       "      <th>recommendedby</th>\n",
       "      <th>joindate</th>\n",
       "      <th>bookid</th>\n",
       "      <th>facid</th>\n",
       "      <th>starttime</th>\n",
       "      <th>slots</th>\n",
       "      <th>name</th>\n",
       "      <th>membercost</th>\n",
       "      <th>guestcost</th>\n",
       "      <th>initialoutlay</th>\n",
       "      <th>monthlymaintenance</th>\n",
       "      <th>member_total_cost</th>\n",
       "      <th>guest_total_cost</th>\n",
       "    </tr>\n",
       "  </thead>\n",
       "  <tbody>\n",
       "    <tr>\n",
       "      <th>0</th>\n",
       "      <td>0</td>\n",
       "      <td>GUEST</td>\n",
       "      <td>GUEST</td>\n",
       "      <td>GUEST</td>\n",
       "      <td>0</td>\n",
       "      <td>(000) 000-0000</td>\n",
       "      <td>NaN</td>\n",
       "      <td>2012-07-01</td>\n",
       "      <td>2</td>\n",
       "      <td>6</td>\n",
       "      <td>2012-07-03 18:00:00</td>\n",
       "      <td>2</td>\n",
       "      <td>Squash Court</td>\n",
       "      <td>3.5</td>\n",
       "      <td>17.5</td>\n",
       "      <td>5000</td>\n",
       "      <td>80</td>\n",
       "      <td>7.0</td>\n",
       "      <td>35.0</td>\n",
       "    </tr>\n",
       "    <tr>\n",
       "      <th>1</th>\n",
       "      <td>0</td>\n",
       "      <td>GUEST</td>\n",
       "      <td>GUEST</td>\n",
       "      <td>GUEST</td>\n",
       "      <td>0</td>\n",
       "      <td>(000) 000-0000</td>\n",
       "      <td>NaN</td>\n",
       "      <td>2012-07-01</td>\n",
       "      <td>11</td>\n",
       "      <td>6</td>\n",
       "      <td>2012-07-04 12:30:00</td>\n",
       "      <td>2</td>\n",
       "      <td>Squash Court</td>\n",
       "      <td>3.5</td>\n",
       "      <td>17.5</td>\n",
       "      <td>5000</td>\n",
       "      <td>80</td>\n",
       "      <td>7.0</td>\n",
       "      <td>35.0</td>\n",
       "    </tr>\n",
       "    <tr>\n",
       "      <th>2</th>\n",
       "      <td>0</td>\n",
       "      <td>GUEST</td>\n",
       "      <td>GUEST</td>\n",
       "      <td>GUEST</td>\n",
       "      <td>0</td>\n",
       "      <td>(000) 000-0000</td>\n",
       "      <td>NaN</td>\n",
       "      <td>2012-07-01</td>\n",
       "      <td>12</td>\n",
       "      <td>6</td>\n",
       "      <td>2012-07-04 14:00:00</td>\n",
       "      <td>2</td>\n",
       "      <td>Squash Court</td>\n",
       "      <td>3.5</td>\n",
       "      <td>17.5</td>\n",
       "      <td>5000</td>\n",
       "      <td>80</td>\n",
       "      <td>7.0</td>\n",
       "      <td>35.0</td>\n",
       "    </tr>\n",
       "    <tr>\n",
       "      <th>3</th>\n",
       "      <td>0</td>\n",
       "      <td>GUEST</td>\n",
       "      <td>GUEST</td>\n",
       "      <td>GUEST</td>\n",
       "      <td>0</td>\n",
       "      <td>(000) 000-0000</td>\n",
       "      <td>NaN</td>\n",
       "      <td>2012-07-01</td>\n",
       "      <td>22</td>\n",
       "      <td>6</td>\n",
       "      <td>2012-07-05 13:00:00</td>\n",
       "      <td>2</td>\n",
       "      <td>Squash Court</td>\n",
       "      <td>3.5</td>\n",
       "      <td>17.5</td>\n",
       "      <td>5000</td>\n",
       "      <td>80</td>\n",
       "      <td>7.0</td>\n",
       "      <td>35.0</td>\n",
       "    </tr>\n",
       "    <tr>\n",
       "      <th>4</th>\n",
       "      <td>0</td>\n",
       "      <td>GUEST</td>\n",
       "      <td>GUEST</td>\n",
       "      <td>GUEST</td>\n",
       "      <td>0</td>\n",
       "      <td>(000) 000-0000</td>\n",
       "      <td>NaN</td>\n",
       "      <td>2012-07-01</td>\n",
       "      <td>47</td>\n",
       "      <td>6</td>\n",
       "      <td>2012-07-07 08:30:00</td>\n",
       "      <td>2</td>\n",
       "      <td>Squash Court</td>\n",
       "      <td>3.5</td>\n",
       "      <td>17.5</td>\n",
       "      <td>5000</td>\n",
       "      <td>80</td>\n",
       "      <td>7.0</td>\n",
       "      <td>35.0</td>\n",
       "    </tr>\n",
       "  </tbody>\n",
       "</table>\n",
       "</div>"
      ],
      "text/plain": [
       "   memid surname firstname address  zipcode       telephone  recommendedby  \\\n",
       "0      0   GUEST     GUEST   GUEST        0  (000) 000-0000            NaN   \n",
       "1      0   GUEST     GUEST   GUEST        0  (000) 000-0000            NaN   \n",
       "2      0   GUEST     GUEST   GUEST        0  (000) 000-0000            NaN   \n",
       "3      0   GUEST     GUEST   GUEST        0  (000) 000-0000            NaN   \n",
       "4      0   GUEST     GUEST   GUEST        0  (000) 000-0000            NaN   \n",
       "\n",
       "    joindate  bookid  facid           starttime  slots          name  \\\n",
       "0 2012-07-01       2      6 2012-07-03 18:00:00      2  Squash Court   \n",
       "1 2012-07-01      11      6 2012-07-04 12:30:00      2  Squash Court   \n",
       "2 2012-07-01      12      6 2012-07-04 14:00:00      2  Squash Court   \n",
       "3 2012-07-01      22      6 2012-07-05 13:00:00      2  Squash Court   \n",
       "4 2012-07-01      47      6 2012-07-07 08:30:00      2  Squash Court   \n",
       "\n",
       "   membercost  guestcost  initialoutlay  monthlymaintenance  \\\n",
       "0         3.5       17.5           5000                  80   \n",
       "1         3.5       17.5           5000                  80   \n",
       "2         3.5       17.5           5000                  80   \n",
       "3         3.5       17.5           5000                  80   \n",
       "4         3.5       17.5           5000                  80   \n",
       "\n",
       "   member_total_cost  guest_total_cost  \n",
       "0                7.0              35.0  \n",
       "1                7.0              35.0  \n",
       "2                7.0              35.0  \n",
       "3                7.0              35.0  \n",
       "4                7.0              35.0  "
      ]
     },
     "execution_count": 76,
     "metadata": {},
     "output_type": "execute_result"
    }
   ],
   "source": [
    "merge_all['guest_total_cost']=merge_all['guestcost']*merge_all['slots']\n",
    "merge_all.head()"
   ]
  },
  {
   "cell_type": "code",
   "execution_count": 77,
   "metadata": {},
   "outputs": [],
   "source": [
    "# create facilities level dataset\n",
    "# df_facilities = pd.DataFrame(merge_all['facid'].unique())\n",
    "# df_facilities.columns = ['facid']\n",
    "# df_facilities.head()"
   ]
  },
  {
   "cell_type": "code",
   "execution_count": 78,
   "metadata": {},
   "outputs": [],
   "source": [
    "# df_monetary = df.groupby('customer_id')['line_revenue'].sum().reset_index()\n",
    "# df_monetary.columns = ['customer_id','monetary']\n",
    "# df_customers = df_customers.merge(df_monetary, on='customer_id')\n",
    "# df_customers.head()"
   ]
  },
  {
   "cell_type": "code",
   "execution_count": 79,
   "metadata": {},
   "outputs": [
    {
     "data": {
      "text/html": [
       "<div>\n",
       "<style scoped>\n",
       "    .dataframe tbody tr th:only-of-type {\n",
       "        vertical-align: middle;\n",
       "    }\n",
       "\n",
       "    .dataframe tbody tr th {\n",
       "        vertical-align: top;\n",
       "    }\n",
       "\n",
       "    .dataframe thead th {\n",
       "        text-align: right;\n",
       "    }\n",
       "</style>\n",
       "<table border=\"1\" class=\"dataframe\">\n",
       "  <thead>\n",
       "    <tr style=\"text-align: right;\">\n",
       "      <th></th>\n",
       "      <th>facid</th>\n",
       "      <th>member_total_cost</th>\n",
       "    </tr>\n",
       "  </thead>\n",
       "  <tbody>\n",
       "    <tr>\n",
       "      <th>0</th>\n",
       "      <td>0</td>\n",
       "      <td>4785.0</td>\n",
       "    </tr>\n",
       "    <tr>\n",
       "      <th>1</th>\n",
       "      <td>1</td>\n",
       "      <td>4410.0</td>\n",
       "    </tr>\n",
       "    <tr>\n",
       "      <th>2</th>\n",
       "      <td>2</td>\n",
       "      <td>0.0</td>\n",
       "    </tr>\n",
       "    <tr>\n",
       "      <th>3</th>\n",
       "      <td>3</td>\n",
       "      <td>0.0</td>\n",
       "    </tr>\n",
       "    <tr>\n",
       "      <th>4</th>\n",
       "      <td>4</td>\n",
       "      <td>8751.6</td>\n",
       "    </tr>\n",
       "    <tr>\n",
       "      <th>5</th>\n",
       "      <td>5</td>\n",
       "      <td>534.6</td>\n",
       "    </tr>\n",
       "    <tr>\n",
       "      <th>6</th>\n",
       "      <td>6</td>\n",
       "      <td>1463.0</td>\n",
       "    </tr>\n",
       "    <tr>\n",
       "      <th>7</th>\n",
       "      <td>7</td>\n",
       "      <td>0.0</td>\n",
       "    </tr>\n",
       "    <tr>\n",
       "      <th>8</th>\n",
       "      <td>8</td>\n",
       "      <td>0.0</td>\n",
       "    </tr>\n",
       "  </tbody>\n",
       "</table>\n",
       "</div>"
      ],
      "text/plain": [
       "   facid  member_total_cost\n",
       "0      0             4785.0\n",
       "1      1             4410.0\n",
       "2      2                0.0\n",
       "3      3                0.0\n",
       "4      4             8751.6\n",
       "5      5              534.6\n",
       "6      6             1463.0\n",
       "7      7                0.0\n",
       "8      8                0.0"
      ]
     },
     "execution_count": 79,
     "metadata": {},
     "output_type": "execute_result"
    }
   ],
   "source": [
    "df_memberfacil= merge_all.loc[(merge_all['memid'] !=0)].groupby('facid')['member_total_cost'].sum().reset_index()\n",
    "df_memberfacil.head(10)\n"
   ]
  },
  {
   "cell_type": "code",
   "execution_count": 80,
   "metadata": {},
   "outputs": [
    {
     "name": "stdout",
     "output_type": "stream",
     "text": [
      "facid                   36.0\n",
      "member_total_cost    19944.2\n",
      "dtype: float64\n"
     ]
    }
   ],
   "source": [
    "all_facil_memcost = df_memberfacil.sum(axis=0)\n",
    "print(all_facil_memcost)"
   ]
  },
  {
   "cell_type": "code",
   "execution_count": 81,
   "metadata": {},
   "outputs": [
    {
     "data": {
      "text/html": [
       "<div>\n",
       "<style scoped>\n",
       "    .dataframe tbody tr th:only-of-type {\n",
       "        vertical-align: middle;\n",
       "    }\n",
       "\n",
       "    .dataframe tbody tr th {\n",
       "        vertical-align: top;\n",
       "    }\n",
       "\n",
       "    .dataframe thead th {\n",
       "        text-align: right;\n",
       "    }\n",
       "</style>\n",
       "<table border=\"1\" class=\"dataframe\">\n",
       "  <thead>\n",
       "    <tr style=\"text-align: right;\">\n",
       "      <th></th>\n",
       "      <th>facid</th>\n",
       "      <th>guest_total_cost</th>\n",
       "    </tr>\n",
       "  </thead>\n",
       "  <tbody>\n",
       "    <tr>\n",
       "      <th>0</th>\n",
       "      <td>0</td>\n",
       "      <td>9075.0</td>\n",
       "    </tr>\n",
       "    <tr>\n",
       "      <th>1</th>\n",
       "      <td>1</td>\n",
       "      <td>9900.0</td>\n",
       "    </tr>\n",
       "    <tr>\n",
       "      <th>2</th>\n",
       "      <td>2</td>\n",
       "      <td>1906.5</td>\n",
       "    </tr>\n",
       "    <tr>\n",
       "      <th>3</th>\n",
       "      <td>3</td>\n",
       "      <td>180.0</td>\n",
       "    </tr>\n",
       "    <tr>\n",
       "      <th>4</th>\n",
       "      <td>4</td>\n",
       "      <td>41600.0</td>\n",
       "    </tr>\n",
       "    <tr>\n",
       "      <th>5</th>\n",
       "      <td>5</td>\n",
       "      <td>13920.0</td>\n",
       "    </tr>\n",
       "    <tr>\n",
       "      <th>6</th>\n",
       "      <td>6</td>\n",
       "      <td>12005.0</td>\n",
       "    </tr>\n",
       "    <tr>\n",
       "      <th>7</th>\n",
       "      <td>7</td>\n",
       "      <td>240.0</td>\n",
       "    </tr>\n",
       "    <tr>\n",
       "      <th>8</th>\n",
       "      <td>8</td>\n",
       "      <td>270.0</td>\n",
       "    </tr>\n",
       "  </tbody>\n",
       "</table>\n",
       "</div>"
      ],
      "text/plain": [
       "   facid  guest_total_cost\n",
       "0      0            9075.0\n",
       "1      1            9900.0\n",
       "2      2            1906.5\n",
       "3      3             180.0\n",
       "4      4           41600.0\n",
       "5      5           13920.0\n",
       "6      6           12005.0\n",
       "7      7             240.0\n",
       "8      8             270.0"
      ]
     },
     "execution_count": 81,
     "metadata": {},
     "output_type": "execute_result"
    }
   ],
   "source": [
    "df_guestfacil= merge_all.loc[(merge_all['memid'] ==0)].groupby('facid')['guest_total_cost'].sum().reset_index()\n",
    "df_guestfacil.head(10)"
   ]
  },
  {
   "cell_type": "code",
   "execution_count": 83,
   "metadata": {},
   "outputs": [
    {
     "name": "stdout",
     "output_type": "stream",
     "text": [
      "facid                  36.0\n",
      "guest_total_cost    89096.5\n",
      "dtype: float64\n"
     ]
    }
   ],
   "source": [
    "all_facil_guestcost = df_guestfacil.sum(axis=0)\n",
    "print(all_facil_guestcost)"
   ]
  },
  {
   "cell_type": "code",
   "execution_count": 84,
   "metadata": {},
   "outputs": [
    {
     "name": "stdout",
     "output_type": "stream",
     "text": [
      "109040.7\n"
     ]
    }
   ],
   "source": [
    "total_revenue=19944.2+89096.5\n",
    "print(total_revenue)"
   ]
  },
  {
   "cell_type": "code",
   "execution_count": 85,
   "metadata": {},
   "outputs": [
    {
     "data": {
      "text/html": [
       "<div>\n",
       "<style scoped>\n",
       "    .dataframe tbody tr th:only-of-type {\n",
       "        vertical-align: middle;\n",
       "    }\n",
       "\n",
       "    .dataframe tbody tr th {\n",
       "        vertical-align: top;\n",
       "    }\n",
       "\n",
       "    .dataframe thead th {\n",
       "        text-align: right;\n",
       "    }\n",
       "</style>\n",
       "<table border=\"1\" class=\"dataframe\">\n",
       "  <thead>\n",
       "    <tr style=\"text-align: right;\">\n",
       "      <th></th>\n",
       "      <th>facid</th>\n",
       "      <th>name</th>\n",
       "      <th>membercost</th>\n",
       "      <th>guestcost</th>\n",
       "      <th>initialoutlay</th>\n",
       "      <th>monthlymaintenance</th>\n",
       "    </tr>\n",
       "  </thead>\n",
       "  <tbody>\n",
       "    <tr>\n",
       "      <th>0</th>\n",
       "      <td>0</td>\n",
       "      <td>Tennis Court 1</td>\n",
       "      <td>5.0</td>\n",
       "      <td>25.0</td>\n",
       "      <td>10000</td>\n",
       "      <td>200</td>\n",
       "    </tr>\n",
       "    <tr>\n",
       "      <th>1</th>\n",
       "      <td>1</td>\n",
       "      <td>Tennis Court 2</td>\n",
       "      <td>5.0</td>\n",
       "      <td>25.0</td>\n",
       "      <td>8000</td>\n",
       "      <td>200</td>\n",
       "    </tr>\n",
       "    <tr>\n",
       "      <th>2</th>\n",
       "      <td>2</td>\n",
       "      <td>Badminton Court</td>\n",
       "      <td>0.0</td>\n",
       "      <td>15.5</td>\n",
       "      <td>4000</td>\n",
       "      <td>50</td>\n",
       "    </tr>\n",
       "    <tr>\n",
       "      <th>3</th>\n",
       "      <td>3</td>\n",
       "      <td>Table Tennis</td>\n",
       "      <td>0.0</td>\n",
       "      <td>5.0</td>\n",
       "      <td>320</td>\n",
       "      <td>10</td>\n",
       "    </tr>\n",
       "    <tr>\n",
       "      <th>4</th>\n",
       "      <td>4</td>\n",
       "      <td>Massage Room 1</td>\n",
       "      <td>9.9</td>\n",
       "      <td>80.0</td>\n",
       "      <td>4000</td>\n",
       "      <td>3000</td>\n",
       "    </tr>\n",
       "    <tr>\n",
       "      <th>5</th>\n",
       "      <td>5</td>\n",
       "      <td>Massage Room 2</td>\n",
       "      <td>9.9</td>\n",
       "      <td>80.0</td>\n",
       "      <td>4000</td>\n",
       "      <td>3000</td>\n",
       "    </tr>\n",
       "    <tr>\n",
       "      <th>6</th>\n",
       "      <td>6</td>\n",
       "      <td>Squash Court</td>\n",
       "      <td>3.5</td>\n",
       "      <td>17.5</td>\n",
       "      <td>5000</td>\n",
       "      <td>80</td>\n",
       "    </tr>\n",
       "    <tr>\n",
       "      <th>7</th>\n",
       "      <td>7</td>\n",
       "      <td>Snooker Table</td>\n",
       "      <td>0.0</td>\n",
       "      <td>5.0</td>\n",
       "      <td>450</td>\n",
       "      <td>15</td>\n",
       "    </tr>\n",
       "    <tr>\n",
       "      <th>8</th>\n",
       "      <td>8</td>\n",
       "      <td>Pool Table</td>\n",
       "      <td>0.0</td>\n",
       "      <td>5.0</td>\n",
       "      <td>400</td>\n",
       "      <td>15</td>\n",
       "    </tr>\n",
       "  </tbody>\n",
       "</table>\n",
       "</div>"
      ],
      "text/plain": [
       "   facid             name  membercost  guestcost  initialoutlay  \\\n",
       "0      0   Tennis Court 1         5.0       25.0          10000   \n",
       "1      1   Tennis Court 2         5.0       25.0           8000   \n",
       "2      2  Badminton Court         0.0       15.5           4000   \n",
       "3      3     Table Tennis         0.0        5.0            320   \n",
       "4      4   Massage Room 1         9.9       80.0           4000   \n",
       "5      5   Massage Room 2         9.9       80.0           4000   \n",
       "6      6     Squash Court         3.5       17.5           5000   \n",
       "7      7    Snooker Table         0.0        5.0            450   \n",
       "8      8       Pool Table         0.0        5.0            400   \n",
       "\n",
       "   monthlymaintenance  \n",
       "0                 200  \n",
       "1                 200  \n",
       "2                  50  \n",
       "3                  10  \n",
       "4                3000  \n",
       "5                3000  \n",
       "6                  80  \n",
       "7                  15  \n",
       "8                  15  "
      ]
     },
     "execution_count": 85,
     "metadata": {},
     "output_type": "execute_result"
    }
   ],
   "source": [
    "df_facil.head(10)"
   ]
  },
  {
   "cell_type": "code",
   "execution_count": 86,
   "metadata": {},
   "outputs": [
    {
     "data": {
      "text/html": [
       "<div>\n",
       "<style scoped>\n",
       "    .dataframe tbody tr th:only-of-type {\n",
       "        vertical-align: middle;\n",
       "    }\n",
       "\n",
       "    .dataframe tbody tr th {\n",
       "        vertical-align: top;\n",
       "    }\n",
       "\n",
       "    .dataframe thead th {\n",
       "        text-align: right;\n",
       "    }\n",
       "</style>\n",
       "<table border=\"1\" class=\"dataframe\">\n",
       "  <thead>\n",
       "    <tr style=\"text-align: right;\">\n",
       "      <th></th>\n",
       "      <th>facid</th>\n",
       "      <th>member_total_cost</th>\n",
       "      <th>name</th>\n",
       "      <th>membercost</th>\n",
       "      <th>guestcost</th>\n",
       "      <th>initialoutlay</th>\n",
       "      <th>monthlymaintenance</th>\n",
       "      <th>expenses</th>\n",
       "      <th>total_monthly</th>\n",
       "      <th>guest_total_cost</th>\n",
       "    </tr>\n",
       "  </thead>\n",
       "  <tbody>\n",
       "    <tr>\n",
       "      <th>0</th>\n",
       "      <td>0</td>\n",
       "      <td>4785.0</td>\n",
       "      <td>Tennis Court 1</td>\n",
       "      <td>5.0</td>\n",
       "      <td>25.0</td>\n",
       "      <td>10000</td>\n",
       "      <td>200</td>\n",
       "      <td>10600</td>\n",
       "      <td>600</td>\n",
       "      <td>9075.0</td>\n",
       "    </tr>\n",
       "    <tr>\n",
       "      <th>1</th>\n",
       "      <td>1</td>\n",
       "      <td>4410.0</td>\n",
       "      <td>Tennis Court 2</td>\n",
       "      <td>5.0</td>\n",
       "      <td>25.0</td>\n",
       "      <td>8000</td>\n",
       "      <td>200</td>\n",
       "      <td>8600</td>\n",
       "      <td>600</td>\n",
       "      <td>9900.0</td>\n",
       "    </tr>\n",
       "    <tr>\n",
       "      <th>2</th>\n",
       "      <td>2</td>\n",
       "      <td>0.0</td>\n",
       "      <td>Badminton Court</td>\n",
       "      <td>0.0</td>\n",
       "      <td>15.5</td>\n",
       "      <td>4000</td>\n",
       "      <td>50</td>\n",
       "      <td>4150</td>\n",
       "      <td>150</td>\n",
       "      <td>1906.5</td>\n",
       "    </tr>\n",
       "    <tr>\n",
       "      <th>3</th>\n",
       "      <td>3</td>\n",
       "      <td>0.0</td>\n",
       "      <td>Table Tennis</td>\n",
       "      <td>0.0</td>\n",
       "      <td>5.0</td>\n",
       "      <td>320</td>\n",
       "      <td>10</td>\n",
       "      <td>350</td>\n",
       "      <td>30</td>\n",
       "      <td>180.0</td>\n",
       "    </tr>\n",
       "    <tr>\n",
       "      <th>4</th>\n",
       "      <td>4</td>\n",
       "      <td>8751.6</td>\n",
       "      <td>Massage Room 1</td>\n",
       "      <td>9.9</td>\n",
       "      <td>80.0</td>\n",
       "      <td>4000</td>\n",
       "      <td>3000</td>\n",
       "      <td>13000</td>\n",
       "      <td>9000</td>\n",
       "      <td>41600.0</td>\n",
       "    </tr>\n",
       "    <tr>\n",
       "      <th>5</th>\n",
       "      <td>5</td>\n",
       "      <td>534.6</td>\n",
       "      <td>Massage Room 2</td>\n",
       "      <td>9.9</td>\n",
       "      <td>80.0</td>\n",
       "      <td>4000</td>\n",
       "      <td>3000</td>\n",
       "      <td>13000</td>\n",
       "      <td>9000</td>\n",
       "      <td>13920.0</td>\n",
       "    </tr>\n",
       "    <tr>\n",
       "      <th>6</th>\n",
       "      <td>6</td>\n",
       "      <td>1463.0</td>\n",
       "      <td>Squash Court</td>\n",
       "      <td>3.5</td>\n",
       "      <td>17.5</td>\n",
       "      <td>5000</td>\n",
       "      <td>80</td>\n",
       "      <td>5240</td>\n",
       "      <td>240</td>\n",
       "      <td>12005.0</td>\n",
       "    </tr>\n",
       "    <tr>\n",
       "      <th>7</th>\n",
       "      <td>7</td>\n",
       "      <td>0.0</td>\n",
       "      <td>Snooker Table</td>\n",
       "      <td>0.0</td>\n",
       "      <td>5.0</td>\n",
       "      <td>450</td>\n",
       "      <td>15</td>\n",
       "      <td>495</td>\n",
       "      <td>45</td>\n",
       "      <td>240.0</td>\n",
       "    </tr>\n",
       "    <tr>\n",
       "      <th>8</th>\n",
       "      <td>8</td>\n",
       "      <td>0.0</td>\n",
       "      <td>Pool Table</td>\n",
       "      <td>0.0</td>\n",
       "      <td>5.0</td>\n",
       "      <td>400</td>\n",
       "      <td>15</td>\n",
       "      <td>445</td>\n",
       "      <td>45</td>\n",
       "      <td>270.0</td>\n",
       "    </tr>\n",
       "  </tbody>\n",
       "</table>\n",
       "</div>"
      ],
      "text/plain": [
       "   facid  member_total_cost             name  membercost  guestcost  \\\n",
       "0      0             4785.0   Tennis Court 1         5.0       25.0   \n",
       "1      1             4410.0   Tennis Court 2         5.0       25.0   \n",
       "2      2                0.0  Badminton Court         0.0       15.5   \n",
       "3      3                0.0     Table Tennis         0.0        5.0   \n",
       "4      4             8751.6   Massage Room 1         9.9       80.0   \n",
       "5      5              534.6   Massage Room 2         9.9       80.0   \n",
       "6      6             1463.0     Squash Court         3.5       17.5   \n",
       "7      7                0.0    Snooker Table         0.0        5.0   \n",
       "8      8                0.0       Pool Table         0.0        5.0   \n",
       "\n",
       "   initialoutlay  monthlymaintenance  expenses  total_monthly  \\\n",
       "0          10000                 200     10600            600   \n",
       "1           8000                 200      8600            600   \n",
       "2           4000                  50      4150            150   \n",
       "3            320                  10       350             30   \n",
       "4           4000                3000     13000           9000   \n",
       "5           4000                3000     13000           9000   \n",
       "6           5000                  80      5240            240   \n",
       "7            450                  15       495             45   \n",
       "8            400                  15       445             45   \n",
       "\n",
       "   guest_total_cost  \n",
       "0            9075.0  \n",
       "1            9900.0  \n",
       "2            1906.5  \n",
       "3             180.0  \n",
       "4           41600.0  \n",
       "5           13920.0  \n",
       "6           12005.0  \n",
       "7             240.0  \n",
       "8             270.0  "
      ]
     },
     "execution_count": 86,
     "metadata": {},
     "output_type": "execute_result"
    }
   ],
   "source": [
    "from functools import reduce \n",
    "# df['quantity'].apply(lambda x: x*-1)\n",
    "# pd.merge(product,customer,on='Product_ID')\n",
    "df_facil['expenses']=df_facil['monthlymaintenance'].apply(lambda x: x*3)+df_facil['initialoutlay']\n",
    "df_facil['total_monthly']=df_facil['monthlymaintenance'].apply(lambda x: x*3)\n",
    "\n",
    "df_facil_all = reduce(lambda left , right:     # Merge three pandas DataFrames\n",
    "                     pd.merge(left , right,\n",
    "                              on = [\"facid\"]),\n",
    "                     [df_memberfacil, df_facil, df_guestfacil])  \n",
    "df_facil_all.head(10)"
   ]
  },
  {
   "cell_type": "code",
   "execution_count": 87,
   "metadata": {},
   "outputs": [
    {
     "data": {
      "text/html": [
       "<div>\n",
       "<style scoped>\n",
       "    .dataframe tbody tr th:only-of-type {\n",
       "        vertical-align: middle;\n",
       "    }\n",
       "\n",
       "    .dataframe tbody tr th {\n",
       "        vertical-align: top;\n",
       "    }\n",
       "\n",
       "    .dataframe thead th {\n",
       "        text-align: right;\n",
       "    }\n",
       "</style>\n",
       "<table border=\"1\" class=\"dataframe\">\n",
       "  <thead>\n",
       "    <tr style=\"text-align: right;\">\n",
       "      <th></th>\n",
       "      <th>facid</th>\n",
       "      <th>member_total_cost</th>\n",
       "      <th>name</th>\n",
       "      <th>membercost</th>\n",
       "      <th>guestcost</th>\n",
       "      <th>initialoutlay</th>\n",
       "      <th>monthlymaintenance</th>\n",
       "      <th>expenses</th>\n",
       "      <th>total_monthly</th>\n",
       "      <th>guest_total_cost</th>\n",
       "      <th>total_revenue</th>\n",
       "    </tr>\n",
       "  </thead>\n",
       "  <tbody>\n",
       "    <tr>\n",
       "      <th>0</th>\n",
       "      <td>0</td>\n",
       "      <td>4785.0</td>\n",
       "      <td>Tennis Court 1</td>\n",
       "      <td>5.0</td>\n",
       "      <td>25.0</td>\n",
       "      <td>10000</td>\n",
       "      <td>200</td>\n",
       "      <td>10600</td>\n",
       "      <td>600</td>\n",
       "      <td>9075.0</td>\n",
       "      <td>13860.0</td>\n",
       "    </tr>\n",
       "    <tr>\n",
       "      <th>1</th>\n",
       "      <td>1</td>\n",
       "      <td>4410.0</td>\n",
       "      <td>Tennis Court 2</td>\n",
       "      <td>5.0</td>\n",
       "      <td>25.0</td>\n",
       "      <td>8000</td>\n",
       "      <td>200</td>\n",
       "      <td>8600</td>\n",
       "      <td>600</td>\n",
       "      <td>9900.0</td>\n",
       "      <td>14310.0</td>\n",
       "    </tr>\n",
       "    <tr>\n",
       "      <th>2</th>\n",
       "      <td>2</td>\n",
       "      <td>0.0</td>\n",
       "      <td>Badminton Court</td>\n",
       "      <td>0.0</td>\n",
       "      <td>15.5</td>\n",
       "      <td>4000</td>\n",
       "      <td>50</td>\n",
       "      <td>4150</td>\n",
       "      <td>150</td>\n",
       "      <td>1906.5</td>\n",
       "      <td>1906.5</td>\n",
       "    </tr>\n",
       "    <tr>\n",
       "      <th>3</th>\n",
       "      <td>3</td>\n",
       "      <td>0.0</td>\n",
       "      <td>Table Tennis</td>\n",
       "      <td>0.0</td>\n",
       "      <td>5.0</td>\n",
       "      <td>320</td>\n",
       "      <td>10</td>\n",
       "      <td>350</td>\n",
       "      <td>30</td>\n",
       "      <td>180.0</td>\n",
       "      <td>180.0</td>\n",
       "    </tr>\n",
       "    <tr>\n",
       "      <th>4</th>\n",
       "      <td>4</td>\n",
       "      <td>8751.6</td>\n",
       "      <td>Massage Room 1</td>\n",
       "      <td>9.9</td>\n",
       "      <td>80.0</td>\n",
       "      <td>4000</td>\n",
       "      <td>3000</td>\n",
       "      <td>13000</td>\n",
       "      <td>9000</td>\n",
       "      <td>41600.0</td>\n",
       "      <td>50351.6</td>\n",
       "    </tr>\n",
       "    <tr>\n",
       "      <th>5</th>\n",
       "      <td>5</td>\n",
       "      <td>534.6</td>\n",
       "      <td>Massage Room 2</td>\n",
       "      <td>9.9</td>\n",
       "      <td>80.0</td>\n",
       "      <td>4000</td>\n",
       "      <td>3000</td>\n",
       "      <td>13000</td>\n",
       "      <td>9000</td>\n",
       "      <td>13920.0</td>\n",
       "      <td>14454.6</td>\n",
       "    </tr>\n",
       "    <tr>\n",
       "      <th>6</th>\n",
       "      <td>6</td>\n",
       "      <td>1463.0</td>\n",
       "      <td>Squash Court</td>\n",
       "      <td>3.5</td>\n",
       "      <td>17.5</td>\n",
       "      <td>5000</td>\n",
       "      <td>80</td>\n",
       "      <td>5240</td>\n",
       "      <td>240</td>\n",
       "      <td>12005.0</td>\n",
       "      <td>13468.0</td>\n",
       "    </tr>\n",
       "    <tr>\n",
       "      <th>7</th>\n",
       "      <td>7</td>\n",
       "      <td>0.0</td>\n",
       "      <td>Snooker Table</td>\n",
       "      <td>0.0</td>\n",
       "      <td>5.0</td>\n",
       "      <td>450</td>\n",
       "      <td>15</td>\n",
       "      <td>495</td>\n",
       "      <td>45</td>\n",
       "      <td>240.0</td>\n",
       "      <td>240.0</td>\n",
       "    </tr>\n",
       "    <tr>\n",
       "      <th>8</th>\n",
       "      <td>8</td>\n",
       "      <td>0.0</td>\n",
       "      <td>Pool Table</td>\n",
       "      <td>0.0</td>\n",
       "      <td>5.0</td>\n",
       "      <td>400</td>\n",
       "      <td>15</td>\n",
       "      <td>445</td>\n",
       "      <td>45</td>\n",
       "      <td>270.0</td>\n",
       "      <td>270.0</td>\n",
       "    </tr>\n",
       "  </tbody>\n",
       "</table>\n",
       "</div>"
      ],
      "text/plain": [
       "   facid  member_total_cost             name  membercost  guestcost  \\\n",
       "0      0             4785.0   Tennis Court 1         5.0       25.0   \n",
       "1      1             4410.0   Tennis Court 2         5.0       25.0   \n",
       "2      2                0.0  Badminton Court         0.0       15.5   \n",
       "3      3                0.0     Table Tennis         0.0        5.0   \n",
       "4      4             8751.6   Massage Room 1         9.9       80.0   \n",
       "5      5              534.6   Massage Room 2         9.9       80.0   \n",
       "6      6             1463.0     Squash Court         3.5       17.5   \n",
       "7      7                0.0    Snooker Table         0.0        5.0   \n",
       "8      8                0.0       Pool Table         0.0        5.0   \n",
       "\n",
       "   initialoutlay  monthlymaintenance  expenses  total_monthly  \\\n",
       "0          10000                 200     10600            600   \n",
       "1           8000                 200      8600            600   \n",
       "2           4000                  50      4150            150   \n",
       "3            320                  10       350             30   \n",
       "4           4000                3000     13000           9000   \n",
       "5           4000                3000     13000           9000   \n",
       "6           5000                  80      5240            240   \n",
       "7            450                  15       495             45   \n",
       "8            400                  15       445             45   \n",
       "\n",
       "   guest_total_cost  total_revenue  \n",
       "0            9075.0        13860.0  \n",
       "1            9900.0        14310.0  \n",
       "2            1906.5         1906.5  \n",
       "3             180.0          180.0  \n",
       "4           41600.0        50351.6  \n",
       "5           13920.0        14454.6  \n",
       "6           12005.0        13468.0  \n",
       "7             240.0          240.0  \n",
       "8             270.0          270.0  "
      ]
     },
     "execution_count": 87,
     "metadata": {},
     "output_type": "execute_result"
    }
   ],
   "source": [
    "df_facil_all['total_revenue']=df_facil_all['member_total_cost']+df_facil_all['guest_total_cost']\n",
    "df_facil_all.head(10)"
   ]
  },
  {
   "cell_type": "code",
   "execution_count": 88,
   "metadata": {},
   "outputs": [
    {
     "data": {
      "text/html": [
       "<div>\n",
       "<style scoped>\n",
       "    .dataframe tbody tr th:only-of-type {\n",
       "        vertical-align: middle;\n",
       "    }\n",
       "\n",
       "    .dataframe tbody tr th {\n",
       "        vertical-align: top;\n",
       "    }\n",
       "\n",
       "    .dataframe thead th {\n",
       "        text-align: right;\n",
       "    }\n",
       "</style>\n",
       "<table border=\"1\" class=\"dataframe\">\n",
       "  <thead>\n",
       "    <tr style=\"text-align: right;\">\n",
       "      <th></th>\n",
       "      <th>facid</th>\n",
       "      <th>member_total_cost</th>\n",
       "      <th>name</th>\n",
       "      <th>membercost</th>\n",
       "      <th>guestcost</th>\n",
       "      <th>initialoutlay</th>\n",
       "      <th>monthlymaintenance</th>\n",
       "      <th>expenses</th>\n",
       "      <th>total_monthly</th>\n",
       "      <th>guest_total_cost</th>\n",
       "      <th>total_revenue</th>\n",
       "      <th>profit</th>\n",
       "    </tr>\n",
       "  </thead>\n",
       "  <tbody>\n",
       "    <tr>\n",
       "      <th>0</th>\n",
       "      <td>0</td>\n",
       "      <td>4785.0</td>\n",
       "      <td>Tennis Court 1</td>\n",
       "      <td>5.0</td>\n",
       "      <td>25.0</td>\n",
       "      <td>10000</td>\n",
       "      <td>200</td>\n",
       "      <td>10600</td>\n",
       "      <td>600</td>\n",
       "      <td>9075.0</td>\n",
       "      <td>13860.0</td>\n",
       "      <td>3260.0</td>\n",
       "    </tr>\n",
       "    <tr>\n",
       "      <th>1</th>\n",
       "      <td>1</td>\n",
       "      <td>4410.0</td>\n",
       "      <td>Tennis Court 2</td>\n",
       "      <td>5.0</td>\n",
       "      <td>25.0</td>\n",
       "      <td>8000</td>\n",
       "      <td>200</td>\n",
       "      <td>8600</td>\n",
       "      <td>600</td>\n",
       "      <td>9900.0</td>\n",
       "      <td>14310.0</td>\n",
       "      <td>5710.0</td>\n",
       "    </tr>\n",
       "    <tr>\n",
       "      <th>2</th>\n",
       "      <td>2</td>\n",
       "      <td>0.0</td>\n",
       "      <td>Badminton Court</td>\n",
       "      <td>0.0</td>\n",
       "      <td>15.5</td>\n",
       "      <td>4000</td>\n",
       "      <td>50</td>\n",
       "      <td>4150</td>\n",
       "      <td>150</td>\n",
       "      <td>1906.5</td>\n",
       "      <td>1906.5</td>\n",
       "      <td>-2243.5</td>\n",
       "    </tr>\n",
       "    <tr>\n",
       "      <th>3</th>\n",
       "      <td>3</td>\n",
       "      <td>0.0</td>\n",
       "      <td>Table Tennis</td>\n",
       "      <td>0.0</td>\n",
       "      <td>5.0</td>\n",
       "      <td>320</td>\n",
       "      <td>10</td>\n",
       "      <td>350</td>\n",
       "      <td>30</td>\n",
       "      <td>180.0</td>\n",
       "      <td>180.0</td>\n",
       "      <td>-170.0</td>\n",
       "    </tr>\n",
       "    <tr>\n",
       "      <th>4</th>\n",
       "      <td>4</td>\n",
       "      <td>8751.6</td>\n",
       "      <td>Massage Room 1</td>\n",
       "      <td>9.9</td>\n",
       "      <td>80.0</td>\n",
       "      <td>4000</td>\n",
       "      <td>3000</td>\n",
       "      <td>13000</td>\n",
       "      <td>9000</td>\n",
       "      <td>41600.0</td>\n",
       "      <td>50351.6</td>\n",
       "      <td>37351.6</td>\n",
       "    </tr>\n",
       "    <tr>\n",
       "      <th>5</th>\n",
       "      <td>5</td>\n",
       "      <td>534.6</td>\n",
       "      <td>Massage Room 2</td>\n",
       "      <td>9.9</td>\n",
       "      <td>80.0</td>\n",
       "      <td>4000</td>\n",
       "      <td>3000</td>\n",
       "      <td>13000</td>\n",
       "      <td>9000</td>\n",
       "      <td>13920.0</td>\n",
       "      <td>14454.6</td>\n",
       "      <td>1454.6</td>\n",
       "    </tr>\n",
       "    <tr>\n",
       "      <th>6</th>\n",
       "      <td>6</td>\n",
       "      <td>1463.0</td>\n",
       "      <td>Squash Court</td>\n",
       "      <td>3.5</td>\n",
       "      <td>17.5</td>\n",
       "      <td>5000</td>\n",
       "      <td>80</td>\n",
       "      <td>5240</td>\n",
       "      <td>240</td>\n",
       "      <td>12005.0</td>\n",
       "      <td>13468.0</td>\n",
       "      <td>8228.0</td>\n",
       "    </tr>\n",
       "    <tr>\n",
       "      <th>7</th>\n",
       "      <td>7</td>\n",
       "      <td>0.0</td>\n",
       "      <td>Snooker Table</td>\n",
       "      <td>0.0</td>\n",
       "      <td>5.0</td>\n",
       "      <td>450</td>\n",
       "      <td>15</td>\n",
       "      <td>495</td>\n",
       "      <td>45</td>\n",
       "      <td>240.0</td>\n",
       "      <td>240.0</td>\n",
       "      <td>-255.0</td>\n",
       "    </tr>\n",
       "    <tr>\n",
       "      <th>8</th>\n",
       "      <td>8</td>\n",
       "      <td>0.0</td>\n",
       "      <td>Pool Table</td>\n",
       "      <td>0.0</td>\n",
       "      <td>5.0</td>\n",
       "      <td>400</td>\n",
       "      <td>15</td>\n",
       "      <td>445</td>\n",
       "      <td>45</td>\n",
       "      <td>270.0</td>\n",
       "      <td>270.0</td>\n",
       "      <td>-175.0</td>\n",
       "    </tr>\n",
       "  </tbody>\n",
       "</table>\n",
       "</div>"
      ],
      "text/plain": [
       "   facid  member_total_cost             name  membercost  guestcost  \\\n",
       "0      0             4785.0   Tennis Court 1         5.0       25.0   \n",
       "1      1             4410.0   Tennis Court 2         5.0       25.0   \n",
       "2      2                0.0  Badminton Court         0.0       15.5   \n",
       "3      3                0.0     Table Tennis         0.0        5.0   \n",
       "4      4             8751.6   Massage Room 1         9.9       80.0   \n",
       "5      5              534.6   Massage Room 2         9.9       80.0   \n",
       "6      6             1463.0     Squash Court         3.5       17.5   \n",
       "7      7                0.0    Snooker Table         0.0        5.0   \n",
       "8      8                0.0       Pool Table         0.0        5.0   \n",
       "\n",
       "   initialoutlay  monthlymaintenance  expenses  total_monthly  \\\n",
       "0          10000                 200     10600            600   \n",
       "1           8000                 200      8600            600   \n",
       "2           4000                  50      4150            150   \n",
       "3            320                  10       350             30   \n",
       "4           4000                3000     13000           9000   \n",
       "5           4000                3000     13000           9000   \n",
       "6           5000                  80      5240            240   \n",
       "7            450                  15       495             45   \n",
       "8            400                  15       445             45   \n",
       "\n",
       "   guest_total_cost  total_revenue   profit  \n",
       "0            9075.0        13860.0   3260.0  \n",
       "1            9900.0        14310.0   5710.0  \n",
       "2            1906.5         1906.5  -2243.5  \n",
       "3             180.0          180.0   -170.0  \n",
       "4           41600.0        50351.6  37351.6  \n",
       "5           13920.0        14454.6   1454.6  \n",
       "6           12005.0        13468.0   8228.0  \n",
       "7             240.0          240.0   -255.0  \n",
       "8             270.0          270.0   -175.0  "
      ]
     },
     "execution_count": 88,
     "metadata": {},
     "output_type": "execute_result"
    }
   ],
   "source": [
    "df_facil_all['profit']=df_facil_all['total_revenue']-df_facil_all['expenses']\n",
    "df_facil_all.head(10)"
   ]
  },
  {
   "cell_type": "code",
   "execution_count": 89,
   "metadata": {},
   "outputs": [
    {
     "name": "stdout",
     "output_type": "stream",
     "text": [
      "55880\n"
     ]
    }
   ],
   "source": [
    "all_expenses = df_facil['expenses'].sum(axis=0)\n",
    "print(all_expenses)"
   ]
  },
  {
   "cell_type": "code",
   "execution_count": 90,
   "metadata": {},
   "outputs": [
    {
     "name": "stdout",
     "output_type": "stream",
     "text": [
      "53160.7\n"
     ]
    }
   ],
   "source": [
    "total_profit=109040.7-55880\n",
    "print(total_profit)"
   ]
  },
  {
   "cell_type": "code",
   "execution_count": 104,
   "metadata": {},
   "outputs": [
    {
     "name": "stderr",
     "output_type": "stream",
     "text": [
      "C:\\Users\\avel8\\AppData\\Local\\Temp\\ipykernel_17608\\822008903.py:10: FutureWarning: this method is deprecated in favour of `Styler.hide(axis='index')`\n",
      "  df.style.hide_index()\n"
     ]
    },
    {
     "data": {
      "text/html": [
       "<style type=\"text/css\">\n",
       "</style>\n",
       "<table id=\"T_dc6e9\">\n",
       "  <thead>\n",
       "    <tr>\n",
       "      <th id=\"T_dc6e9_level0_col0\" class=\"col_heading level0 col0\" >facility</th>\n",
       "      <th id=\"T_dc6e9_level0_col1\" class=\"col_heading level0 col1\" >profit</th>\n",
       "    </tr>\n",
       "  </thead>\n",
       "  <tbody>\n",
       "    <tr>\n",
       "      <td id=\"T_dc6e9_row0_col0\" class=\"data row0 col0\" >Pool Table</td>\n",
       "      <td id=\"T_dc6e9_row0_col1\" class=\"data row0 col1\" >5.000000</td>\n",
       "    </tr>\n",
       "    <tr>\n",
       "      <td id=\"T_dc6e9_row1_col0\" class=\"data row1 col0\" >Snooker Table</td>\n",
       "      <td id=\"T_dc6e9_row1_col1\" class=\"data row1 col1\" >10.000000</td>\n",
       "    </tr>\n",
       "    <tr>\n",
       "      <td id=\"T_dc6e9_row2_col0\" class=\"data row2 col0\" >Table Tennis</td>\n",
       "      <td id=\"T_dc6e9_row2_col1\" class=\"data row2 col1\" >10.000000</td>\n",
       "    </tr>\n",
       "    <tr>\n",
       "      <td id=\"T_dc6e9_row3_col0\" class=\"data row3 col0\" >Squash Court</td>\n",
       "      <td id=\"T_dc6e9_row3_col1\" class=\"data row3 col1\" >35.000000</td>\n",
       "    </tr>\n",
       "    <tr>\n",
       "      <td id=\"T_dc6e9_row4_col0\" class=\"data row4 col0\" >Badminton Court</td>\n",
       "      <td id=\"T_dc6e9_row4_col1\" class=\"data row4 col1\" >46.500000</td>\n",
       "    </tr>\n",
       "    <tr>\n",
       "      <td id=\"T_dc6e9_row5_col0\" class=\"data row5 col0\" >Tennis Court 1</td>\n",
       "      <td id=\"T_dc6e9_row5_col1\" class=\"data row5 col1\" >75.000000</td>\n",
       "    </tr>\n",
       "    <tr>\n",
       "      <td id=\"T_dc6e9_row6_col0\" class=\"data row6 col0\" >Tennis Court 2</td>\n",
       "      <td id=\"T_dc6e9_row6_col1\" class=\"data row6 col1\" >75.000000</td>\n",
       "    </tr>\n",
       "    <tr>\n",
       "      <td id=\"T_dc6e9_row7_col0\" class=\"data row7 col0\" >Massage Room 1</td>\n",
       "      <td id=\"T_dc6e9_row7_col1\" class=\"data row7 col1\" >160.000000</td>\n",
       "    </tr>\n",
       "    <tr>\n",
       "      <td id=\"T_dc6e9_row8_col0\" class=\"data row8 col0\" >Massage Room 2</td>\n",
       "      <td id=\"T_dc6e9_row8_col1\" class=\"data row8 col1\" >160.000000</td>\n",
       "    </tr>\n",
       "  </tbody>\n",
       "</table>\n"
      ],
      "text/plain": [
       "<pandas.io.formats.style.Styler at 0x2a565a12460>"
      ]
     },
     "execution_count": 104,
     "metadata": {},
     "output_type": "execute_result"
    }
   ],
   "source": [
    "# Total revenue and overall profitability for the July - September period \n",
    "\n",
    "query = ''' SELECT f.name AS facility, f.guestcost * bookings.slots as profit\n",
    "            FROM facilities AS f\n",
    "            INNER JOIN bookings ON f.facid = bookings.facid\n",
    "            GROUP BY facility\n",
    "            ORDER BY profit\n",
    "       '''\n",
    "df = pd.read_sql_query(query, conn)\n",
    "df.style.hide_index()            "
   ]
  },
  {
   "cell_type": "code",
   "execution_count": 107,
   "metadata": {},
   "outputs": [
    {
     "name": "stderr",
     "output_type": "stream",
     "text": [
      "C:\\Users\\avel8\\AppData\\Local\\Temp\\ipykernel_17608\\1714200688.py:5: FutureWarning: this method is deprecated in favour of `Styler.hide(axis='index')`\n",
      "  df.style.hide_index()\n"
     ]
    },
    {
     "data": {
      "text/html": [
       "<style type=\"text/css\">\n",
       "</style>\n",
       "<table id=\"T_7cf8b\">\n",
       "  <thead>\n",
       "    <tr>\n",
       "      <th id=\"T_7cf8b_level0_col0\" class=\"col_heading level0 col0\" >initialoutlay</th>\n",
       "      <th id=\"T_7cf8b_level0_col1\" class=\"col_heading level0 col1\" >monthlymaintenance</th>\n",
       "    </tr>\n",
       "  </thead>\n",
       "  <tbody>\n",
       "    <tr>\n",
       "      <td id=\"T_7cf8b_row0_col0\" class=\"data row0 col0\" >10000</td>\n",
       "      <td id=\"T_7cf8b_row0_col1\" class=\"data row0 col1\" >200</td>\n",
       "    </tr>\n",
       "    <tr>\n",
       "      <td id=\"T_7cf8b_row1_col0\" class=\"data row1 col0\" >8000</td>\n",
       "      <td id=\"T_7cf8b_row1_col1\" class=\"data row1 col1\" >200</td>\n",
       "    </tr>\n",
       "    <tr>\n",
       "      <td id=\"T_7cf8b_row2_col0\" class=\"data row2 col0\" >4000</td>\n",
       "      <td id=\"T_7cf8b_row2_col1\" class=\"data row2 col1\" >50</td>\n",
       "    </tr>\n",
       "    <tr>\n",
       "      <td id=\"T_7cf8b_row3_col0\" class=\"data row3 col0\" >320</td>\n",
       "      <td id=\"T_7cf8b_row3_col1\" class=\"data row3 col1\" >10</td>\n",
       "    </tr>\n",
       "    <tr>\n",
       "      <td id=\"T_7cf8b_row4_col0\" class=\"data row4 col0\" >4000</td>\n",
       "      <td id=\"T_7cf8b_row4_col1\" class=\"data row4 col1\" >3000</td>\n",
       "    </tr>\n",
       "    <tr>\n",
       "      <td id=\"T_7cf8b_row5_col0\" class=\"data row5 col0\" >4000</td>\n",
       "      <td id=\"T_7cf8b_row5_col1\" class=\"data row5 col1\" >3000</td>\n",
       "    </tr>\n",
       "    <tr>\n",
       "      <td id=\"T_7cf8b_row6_col0\" class=\"data row6 col0\" >5000</td>\n",
       "      <td id=\"T_7cf8b_row6_col1\" class=\"data row6 col1\" >80</td>\n",
       "    </tr>\n",
       "    <tr>\n",
       "      <td id=\"T_7cf8b_row7_col0\" class=\"data row7 col0\" >450</td>\n",
       "      <td id=\"T_7cf8b_row7_col1\" class=\"data row7 col1\" >15</td>\n",
       "    </tr>\n",
       "    <tr>\n",
       "      <td id=\"T_7cf8b_row8_col0\" class=\"data row8 col0\" >400</td>\n",
       "      <td id=\"T_7cf8b_row8_col1\" class=\"data row8 col1\" >15</td>\n",
       "    </tr>\n",
       "  </tbody>\n",
       "</table>\n"
      ],
      "text/plain": [
       "<pandas.io.formats.style.Styler at 0x2a565995e50>"
      ]
     },
     "execution_count": 107,
     "metadata": {},
     "output_type": "execute_result"
    }
   ],
   "source": [
    "query = ''' SELECT initialoutlay, monthlymaintenance\n",
    "            FROM facilities\n",
    "       '''\n",
    "df = pd.read_sql_query(query, conn)\n",
    "df.style.hide_index()   "
   ]
  },
  {
   "cell_type": "code",
   "execution_count": 109,
   "metadata": {},
   "outputs": [
    {
     "name": "stderr",
     "output_type": "stream",
     "text": [
      "C:\\Users\\avel8\\AppData\\Local\\Temp\\ipykernel_17608\\3339673673.py:10: FutureWarning: this method is deprecated in favour of `Styler.hide(axis='index')`\n",
      "  df.style.hide_index()\n"
     ]
    },
    {
     "data": {
      "text/html": [
       "<style type=\"text/css\">\n",
       "</style>\n",
       "<table id=\"T_896fa\">\n",
       "  <thead>\n",
       "    <tr>\n",
       "      <th id=\"T_896fa_level0_col0\" class=\"col_heading level0 col0\" >total_outlay</th>\n",
       "      <th id=\"T_896fa_level0_col1\" class=\"col_heading level0 col1\" >total_maintenance</th>\n",
       "    </tr>\n",
       "  </thead>\n",
       "  <tbody>\n",
       "    <tr>\n",
       "      <td id=\"T_896fa_row0_col0\" class=\"data row0 col0\" >36170</td>\n",
       "      <td id=\"T_896fa_row0_col1\" class=\"data row0 col1\" >19710</td>\n",
       "    </tr>\n",
       "  </tbody>\n",
       "</table>\n"
      ],
      "text/plain": [
       "<pandas.io.formats.style.Styler at 0x2a564eb48e0>"
      ]
     },
     "execution_count": 109,
     "metadata": {},
     "output_type": "execute_result"
    }
   ],
   "source": [
    "query = ''' \n",
    "            WITH expenses AS \n",
    "            (SELECT SUM(initialoutlay) AS total_outlay, SUM(monthlymaintenance * 3) AS total_maintenance\n",
    "            FROM facilities)\n",
    "            \n",
    "            SELECT total_outlay, total_maintenance                   \n",
    "            FROM expenses;            \n",
    "       '''\n",
    "df = pd.read_sql_query(query, conn)\n",
    "df.style.hide_index()   "
   ]
  },
  {
   "cell_type": "code",
   "execution_count": 117,
   "metadata": {},
   "outputs": [
    {
     "name": "stderr",
     "output_type": "stream",
     "text": [
      "C:\\Users\\avel8\\AppData\\Local\\Temp\\ipykernel_17608\\1946970066.py:13: FutureWarning: this method is deprecated in favour of `Styler.hide(axis='index')`\n",
      "  df.style.hide_index()\n"
     ]
    },
    {
     "data": {
      "text/html": [
       "<style type=\"text/css\">\n",
       "</style>\n",
       "<table id=\"T_3895e\">\n",
       "  <thead>\n",
       "    <tr>\n",
       "      <th id=\"T_3895e_level0_col0\" class=\"col_heading level0 col0\" >facility</th>\n",
       "      <th id=\"T_3895e_level0_col1\" class=\"col_heading level0 col1\" >revenue_per_fac</th>\n",
       "    </tr>\n",
       "  </thead>\n",
       "  <tbody>\n",
       "    <tr>\n",
       "      <td id=\"T_3895e_row0_col0\" class=\"data row0 col0\" >Badminton Court</td>\n",
       "      <td id=\"T_3895e_row0_col1\" class=\"data row0 col1\" >1906.500000</td>\n",
       "    </tr>\n",
       "    <tr>\n",
       "      <td id=\"T_3895e_row1_col0\" class=\"data row1 col0\" >Massage Room 1</td>\n",
       "      <td id=\"T_3895e_row1_col1\" class=\"data row1 col1\" >50351.600000</td>\n",
       "    </tr>\n",
       "    <tr>\n",
       "      <td id=\"T_3895e_row2_col0\" class=\"data row2 col0\" >Massage Room 2</td>\n",
       "      <td id=\"T_3895e_row2_col1\" class=\"data row2 col1\" >14454.600000</td>\n",
       "    </tr>\n",
       "    <tr>\n",
       "      <td id=\"T_3895e_row3_col0\" class=\"data row3 col0\" >Pool Table</td>\n",
       "      <td id=\"T_3895e_row3_col1\" class=\"data row3 col1\" >270.000000</td>\n",
       "    </tr>\n",
       "    <tr>\n",
       "      <td id=\"T_3895e_row4_col0\" class=\"data row4 col0\" >Snooker Table</td>\n",
       "      <td id=\"T_3895e_row4_col1\" class=\"data row4 col1\" >240.000000</td>\n",
       "    </tr>\n",
       "    <tr>\n",
       "      <td id=\"T_3895e_row5_col0\" class=\"data row5 col0\" >Squash Court</td>\n",
       "      <td id=\"T_3895e_row5_col1\" class=\"data row5 col1\" >13468.000000</td>\n",
       "    </tr>\n",
       "    <tr>\n",
       "      <td id=\"T_3895e_row6_col0\" class=\"data row6 col0\" >Table Tennis</td>\n",
       "      <td id=\"T_3895e_row6_col1\" class=\"data row6 col1\" >180.000000</td>\n",
       "    </tr>\n",
       "    <tr>\n",
       "      <td id=\"T_3895e_row7_col0\" class=\"data row7 col0\" >Tennis Court 1</td>\n",
       "      <td id=\"T_3895e_row7_col1\" class=\"data row7 col1\" >13860.000000</td>\n",
       "    </tr>\n",
       "    <tr>\n",
       "      <td id=\"T_3895e_row8_col0\" class=\"data row8 col0\" >Tennis Court 2</td>\n",
       "      <td id=\"T_3895e_row8_col1\" class=\"data row8 col1\" >14310.000000</td>\n",
       "    </tr>\n",
       "  </tbody>\n",
       "</table>\n"
      ],
      "text/plain": [
       "<pandas.io.formats.style.Styler at 0x2a5665bd940>"
      ]
     },
     "execution_count": 117,
     "metadata": {},
     "output_type": "execute_result"
    }
   ],
   "source": [
    "query = ''' WITH rev_prof AS \n",
    "            (SELECT f.name AS facility,\n",
    "            SUM(CASE WHEN bookings.memid != 0 THEN f.membercost * bookings.slots\n",
    "    \t            ELSE f.guestcost * bookings.slots END) AS revenue_per_fac\n",
    "            FROM facilities AS f\n",
    "            INNER JOIN bookings ON f.facid = bookings.facid\n",
    "            GROUP BY facility)\n",
    "            \n",
    "            SELECT * from rev_prof\n",
    "       '''\n",
    "\n",
    "df = pd.read_sql_query(query, conn)\n",
    "df.style.hide_index()            "
   ]
  },
  {
   "cell_type": "code",
   "execution_count": 118,
   "metadata": {},
   "outputs": [
    {
     "name": "stderr",
     "output_type": "stream",
     "text": [
      "C:\\Users\\avel8\\AppData\\Local\\Temp\\ipykernel_17608\\1357041888.py:16: FutureWarning: this method is deprecated in favour of `Styler.hide(axis='index')`\n",
      "  df.style.hide_index()\n"
     ]
    },
    {
     "data": {
      "text/html": [
       "<style type=\"text/css\">\n",
       "</style>\n",
       "<table id=\"T_db4e3\">\n",
       "  <thead>\n",
       "    <tr>\n",
       "      <th id=\"T_db4e3_level0_col0\" class=\"col_heading level0 col0\" >facility</th>\n",
       "      <th id=\"T_db4e3_level0_col1\" class=\"col_heading level0 col1\" >profit</th>\n",
       "    </tr>\n",
       "  </thead>\n",
       "  <tbody>\n",
       "    <tr>\n",
       "      <td id=\"T_db4e3_row0_col0\" class=\"data row0 col0\" >Massage Room 1</td>\n",
       "      <td id=\"T_db4e3_row0_col1\" class=\"data row0 col1\" >37351.600000</td>\n",
       "    </tr>\n",
       "    <tr>\n",
       "      <td id=\"T_db4e3_row1_col0\" class=\"data row1 col0\" >Squash Court</td>\n",
       "      <td id=\"T_db4e3_row1_col1\" class=\"data row1 col1\" >8228.000000</td>\n",
       "    </tr>\n",
       "    <tr>\n",
       "      <td id=\"T_db4e3_row2_col0\" class=\"data row2 col0\" >Tennis Court 2</td>\n",
       "      <td id=\"T_db4e3_row2_col1\" class=\"data row2 col1\" >5710.000000</td>\n",
       "    </tr>\n",
       "    <tr>\n",
       "      <td id=\"T_db4e3_row3_col0\" class=\"data row3 col0\" >Tennis Court 1</td>\n",
       "      <td id=\"T_db4e3_row3_col1\" class=\"data row3 col1\" >3260.000000</td>\n",
       "    </tr>\n",
       "    <tr>\n",
       "      <td id=\"T_db4e3_row4_col0\" class=\"data row4 col0\" >Massage Room 2</td>\n",
       "      <td id=\"T_db4e3_row4_col1\" class=\"data row4 col1\" >1454.600000</td>\n",
       "    </tr>\n",
       "    <tr>\n",
       "      <td id=\"T_db4e3_row5_col0\" class=\"data row5 col0\" >Table Tennis</td>\n",
       "      <td id=\"T_db4e3_row5_col1\" class=\"data row5 col1\" >-170.000000</td>\n",
       "    </tr>\n",
       "    <tr>\n",
       "      <td id=\"T_db4e3_row6_col0\" class=\"data row6 col0\" >Pool Table</td>\n",
       "      <td id=\"T_db4e3_row6_col1\" class=\"data row6 col1\" >-175.000000</td>\n",
       "    </tr>\n",
       "    <tr>\n",
       "      <td id=\"T_db4e3_row7_col0\" class=\"data row7 col0\" >Snooker Table</td>\n",
       "      <td id=\"T_db4e3_row7_col1\" class=\"data row7 col1\" >-255.000000</td>\n",
       "    </tr>\n",
       "    <tr>\n",
       "      <td id=\"T_db4e3_row8_col0\" class=\"data row8 col0\" >Badminton Court</td>\n",
       "      <td id=\"T_db4e3_row8_col1\" class=\"data row8 col1\" >-2243.500000</td>\n",
       "    </tr>\n",
       "  </tbody>\n",
       "</table>\n"
      ],
      "text/plain": [
       "<pandas.io.formats.style.Styler at 0x2a566089940>"
      ]
     },
     "execution_count": 118,
     "metadata": {},
     "output_type": "execute_result"
    }
   ],
   "source": [
    "# Total revenue and overall profitability for the July - September period \n",
    "\n",
    "query = ''' WITH rev_prof AS \n",
    "            (SELECT f.name AS facility,\n",
    "            SUM(CASE WHEN bookings.memid != 0 THEN f.membercost * bookings.slots\n",
    "    \t            ELSE f.guestcost * bookings.slots END) - (monthlymaintenance * 3) - (initialoutlay) AS profit\n",
    "            FROM facilities AS f\n",
    "            INNER JOIN bookings ON f.facid = bookings.facid\n",
    "            GROUP BY facility \n",
    "            ORDER BY profit DESC)\n",
    "            \n",
    "            SELECT * FROM rev_prof\n",
    "       '''\n",
    "\n",
    "df = pd.read_sql_query(query, conn)\n",
    "df.style.hide_index()       "
   ]
  },
  {
   "cell_type": "code",
   "execution_count": null,
   "metadata": {},
   "outputs": [],
   "source": [
    "# Total revenue and overall profitability for the July - September period \n",
    "\n",
    "query = ''' WITH rev_prof AS \n",
    "            (SELECT f.name AS facility,\n",
    "            SUM(CASE WHEN bookings.memid != 0 THEN f.membercost * bookings.slots\n",
    "    \t            ELSE f.guestcost * bookings.slots END) AS revenue_per_fac,\n",
    "            SUM(CASE WHEN bookings.memid != 0 THEN f.membercost * bookings.slots\n",
    "    \t            ELSE f.guestcost * bookings.slots END) - (monthlymaintenance * 3) - (initialoutlay) AS profit\n",
    "            FROM facilities AS f\n",
    "            INNER JOIN bookings ON f.facid = bookings.facid\n",
    "            GROUP BY facility \n",
    "            ORDER BY profit DESC),\n",
    "\n",
    "            expenses AS \n",
    "            (SELECT SUM(initialoutlay) AS total_outlay, SUM(monthlymaintenance * 3) AS total_maintenance\n",
    "            FROM facilities)\n",
    "            \n",
    "            \n",
    "            SELECT SUM(revenue_per_fac) AS total_revenue, \n",
    "                   total_outlay, total_maintenance, \n",
    "                   SUM(profit) AS total_profit\n",
    "            FROM rev_prof,\n",
    "                 expenses;\n",
    "       '''\n",
    "\n",
    "df = pd.read_sql_query(query, conn)\n",
    "df.style.hide_index()            "
   ]
  },
  {
   "cell_type": "code",
   "execution_count": null,
   "metadata": {},
   "outputs": [],
   "source": [
    "# Total revenue and overall profitability for the July - September period \n",
    "\n",
    "query = ''' WITH rev_prof AS \n",
    "            (SELECT f.name AS facility,\n",
    "            SUM(CASE WHEN bookings.memid != 0 THEN f.membercost * bookings.slots\n",
    "    \t            ELSE f.guestcost * bookings.slots END) AS revenue_per_fac,\n",
    "            SUM(CASE WHEN bookings.memid != 0 THEN f.membercost * bookings.slots\n",
    "    \t            ELSE f.guestcost * bookings.slots END) - (monthlymaintenance * 3) - (initialoutlay) AS profit\n",
    "            FROM facilities AS f\n",
    "            INNER JOIN bookings ON f.facid = bookings.facid\n",
    "            GROUP BY facility \n",
    "            ORDER BY profit DESC),\n",
    "\n",
    "            expenses AS \n",
    "            (SELECT SUM(initialoutlay) AS total_outlay, SUM(monthlymaintenance * 3) AS total_maintenance\n",
    "            FROM facilities)\n",
    "            \n",
    "            \n",
    "            SELECT SUM(revenue_per_fac) AS total_revenue, \n",
    "                   total_outlay, total_maintenance, \n",
    "                   SUM(profit) AS total_profit\n",
    "            FROM rev_prof,\n",
    "                 expenses;\n",
    "       '''\n",
    "\n",
    "df = pd.read_sql_query(query, conn)\n",
    "df.style.hide_index()"
   ]
  },
  {
   "cell_type": "markdown",
   "metadata": {},
   "source": [
    "Overall, we've made a profit of $53,160! Not bad for the first 3 months."
   ]
  },
  {
   "cell_type": "code",
   "execution_count": null,
   "metadata": {},
   "outputs": [],
   "source": [
    "# Examine the total revenue and profit for each facility for the period in question (July - Sep)\n",
    "# Revenue minus monthly maintenance(times 3) & initial investment (initial outlay) = profit\n"
   ]
  },
  {
   "cell_type": "code",
   "execution_count": null,
   "metadata": {},
   "outputs": [],
   "source": [
    "# Examine the total revenue and profit for each facility for the period in question (July - Sep)\n",
    "# Revenue minus monthly maintenance(times 3) & initial investment (initial outlay) = profit\n",
    "\n",
    "query = ''' SELECT f.name AS facility,\n",
    "            SUM(CASE WHEN bookings.memid != 0 THEN f.membercost * bookings.slots\n",
    "    \t            ELSE f.guestcost * bookings.slots END) AS revenue,\n",
    "            f.initialoutlay AS initial_investment,   \n",
    "            f.monthlymaintenance * 3 AS maintenance_for_period,     \n",
    "            SUM(CASE WHEN bookings.memid != 0 THEN f.membercost * bookings.slots\n",
    "    \t            ELSE f.guestcost * bookings.slots END) - (monthlymaintenance * 3) - (initialoutlay) AS profit\n",
    "            FROM Facilities AS f\n",
    "            INNER JOIN bookings ON f.facid = bookings.facid\n",
    "            GROUP BY facility \n",
    "            ORDER BY profit DESC;\n",
    "        '''\n",
    "\n",
    "df = pd.read_sql_query(query, conn)\n",
    "df.style.hide_index()"
   ]
  },
  {
   "cell_type": "markdown",
   "metadata": {},
   "source": [
    "The most profitable facilities are Massage Room 1, Squash Court and Tennis Court 2 for the time period noted.  In contrast, the facilities with the greatest loss for the time period are the Badminton Court, Snooker Table and Pool Table (in order of greatest to least). Contributors to loss in each of these facilities can be attributed to pricing for members and guests.  "
   ]
  },
  {
   "cell_type": "markdown",
   "metadata": {},
   "source": [
    "Our steepest loss (by far) is the Badminton Court.  This is because the initial investment was \\$4,000 (the same as the Massages Rooms). However, it's free for members and only \\$15 for guests. Whereas the Massage Room is \\$10 for members and \\$80 for guests. The monthly maintenance for the Badminton Court is only \\$50 vs \\$3000 for the Massage Rooms, so we expect it to become profitable over time due to low mainatenance cost. However we may want to look into increasing the price. "
   ]
  },
  {
   "cell_type": "markdown",
   "metadata": {},
   "source": [
    "Let's take a look at the average amount of bookings per member:"
   ]
  },
  {
   "cell_type": "code",
   "execution_count": null,
   "metadata": {},
   "outputs": [],
   "source": [
    "# The count of bookings divided by the count of unique member id's\n",
    "\n",
    "query = ''' SELECT (COUNT(b.bookid) / COUNT(DISTINCT memid)) AS bookings_per_member\n",
    "            FROM bookings AS b;\n",
    "            \n",
    "        '''\n",
    "\n",
    "\n",
    "df = pd.read_sql_query(query, conn)\n",
    "df.style.hide_index()"
   ]
  },
  {
   "cell_type": "markdown",
   "metadata": {},
   "source": [
    "Let's calculate the revenue per member:"
   ]
  },
  {
   "cell_type": "code",
   "execution_count": null,
   "metadata": {},
   "outputs": [],
   "source": [
    "# Total revenue divided by total members \n",
    "\n",
    "query = ''' WITH revenue AS \n",
    "            (SELECT f.name AS facility,\n",
    "            SUM(CASE WHEN bookings.memid != 0 THEN f.membercost * bookings.slots\n",
    "    \t            ELSE f.guestcost * bookings.slots END) AS revenue_per_fac\n",
    "            FROM Facilities AS f\n",
    "            INNER JOIN bookings ON f.facid = bookings.facid\n",
    "            GROUP BY facility),\n",
    "\n",
    "            member_count AS\n",
    "            (SELECT COUNT(DISTINCT m.memid) AS mem\n",
    "            FROM members AS m\n",
    "            WHERE m.memid != 0 )\n",
    "\n",
    "            SELECT (SUM(revenue_per_fac) /  mem)  AS revenue_per_member\n",
    "            FROM revenue,\n",
    "            member_count;\n",
    "            \n",
    "        '''\n",
    "\n",
    "df = pd.read_sql_query(query, conn)\n",
    "df.style.hide_index()"
   ]
  },
  {
   "cell_type": "markdown",
   "metadata": {},
   "source": [
    "Let's calculate the revenue per booking:"
   ]
  },
  {
   "cell_type": "code",
   "execution_count": null,
   "metadata": {},
   "outputs": [],
   "source": [
    "# Total revenue divided by total bookings \n",
    "\n",
    "query = ''' WITH revenue AS \n",
    "            (SELECT f.name AS facility,\n",
    "            SUM(CASE WHEN bookings.memid != 0 THEN f.membercost * bookings.slots\n",
    "    \t            ELSE f.guestcost * bookings.slots END) AS revenue_per_fac\n",
    "            FROM Facilities AS f\n",
    "            INNER JOIN bookings ON f.facid = bookings.facid\n",
    "            GROUP BY facility),\n",
    "\n",
    "            booking_count AS\n",
    "            (SELECT COUNT(DISTINCT bookid) AS count_\n",
    "            FROM bookings)\n",
    "\n",
    "            SELECT (SUM(revenue_per_fac) / count_) AS revenue_per_booking\n",
    "            FROM revenue,\n",
    "            booking_count;\n",
    "            \n",
    "        '''\n",
    "\n",
    "df = pd.read_sql_query(query, conn)\n",
    "df.style.hide_index()"
   ]
  },
  {
   "cell_type": "markdown",
   "metadata": {},
   "source": [
    "Excellent! \n",
    "\n",
    "We are making \\$3,634 per member and $27 per booking."
   ]
  },
  {
   "cell_type": "markdown",
   "metadata": {},
   "source": [
    "Now that we've examined our revenue/profit, let's make some more inquiries:"
   ]
  },
  {
   "cell_type": "code",
   "execution_count": null,
   "metadata": {},
   "outputs": [],
   "source": [
    "# We are considering making some design changes to the the tennis courts. \n",
    "# Let's produce a list of all members who have used a tennis court to send out a phone survey. \n",
    "\n",
    "query = '''SELECT DISTINCT m.firstname || ' ' || m.surname AS name,\n",
    "                  m.telephone AS contact,\n",
    "\t\t          Facilities.name AS facility\n",
    "            FROM Members AS m \n",
    "            JOIN Bookings ON m.memid = Bookings.memid\n",
    "            JOIN Facilities ON Facilities.facid = Bookings.facid\n",
    "            WHERE Facilities.name LIKE 'Tennis%' AND m.firstname NOT LIKE 'Guest%'\n",
    "            GROUP BY m.firstname\n",
    "            ORDER BY name;\n",
    "        '''\n",
    "\n",
    "\n",
    "df = pd.read_sql_query(query, conn)\n",
    "df.style.hide_index()"
   ]
  },
  {
   "cell_type": "code",
   "execution_count": null,
   "metadata": {},
   "outputs": [],
   "source": [
    "# We would like to send out appreciation cards to members who have recommended others who in turn became new members!\n",
    "# Let's produce a report of members and those who recommended them in alphabetical order\n",
    "\n",
    "query = '''SELECT m.firstname || ' ' || m.surname AS 'new member',\n",
    "\t\t  m1.firstname || ' ' || m1.surname AS 'recommended by',\n",
    "                  m1.address \n",
    "           FROM Members as m\n",
    "           INNER JOIN Members as m1 \n",
    "           ON m.recommendedby = m1.memid\n",
    "           WHERE m1.memid != 0\n",
    "           ORDER BY m.surname, m.firstname;\n",
    "        '''\n",
    "\n",
    "df = pd.read_sql_query(query, conn)\n",
    "df.style.hide_index()"
   ]
  },
  {
   "cell_type": "code",
   "execution_count": null,
   "metadata": {},
   "outputs": [],
   "source": [
    "# We would like to find the most popular facilities amongst our members\n",
    "# Let's produce a list of the facilities with their total usage (booking count) over the 3 month period (guests not included)\n",
    "\n",
    "query = ''' SELECT f.name AS 'Name', \n",
    "                   b.total AS Booking_count\n",
    "            FROM Facilities AS f\n",
    "            LEFT JOIN (SELECT facid, COUNT(bookid) AS total\n",
    "            FROM Bookings AS b\n",
    "            WHERE memid != 0\n",
    "            GROUP BY facid) AS b \n",
    "            ON f.facid = b.facid\n",
    "            ORDER BY Booking_count DESC;\n",
    "        '''\n",
    "\n",
    "\n",
    "df = pd.read_sql_query(query, conn)\n",
    "df.style.hide_index()"
   ]
  },
  {
   "cell_type": "code",
   "execution_count": null,
   "metadata": {},
   "outputs": [],
   "source": [
    "# Now let's find the most popular facilities amongst our members per month!\n",
    "\n",
    "query = ''' SELECT CASE WHEN strftime('%m', b.starttime) = '07' THEN 'July'\n",
    "                        WHEN strftime('%m', b.starttime) = '08' THEN 'August'\n",
    "                        ELSE 'September' END AS Month, \n",
    "                    f.name AS Facility, \n",
    "                    COUNT(b.slots) AS Monthly_Usage\n",
    "            FROM Bookings AS b\n",
    "            LEFT JOIN Facilities AS f \n",
    "            ON f.facid = b.facid\n",
    "            WHERE b.memid != 0      \n",
    "            GROUP BY f.name, month \n",
    "            ORDER BY strftime('%m', b.starttime), Monthly_Usage DESC;\n",
    "        '''\n",
    "\n",
    "\n",
    "df = pd.read_sql_query(query, conn)\n",
    "df.style.hide_index()"
   ]
  },
  {
   "cell_type": "markdown",
   "metadata": {},
   "source": [
    "The Pool Tabel is consistently the most popular facility. This might be due to its low cost, popularity as a game, and the ability for people to socialize while playling. "
   ]
  },
  {
   "cell_type": "code",
   "execution_count": null,
   "metadata": {},
   "outputs": [],
   "source": [
    "# Let's view all bookings for September 14 where the booking cost was over $30\n",
    "\n",
    "query = ''' SELECT b.bookid,\n",
    "                   firstname || ' ' || surname AS Name,\n",
    "                   f.name AS facility,\n",
    "            CASE WHEN b.memid = 0 THEN f.guestcost * b.slots\n",
    "                 ELSE f.membercost * b.slots END AS cost_of_booking\n",
    "            FROM bookings AS b \n",
    "            JOIN facilities AS f ON b.facid = f.facid\n",
    "            JOIN members AS m ON b.memid = m.memid\n",
    "            WHERE b.starttime LIKE '2012-09-14%' AND cost_of_booking > 30\n",
    "            ORDER BY cost_of_booking DESC;\n",
    "        '''\n",
    "\n",
    "\n",
    "df = pd.read_sql_query(query, conn)\n",
    "df.style.hide_index()\n"
   ]
  },
  {
   "cell_type": "markdown",
   "metadata": {},
   "source": [
    "On any given day, our guests pay more for services. This is simply because the pricing is significantly higher for non-members. "
   ]
  }
 ],
 "metadata": {
  "kernelspec": {
   "display_name": "Python 3 (ipykernel)",
   "language": "python",
   "name": "python3"
  },
  "language_info": {
   "codemirror_mode": {
    "name": "ipython",
    "version": 3
   },
   "file_extension": ".py",
   "mimetype": "text/x-python",
   "name": "python",
   "nbconvert_exporter": "python",
   "pygments_lexer": "ipython3",
   "version": "3.9.12"
  },
  "toc": {
   "base_numbering": 1,
   "nav_menu": {},
   "number_sections": true,
   "sideBar": true,
   "skip_h1_title": false,
   "title_cell": "Table of Contents",
   "title_sidebar": "Contents",
   "toc_cell": false,
   "toc_position": {},
   "toc_section_display": true,
   "toc_window_display": false
  }
 },
 "nbformat": 4,
 "nbformat_minor": 4
}
